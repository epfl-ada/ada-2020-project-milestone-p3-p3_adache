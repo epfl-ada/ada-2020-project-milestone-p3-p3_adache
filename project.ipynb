{
 "cells": [
  {
   "cell_type": "code",
   "execution_count": 2,
   "metadata": {},
   "outputs": [],
   "source": [
    "import pandas as pd\n",
    "import numpy as np"
   ]
  },
  {
   "cell_type": "markdown",
   "metadata": {},
   "source": [
    "# 0. Data Wrangling"
   ]
  },
  {
   "cell_type": "markdown",
   "metadata": {},
   "source": [
    "Google Trends allows the interest *per day* iff the requested timeframe is of length of max 1 year. \n",
    "\n",
    "Therefore, we're going to do one request for each year for each keyword, from 2004 until 2020, and merge all the datasets using the external API `pytrends`.\n",
    "\n",
    "Installation : `pip install pytrends`"
   ]
  },
  {
   "cell_type": "markdown",
   "metadata": {},
   "source": [
    "We import the data from google trends and S&P500 stock markets. Both data are imported the same day"
   ]
  },
  {
   "cell_type": "code",
   "execution_count": 5,
   "metadata": {},
   "outputs": [],
   "source": [
    "from pytrends.request import TrendReq\n",
    "\n",
    "pytrends = TrendReq(hl='en-US', timeout=(20,60), tz=360)"
   ]
  },
  {
   "cell_type": "code",
   "execution_count": 6,
   "metadata": {},
   "outputs": [],
   "source": [
    "## Helper functions\n",
    "\n",
    "def add_year(date):\n",
    "    if is_leap_year(date.year):\n",
    "        delta = datetime.timedelta(days=366)\n",
    "    else:\n",
    "        delta = datetime.timedelta(days=365)\n",
    "    return date + delta\n",
    "\n",
    "def is_leap_year(year):\n",
    "    if (year % 4) == 0:\n",
    "        if (year % 100) == 0:\n",
    "            if (year % 400) == 0:\n",
    "                return True\n",
    "            else:\n",
    "                return False\n",
    "        else:\n",
    "            return True\n",
    "    else:\n",
    "        return False"
   ]
  },
  {
   "cell_type": "code",
   "execution_count": 7,
   "metadata": {},
   "outputs": [],
   "source": [
    "import requests\n",
    "import time\n",
    "import datetime\n",
    "import pandas as pd\n",
    "\n",
    "'''\n",
    "Download and save as csv the Google US Trends, interests by week, for 1 selected keyword for the period of 2004-today\n",
    "'''\n",
    "def dl_interest_for_keyword(keyword):\n",
    "    kw_list = [keyword] # List of keywords. We're using only 1 for each method execution\n",
    "    dataframes = []     # List of df for each year\n",
    "    start = datetime.datetime(2004,1,1) \n",
    "    current_year = start\n",
    "\n",
    "    # Make a request for each year\n",
    "    for i in range(2020-2004+1):\n",
    "        timeframe = str(current_year.year)+'-01-01 ' + str(current_year.year) + '-12-31'\n",
    "        try:\n",
    "            pytrends.build_payload(kw_list, cat=0, timeframe=timeframe, geo='US', gprop='')\n",
    "            print('Downloading ' + str(current_year.year) + ' data...',end='')\n",
    "            df = pytrends.interest_over_time()\n",
    "            print('OK')\n",
    "            dataframes.append(df)\n",
    "            time.sleep(1) # Sleep to avoid 429, may or may not be necessary\n",
    "            current_year=add_year(current_year)\n",
    "        except requests.exceptions.Timeout:\n",
    "            print('TIMEOUT')\n",
    "\n",
    "    # Merge the datasets of all years\n",
    "    df_merged = pd.concat(dataframes)\n",
    "    df_merged.drop('isPartial',inplace=True,axis=1)\n",
    "\n",
    "    # Save to a .csv named as the keyword \n",
    "    df_merged.to_csv(keyword +'.csv', header='interest', index_label='date')\n",
    "    print('Saved as `' + keyword +'.csv'+'`')"
   ]
  },
  {
   "cell_type": "code",
   "execution_count": 8,
   "metadata": {},
   "outputs": [
    {
     "name": "stdout",
     "output_type": "stream",
     "text": [
      "Downloading 2004 data...OK\n",
      "Downloading 2005 data...OK\n",
      "Downloading 2006 data...OK\n",
      "Downloading 2007 data...OK\n",
      "Downloading 2008 data...OK\n",
      "Downloading 2009 data...OK\n",
      "Downloading 2010 data...OK\n",
      "Downloading 2011 data...OK\n",
      "Downloading 2012 data...OK\n",
      "Downloading 2013 data...OK\n",
      "Downloading 2014 data...OK\n",
      "Downloading 2015 data...OK\n",
      "Downloading 2016 data...OK\n",
      "Downloading 2017 data...OK\n",
      "Downloading 2018 data...OK\n",
      "Downloading 2019 data...OK\n",
      "Downloading 2020 data...OK\n",
      "Saved as `stocks to buy.csv`\n"
     ]
    }
   ],
   "source": [
    "dl_interest_for_keyword('stocks to buy')"
   ]
  },
  {
   "cell_type": "markdown",
   "metadata": {},
   "source": [
    "# 0.1 Importing Google Trends Data"
   ]
  },
  {
   "cell_type": "markdown",
   "metadata": {},
   "source": [
    "interesting keywords for Google trends:\n",
    "- debt\n",
    "- stocks\n",
    "- inflation\n",
    "- portfolio\n",
    "- housing\n",
    "\n",
    "- revenues\n",
    "- employment\n",
    "- unemployment\n",
    "- leverage\n",
    "- credit\n",
    "\n",
    "- return\n",
    "- bonds\n",
    "- economics\n",
    "- religion\n",
    "- money\n",
    "\n",
    "- profit\n",
    "- investment\n",
    "- gains\n",
    "- cancer\n",
    "- marriage\n",
    "\n",
    "- buy\n",
    "- hold\n",
    "- headlines\n",
    "- present\n",
    "- crisis\n",
    "\n",
    "- society\n",
    "- gross\n",
    "- loss\n",
    "- hedge\n",
    "- nasdaq\n",
    "\n",
    "- cash\n",
    "- short sell\n",
    "- greed\n",
    "- gain\n",
    "- happy\n",
    "\n",
    "- financial markets\n",
    "- finance\n",
    "- house\n",
    "- water\n",
    "- rich\n",
    "\n",
    "- risk\n",
    "- oil\n",
    "- opportunity\n",
    "- golf\n",
    "- invest\n",
    "\n",
    "- success\n",
    "- economy\n",
    "- food\n",
    "- war\n",
    "- consume\n",
    "\n",
    "- nyse\n",
    "- movie\n",
    "- health\n",
    "- consumption\n",
    "- transaction\n",
    "\n",
    "- environment\n",
    "- fond\n",
    "\n",
    "- spdr\n",
    "- buy spdr\n",
    "\n",
    "Adding companies that belong to S&P500 (https://fknol.com/list/market-cap-sp-500-index-companies.php)\n",
    "\n",
    "- apple\n",
    "- microsoft\n",
    "- amazon\n",
    "\n",
    "- alphabet\n",
    "- google\n",
    "- facebook\n",
    "- berkshire\n",
    "- visa\n",
    "\n",
    "- walmart\n",
    "- johnson\n",
    "- j p morgan\n",
    "- procter and gamble\n",
    "- mastercard\n",
    "\n",
    "- nvidia\n",
    "- united health\n",
    "- home depot\n",
    "- walt disney\n",
    "- verizon communications\n",
    "\n",
    "- paypal\n",
    "- bank of america\n",
    "- comcast\n",
    "- adobe\n",
    "- coca cola\n",
    "\n",
    "- pfizer\n",
    "- netflix\n",
    "- nike\n",
    "- intel\n",
    "- at&t\n",
    "\n",
    "- merck\n",
    "- salesforce\n",
    "- pepsico\n",
    "- abbott labs\n",
    "- cisco\n",
    "\n",
    "- oracle\n",
    "- mcdonalds\n",
    "- medtronic\n"
   ]
  },
  {
   "cell_type": "code",
   "execution_count": 812,
   "metadata": {},
   "outputs": [],
   "source": [
    "import glob\n",
    "\n",
    "all_files = glob.glob(\"data/Keywords_US_Weekly/*\")\n",
    "\n",
    "dfs = []\n",
    "\n",
    "for filename in all_files:\n",
    "    df =  pd.read_csv(filename,index_col='date')\n",
    "    dfs.append(df)\n",
    "    \n",
    "df = pd.concat(dfs, axis=1)"
   ]
  },
  {
   "cell_type": "code",
   "execution_count": 813,
   "metadata": {
    "scrolled": true
   },
   "outputs": [
    {
     "data": {
      "text/html": [
       "<div>\n",
       "<style scoped>\n",
       "    .dataframe tbody tr th:only-of-type {\n",
       "        vertical-align: middle;\n",
       "    }\n",
       "\n",
       "    .dataframe tbody tr th {\n",
       "        vertical-align: top;\n",
       "    }\n",
       "\n",
       "    .dataframe thead th {\n",
       "        text-align: right;\n",
       "    }\n",
       "</style>\n",
       "<table border=\"1\" class=\"dataframe\">\n",
       "  <thead>\n",
       "    <tr style=\"text-align: right;\">\n",
       "      <th></th>\n",
       "      <th>mastercard</th>\n",
       "      <th>google</th>\n",
       "      <th>housing</th>\n",
       "      <th>pepsico</th>\n",
       "      <th>invest</th>\n",
       "      <th>hedge</th>\n",
       "      <th>bonds</th>\n",
       "      <th>revenues</th>\n",
       "      <th>finance</th>\n",
       "      <th>berkshire</th>\n",
       "      <th>...</th>\n",
       "      <th>opportunity</th>\n",
       "      <th>happy</th>\n",
       "      <th>health</th>\n",
       "      <th>mcdonalds</th>\n",
       "      <th>movie</th>\n",
       "      <th>return</th>\n",
       "      <th>comcast</th>\n",
       "      <th>medtronic</th>\n",
       "      <th>johnson</th>\n",
       "      <th>stocks</th>\n",
       "    </tr>\n",
       "    <tr>\n",
       "      <th>date</th>\n",
       "      <th></th>\n",
       "      <th></th>\n",
       "      <th></th>\n",
       "      <th></th>\n",
       "      <th></th>\n",
       "      <th></th>\n",
       "      <th></th>\n",
       "      <th></th>\n",
       "      <th></th>\n",
       "      <th></th>\n",
       "      <th></th>\n",
       "      <th></th>\n",
       "      <th></th>\n",
       "      <th></th>\n",
       "      <th></th>\n",
       "      <th></th>\n",
       "      <th></th>\n",
       "      <th></th>\n",
       "      <th></th>\n",
       "      <th></th>\n",
       "      <th></th>\n",
       "    </tr>\n",
       "  </thead>\n",
       "  <tbody>\n",
       "    <tr>\n",
       "      <th>2004-01-04</th>\n",
       "      <td>63</td>\n",
       "      <td>56</td>\n",
       "      <td>75</td>\n",
       "      <td>27</td>\n",
       "      <td>77</td>\n",
       "      <td>69</td>\n",
       "      <td>81</td>\n",
       "      <td>36</td>\n",
       "      <td>91</td>\n",
       "      <td>55</td>\n",
       "      <td>...</td>\n",
       "      <td>42</td>\n",
       "      <td>62</td>\n",
       "      <td>99</td>\n",
       "      <td>55</td>\n",
       "      <td>82</td>\n",
       "      <td>94</td>\n",
       "      <td>75</td>\n",
       "      <td>66</td>\n",
       "      <td>25</td>\n",
       "      <td>89</td>\n",
       "    </tr>\n",
       "    <tr>\n",
       "      <th>2004-01-11</th>\n",
       "      <td>68</td>\n",
       "      <td>55</td>\n",
       "      <td>90</td>\n",
       "      <td>33</td>\n",
       "      <td>63</td>\n",
       "      <td>69</td>\n",
       "      <td>81</td>\n",
       "      <td>29</td>\n",
       "      <td>93</td>\n",
       "      <td>28</td>\n",
       "      <td>...</td>\n",
       "      <td>42</td>\n",
       "      <td>64</td>\n",
       "      <td>99</td>\n",
       "      <td>56</td>\n",
       "      <td>79</td>\n",
       "      <td>91</td>\n",
       "      <td>74</td>\n",
       "      <td>44</td>\n",
       "      <td>26</td>\n",
       "      <td>97</td>\n",
       "    </tr>\n",
       "    <tr>\n",
       "      <th>2004-01-18</th>\n",
       "      <td>61</td>\n",
       "      <td>62</td>\n",
       "      <td>81</td>\n",
       "      <td>22</td>\n",
       "      <td>59</td>\n",
       "      <td>70</td>\n",
       "      <td>77</td>\n",
       "      <td>50</td>\n",
       "      <td>85</td>\n",
       "      <td>48</td>\n",
       "      <td>...</td>\n",
       "      <td>34</td>\n",
       "      <td>69</td>\n",
       "      <td>98</td>\n",
       "      <td>46</td>\n",
       "      <td>78</td>\n",
       "      <td>83</td>\n",
       "      <td>80</td>\n",
       "      <td>61</td>\n",
       "      <td>26</td>\n",
       "      <td>100</td>\n",
       "    </tr>\n",
       "    <tr>\n",
       "      <th>2004-01-25</th>\n",
       "      <td>50</td>\n",
       "      <td>57</td>\n",
       "      <td>78</td>\n",
       "      <td>1</td>\n",
       "      <td>65</td>\n",
       "      <td>65</td>\n",
       "      <td>72</td>\n",
       "      <td>88</td>\n",
       "      <td>97</td>\n",
       "      <td>31</td>\n",
       "      <td>...</td>\n",
       "      <td>100</td>\n",
       "      <td>60</td>\n",
       "      <td>98</td>\n",
       "      <td>62</td>\n",
       "      <td>77</td>\n",
       "      <td>87</td>\n",
       "      <td>72</td>\n",
       "      <td>40</td>\n",
       "      <td>25</td>\n",
       "      <td>93</td>\n",
       "    </tr>\n",
       "    <tr>\n",
       "      <th>2004-02-01</th>\n",
       "      <td>77</td>\n",
       "      <td>57</td>\n",
       "      <td>78</td>\n",
       "      <td>64</td>\n",
       "      <td>62</td>\n",
       "      <td>67</td>\n",
       "      <td>75</td>\n",
       "      <td>49</td>\n",
       "      <td>96</td>\n",
       "      <td>30</td>\n",
       "      <td>...</td>\n",
       "      <td>46</td>\n",
       "      <td>57</td>\n",
       "      <td>93</td>\n",
       "      <td>62</td>\n",
       "      <td>70</td>\n",
       "      <td>90</td>\n",
       "      <td>58</td>\n",
       "      <td>77</td>\n",
       "      <td>27</td>\n",
       "      <td>77</td>\n",
       "    </tr>\n",
       "  </tbody>\n",
       "</table>\n",
       "<p>5 rows × 86 columns</p>\n",
       "</div>"
      ],
      "text/plain": [
       "            mastercard  google  housing  pepsico  invest  hedge  bonds  \\\n",
       "date                                                                     \n",
       "2004-01-04          63      56       75       27      77     69     81   \n",
       "2004-01-11          68      55       90       33      63     69     81   \n",
       "2004-01-18          61      62       81       22      59     70     77   \n",
       "2004-01-25          50      57       78        1      65     65     72   \n",
       "2004-02-01          77      57       78       64      62     67     75   \n",
       "\n",
       "            revenues  finance  berkshire  ...  opportunity  happy  health  \\\n",
       "date                                      ...                               \n",
       "2004-01-04        36       91         55  ...           42     62      99   \n",
       "2004-01-11        29       93         28  ...           42     64      99   \n",
       "2004-01-18        50       85         48  ...           34     69      98   \n",
       "2004-01-25        88       97         31  ...          100     60      98   \n",
       "2004-02-01        49       96         30  ...           46     57      93   \n",
       "\n",
       "            mcdonalds  movie  return  comcast  medtronic  johnson  stocks  \n",
       "date                                                                       \n",
       "2004-01-04         55     82      94       75         66       25      89  \n",
       "2004-01-11         56     79      91       74         44       26      97  \n",
       "2004-01-18         46     78      83       80         61       26     100  \n",
       "2004-01-25         62     77      87       72         40       25      93  \n",
       "2004-02-01         62     70      90       58         77       27      77  \n",
       "\n",
       "[5 rows x 86 columns]"
      ]
     },
     "execution_count": 813,
     "metadata": {},
     "output_type": "execute_result"
    }
   ],
   "source": [
    "df = df.replace(0,1)\n",
    "df.head()"
   ]
  },
  {
   "cell_type": "markdown",
   "metadata": {},
   "source": [
    "- Compute percentage change in a cell in comparison to previous month according to [Quantifying Trading Behavior in Financial Markets Using Google Trends](https://www.nature.com/articles/srep01684).\n",
    "- Set first week to zero\n",
    "- **TODO** Handle inf values. Replace them by the max value of the dataset ? "
   ]
  },
  {
   "cell_type": "code",
   "execution_count": 814,
   "metadata": {
    "scrolled": false
   },
   "outputs": [],
   "source": [
    "#df = df.pct_change(periods=1) # Computes the percentage change from the previous row. Applies to *all* rows\n",
    "#df.iloc[0,:]=0\n",
    "#df"
   ]
  },
  {
   "cell_type": "markdown",
   "metadata": {},
   "source": [
    "# 0.2 Importing S&P500 data"
   ]
  },
  {
   "cell_type": "code",
   "execution_count": 815,
   "metadata": {},
   "outputs": [],
   "source": [
    "stocks = pd.read_csv('data/sp500_data.csv')\n",
    "stocks['Date'] = pd.to_datetime(stocks['Date'], format='%d/%m/%Y')\n",
    "stocks=stocks.set_index('Date')\n",
    "stocks = stocks.iloc[1:,:]"
   ]
  },
  {
   "cell_type": "markdown",
   "metadata": {},
   "source": [
    "# 0.3 Visualization"
   ]
  },
  {
   "cell_type": "markdown",
   "metadata": {},
   "source": [
    "Let's plot the autocorrelation function to see with which lag values our prices are correlated."
   ]
  },
  {
   "cell_type": "code",
   "execution_count": 816,
   "metadata": {
    "scrolled": true
   },
   "outputs": [
    {
     "data": {
      "image/png": "[encoded data removed]",
      "text/plain": [
       "<Figure size 432x288 with 1 Axes>"
      ]
     },
     "metadata": {
      "needs_background": "light"
     },
     "output_type": "display_data"
    }
   ],
   "source": [
    "from pandas import read_csv\n",
    "from matplotlib import pyplot\n",
    "from statsmodels.graphics.tsaplots import plot_pacf\n",
    "\n",
    "\n",
    "plot_pacf(stocks['Adj Close'], lags=20)\n",
    "pyplot.show()"
   ]
  },
  {
   "cell_type": "markdown",
   "metadata": {},
   "source": [
    "We can see that the PACF becomes almost silent after lag(1). This means that an AR model is best in our situation in comparison with MA model. See [PSU Stat510: PACF](https://online.stat.psu.edu/stat510/lesson/2/2.2)"
   ]
  },
  {
   "cell_type": "code",
   "execution_count": 817,
   "metadata": {
    "scrolled": true
   },
   "outputs": [
    {
     "data": {
      "image/png": "[encoded data removed]",
      "text/plain": [
       "<Figure size 864x288 with 1 Axes>"
      ]
     },
     "metadata": {
      "needs_background": "light"
     },
     "output_type": "display_data"
    }
   ],
   "source": [
    "import matplotlib.pyplot as plt \n",
    "plt.figure(figsize=(12, 4))\n",
    "plt.plot((stocks['Adj Close']-stocks['Adj Close'].shift())[1:])\n",
    "plt.title('S&P 500 First Difference')\n",
    "plt.show()"
   ]
  },
  {
   "cell_type": "markdown",
   "metadata": {},
   "source": [
    "In 2008, 2009 and in February/March 2020 which correspond to stock market crashes, we observe an exponential behaviour. To avoid that these periods overinfluence our models due to their high variance, we're going to apply the natural logarithm function to our values. "
   ]
  },
  {
   "cell_type": "code",
   "execution_count": 818,
   "metadata": {
    "scrolled": false
   },
   "outputs": [
    {
     "data": {
      "image/png": "[encoded data removed]",
      "text/plain": [
       "<Figure size 432x288 with 1 Axes>"
      ]
     },
     "metadata": {
      "needs_background": "light"
     },
     "output_type": "display_data"
    }
   ],
   "source": [
    "from pandas import read_csv\n",
    "from matplotlib import pyplot as plt\n",
    "from statsmodels.graphics.tsaplots import plot_acf\n",
    "\n",
    "series = stocks['Adj Close']\n",
    "plot_acf(series, lags=100)\n",
    "plt.show()"
   ]
  },
  {
   "cell_type": "markdown",
   "metadata": {},
   "source": [
    "The ACF is decreasing linearly with the number of lags. "
   ]
  },
  {
   "cell_type": "markdown",
   "metadata": {},
   "source": [
    "https://dspace.mit.edu/bitstream/handle/1721.1/55206/609415506-MIT.pdf?sequence=2&isAllowed=y"
   ]
  },
  {
   "cell_type": "markdown",
   "metadata": {},
   "source": [
    "#### Seasonality"
   ]
  },
  {
   "cell_type": "code",
   "execution_count": 819,
   "metadata": {
    "scrolled": false
   },
   "outputs": [
    {
     "data": {
      "image/png": "[encoded data removed]",
      "text/plain": [
       "<Figure size 936x648 with 4 Axes>"
      ]
     },
     "metadata": {
      "needs_background": "light"
     },
     "output_type": "display_data"
    }
   ],
   "source": [
    "from statsmodels.tsa.seasonal import seasonal_decompose\n",
    "sd = seasonal_decompose(stocks['Adj Close'], model='additive', period=52)  \n",
    "#plt.figure(figsize=(12, 10))\n",
    "fig = sd.plot()\n",
    "fig.set_size_inches(13,9)\n",
    "plt.show()"
   ]
  },
  {
   "cell_type": "markdown",
   "metadata": {},
   "source": [
    "There doesn't seem to be any significant yearly or weekly seasonality. Let's check the monthly seasonality. "
   ]
  },
  {
   "cell_type": "code",
   "execution_count": 820,
   "metadata": {},
   "outputs": [],
   "source": [
    "stocks['m'] = stocks.index.month"
   ]
  },
  {
   "cell_type": "code",
   "execution_count": 821,
   "metadata": {
    "scrolled": false
   },
   "outputs": [
    {
     "data": {
      "text/plain": [
       "<AxesSubplot:xlabel='m'>"
      ]
     },
     "execution_count": 821,
     "metadata": {},
     "output_type": "execute_result"
    },
    {
     "data": {
      "image/png": "[encoded data removed]",
      "text/plain": [
       "<Figure size 432x288 with 1 Axes>"
      ]
     },
     "metadata": {
      "needs_background": "light"
     },
     "output_type": "display_data"
    }
   ],
   "source": [
    "stocks.groupby('m')['Adj Close'].mean().plot.bar()"
   ]
  },
  {
   "cell_type": "markdown",
   "metadata": {},
   "source": [
    "There is a weak monthly seasonality. "
   ]
  },
  {
   "cell_type": "markdown",
   "metadata": {},
   "source": [
    "# 0.4 Preprocessing"
   ]
  },
  {
   "cell_type": "markdown",
   "metadata": {},
   "source": [
    "#### Applying logn"
   ]
  },
  {
   "cell_type": "code",
   "execution_count": 822,
   "metadata": {},
   "outputs": [],
   "source": [
    "import math \n",
    "stocks['Log Adj Close'] = list(map(lambda x: math.log1p(x), stocks['Adj Close'].values))"
   ]
  },
  {
   "cell_type": "code",
   "execution_count": 823,
   "metadata": {
    "scrolled": false
   },
   "outputs": [
    {
     "data": {
      "text/plain": [
       "<AxesSubplot:xlabel='Date'>"
      ]
     },
     "execution_count": 823,
     "metadata": {},
     "output_type": "execute_result"
    },
    {
     "data": {
      "image/png": "[encoded data removed]",
      "text/plain": [
       "<Figure size 432x288 with 1 Axes>"
      ]
     },
     "metadata": {
      "needs_background": "light"
     },
     "output_type": "display_data"
    }
   ],
   "source": [
    "stocks['Log Adj Close'].plot()"
   ]
  },
  {
   "cell_type": "code",
   "execution_count": 824,
   "metadata": {
    "scrolled": false
   },
   "outputs": [
    {
     "data": {
      "text/plain": [
       "<AxesSubplot:xlabel='Date'>"
      ]
     },
     "execution_count": 824,
     "metadata": {},
     "output_type": "execute_result"
    },
    {
     "data": {
      "image/png": "[encoded data removed]",
      "text/plain": [
       "<Figure size 432x288 with 1 Axes>"
      ]
     },
     "metadata": {
      "needs_background": "light"
     },
     "output_type": "display_data"
    }
   ],
   "source": [
    "stocks['Adj Close'].plot()"
   ]
  },
  {
   "cell_type": "markdown",
   "metadata": {},
   "source": [
    "#### Resampling"
   ]
  },
  {
   "cell_type": "markdown",
   "metadata": {},
   "source": [
    "The closing stock price is generally considered as an accurate market signal. (See [Closing Price](https://www.investopedia.com/terms/c/closingprice.asp)). Thereafter we'll only consider the Adjusted Closing value of each trading week."
   ]
  },
  {
   "cell_type": "code",
   "execution_count": 825,
   "metadata": {
    "scrolled": true
   },
   "outputs": [],
   "source": [
    "keep_last = lambda x: x.tail(1)"
   ]
  },
  {
   "cell_type": "code",
   "execution_count": 826,
   "metadata": {
    "scrolled": false
   },
   "outputs": [
    {
     "data": {
      "text/html": [
       "<div>\n",
       "<style scoped>\n",
       "    .dataframe tbody tr th:only-of-type {\n",
       "        vertical-align: middle;\n",
       "    }\n",
       "\n",
       "    .dataframe tbody tr th {\n",
       "        vertical-align: top;\n",
       "    }\n",
       "\n",
       "    .dataframe thead th {\n",
       "        text-align: right;\n",
       "    }\n",
       "</style>\n",
       "<table border=\"1\" class=\"dataframe\">\n",
       "  <thead>\n",
       "    <tr style=\"text-align: right;\">\n",
       "      <th></th>\n",
       "      <th>Open</th>\n",
       "      <th>High</th>\n",
       "      <th>Low</th>\n",
       "      <th>Close</th>\n",
       "      <th>Adj Close</th>\n",
       "      <th>Volume</th>\n",
       "      <th>m</th>\n",
       "      <th>Log Adj Close</th>\n",
       "    </tr>\n",
       "    <tr>\n",
       "      <th>Date</th>\n",
       "      <th></th>\n",
       "      <th></th>\n",
       "      <th></th>\n",
       "      <th></th>\n",
       "      <th></th>\n",
       "      <th></th>\n",
       "      <th></th>\n",
       "      <th></th>\n",
       "    </tr>\n",
       "  </thead>\n",
       "  <tbody>\n",
       "    <tr>\n",
       "      <th>2004-01-02</th>\n",
       "      <td>1111.920044</td>\n",
       "      <td>1118.849976</td>\n",
       "      <td>1105.079956</td>\n",
       "      <td>1108.479980</td>\n",
       "      <td>1108.479980</td>\n",
       "      <td>1153200000</td>\n",
       "      <td>1</td>\n",
       "      <td>7.011647</td>\n",
       "    </tr>\n",
       "    <tr>\n",
       "      <th>2004-01-09</th>\n",
       "      <td>1131.920044</td>\n",
       "      <td>1131.920044</td>\n",
       "      <td>1120.900024</td>\n",
       "      <td>1121.859985</td>\n",
       "      <td>1121.859985</td>\n",
       "      <td>1720700000</td>\n",
       "      <td>1</td>\n",
       "      <td>7.023634</td>\n",
       "    </tr>\n",
       "    <tr>\n",
       "      <th>2004-01-16</th>\n",
       "      <td>1132.050049</td>\n",
       "      <td>1139.829956</td>\n",
       "      <td>1132.050049</td>\n",
       "      <td>1139.829956</td>\n",
       "      <td>1139.829956</td>\n",
       "      <td>1721100000</td>\n",
       "      <td>1</td>\n",
       "      <td>7.039511</td>\n",
       "    </tr>\n",
       "    <tr>\n",
       "      <th>2004-01-23</th>\n",
       "      <td>1143.939941</td>\n",
       "      <td>1150.310059</td>\n",
       "      <td>1136.849976</td>\n",
       "      <td>1141.550049</td>\n",
       "      <td>1141.550049</td>\n",
       "      <td>1561200000</td>\n",
       "      <td>1</td>\n",
       "      <td>7.041018</td>\n",
       "    </tr>\n",
       "    <tr>\n",
       "      <th>2004-01-30</th>\n",
       "      <td>1134.109985</td>\n",
       "      <td>1134.170044</td>\n",
       "      <td>1127.729980</td>\n",
       "      <td>1131.130005</td>\n",
       "      <td>1131.130005</td>\n",
       "      <td>1635000000</td>\n",
       "      <td>1</td>\n",
       "      <td>7.031856</td>\n",
       "    </tr>\n",
       "  </tbody>\n",
       "</table>\n",
       "</div>"
      ],
      "text/plain": [
       "                   Open         High          Low        Close    Adj Close  \\\n",
       "Date                                                                          \n",
       "2004-01-02  1111.920044  1118.849976  1105.079956  1108.479980  1108.479980   \n",
       "2004-01-09  1131.920044  1131.920044  1120.900024  1121.859985  1121.859985   \n",
       "2004-01-16  1132.050049  1139.829956  1132.050049  1139.829956  1139.829956   \n",
       "2004-01-23  1143.939941  1150.310059  1136.849976  1141.550049  1141.550049   \n",
       "2004-01-30  1134.109985  1134.170044  1127.729980  1131.130005  1131.130005   \n",
       "\n",
       "                Volume  m  Log Adj Close  \n",
       "Date                                      \n",
       "2004-01-02  1153200000  1       7.011647  \n",
       "2004-01-09  1720700000  1       7.023634  \n",
       "2004-01-16  1721100000  1       7.039511  \n",
       "2004-01-23  1561200000  1       7.041018  \n",
       "2004-01-30  1635000000  1       7.031856  "
      ]
     },
     "execution_count": 826,
     "metadata": {},
     "output_type": "execute_result"
    }
   ],
   "source": [
    "stocks_wfri = stocks.resample('W-FRI').apply(keep_last)\n",
    "stocks_wfri.head()"
   ]
  },
  {
   "cell_type": "markdown",
   "metadata": {},
   "source": [
    "The closing stock price is considered as an accurate market signal. (See [Closing Price](https://www.investopedia.com/terms/c/closingprice.asp)). Thereafter we're considering only the Adjusted Closing value of each trading week."
   ]
  },
  {
   "cell_type": "markdown",
   "metadata": {},
   "source": [
    "# Prediction"
   ]
  },
  {
   "cell_type": "markdown",
   "metadata": {},
   "source": [
    "For the prediction part, we have to split our data in two parts, one for training and one for testing.  \n",
    "We decided the testing data to start the 1st January 2020. "
   ]
  },
  {
   "cell_type": "code",
   "execution_count": 827,
   "metadata": {},
   "outputs": [],
   "source": [
    "training_period = stocks_wfri.index <= pd.Timestamp(2020, 1, 1)\n",
    "testing_period = stocks_wfri.index > pd.Timestamp(2020, 1, 1)\n",
    "train = stocks_wfri[training_period]['Log Adj Close']\n",
    "test = stocks_wfri[testing_period]['Log Adj Close']"
   ]
  },
  {
   "cell_type": "markdown",
   "metadata": {},
   "source": [
    "## Best AR Model"
   ]
  },
  {
   "cell_type": "markdown",
   "metadata": {},
   "source": [
    "For this part, `pmdarima` is needed. It is equivalent to R's auto.arima functionality. \n",
    "\n",
    "Installation :  \n",
    "`pip install pmdarima`"
   ]
  },
  {
   "cell_type": "code",
   "execution_count": 828,
   "metadata": {
    "scrolled": false
   },
   "outputs": [
    {
     "name": "stdout",
     "output_type": "stream",
     "text": [
      "Fit ARIMA(0,1,0)x(0,0,0,1) [intercept=True]; AIC=-3938.597, BIC=-3929.144, Time=0.162 seconds\n",
      "Fit ARIMA(0,1,1)x(0,0,0,1) [intercept=True]; AIC=-3940.338, BIC=-3926.160, Time=0.117 seconds\n",
      "Fit ARIMA(0,1,2)x(0,0,0,1) [intercept=True]; AIC=-3939.424, BIC=-3920.519, Time=0.169 seconds\n",
      "Fit ARIMA(0,1,3)x(0,0,0,1) [intercept=True]; AIC=-3944.113, BIC=-3920.481, Time=0.225 seconds\n"
     ]
    },
    {
     "name": "stderr",
     "output_type": "stream",
     "text": [
      "/Users/jeannechaverot/opt/anaconda3/lib/python3.8/site-packages/statsmodels/base/model.py:567: ConvergenceWarning: Maximum Likelihood optimization failed to converge. Check mle_retvals\n",
      "  warn(\"Maximum Likelihood optimization failed to converge. \"\n"
     ]
    },
    {
     "name": "stdout",
     "output_type": "stream",
     "text": [
      "Fit ARIMA(0,1,4)x(0,0,0,1) [intercept=True]; AIC=-3942.325, BIC=-3913.968, Time=0.670 seconds\n",
      "Fit ARIMA(0,1,5)x(0,0,0,1) [intercept=True]; AIC=-3941.859, BIC=-3908.775, Time=0.489 seconds\n",
      "Fit ARIMA(1,1,0)x(0,0,0,1) [intercept=True]; AIC=-3940.631, BIC=-3926.452, Time=0.067 seconds\n"
     ]
    },
    {
     "name": "stderr",
     "output_type": "stream",
     "text": [
      "/Users/jeannechaverot/opt/anaconda3/lib/python3.8/site-packages/statsmodels/tsa/statespace/sarimax.py:963: UserWarning: Non-stationary starting autoregressive parameters found. Using zeros as starting parameters.\n",
      "  warn('Non-stationary starting autoregressive parameters'\n"
     ]
    },
    {
     "name": "stdout",
     "output_type": "stream",
     "text": [
      "Fit ARIMA(1,1,1)x(0,0,0,1) [intercept=True]; AIC=-3936.235, BIC=-3917.330, Time=0.530 seconds\n",
      "Fit ARIMA(1,1,2)x(0,0,0,1) [intercept=True]; AIC=-3941.000, BIC=-3917.368, Time=0.782 seconds\n",
      "Fit ARIMA(1,1,3)x(0,0,0,1) [intercept=True]; AIC=-3941.988, BIC=-3913.631, Time=0.698 seconds\n",
      "Fit ARIMA(1,1,4)x(0,0,0,1) [intercept=True]; AIC=-3940.118, BIC=-3907.035, Time=0.289 seconds\n",
      "Fit ARIMA(2,1,0)x(0,0,0,1) [intercept=True]; AIC=-3940.103, BIC=-3921.198, Time=0.143 seconds\n"
     ]
    },
    {
     "name": "stderr",
     "output_type": "stream",
     "text": [
      "/Users/jeannechaverot/opt/anaconda3/lib/python3.8/site-packages/statsmodels/tsa/statespace/sarimax.py:963: UserWarning: Non-stationary starting autoregressive parameters found. Using zeros as starting parameters.\n",
      "  warn('Non-stationary starting autoregressive parameters'\n",
      "/Users/jeannechaverot/opt/anaconda3/lib/python3.8/site-packages/statsmodels/tsa/statespace/sarimax.py:975: UserWarning: Non-invertible starting MA parameters found. Using zeros as starting parameters.\n",
      "  warn('Non-invertible starting MA parameters found.'\n"
     ]
    },
    {
     "name": "stdout",
     "output_type": "stream",
     "text": [
      "Fit ARIMA(2,1,1)x(0,0,0,1) [intercept=True]; AIC=-3937.924, BIC=-3914.293, Time=0.320 seconds\n",
      "Fit ARIMA(2,1,2)x(0,0,0,1) [intercept=True]; AIC=-3937.673, BIC=-3909.316, Time=0.214 seconds\n"
     ]
    },
    {
     "name": "stderr",
     "output_type": "stream",
     "text": [
      "/Users/jeannechaverot/opt/anaconda3/lib/python3.8/site-packages/statsmodels/base/model.py:567: ConvergenceWarning: Maximum Likelihood optimization failed to converge. Check mle_retvals\n",
      "  warn(\"Maximum Likelihood optimization failed to converge. \"\n"
     ]
    },
    {
     "name": "stdout",
     "output_type": "stream",
     "text": [
      "Fit ARIMA(2,1,3)x(0,0,0,1) [intercept=True]; AIC=-3942.075, BIC=-3908.992, Time=0.915 seconds\n",
      "Fit ARIMA(3,1,0)x(0,0,0,1) [intercept=True]; AIC=-3943.587, BIC=-3919.956, Time=0.117 seconds\n",
      "Fit ARIMA(3,1,1)x(0,0,0,1) [intercept=True]; AIC=-3941.671, BIC=-3913.313, Time=0.257 seconds\n",
      "Fit ARIMA(3,1,2)x(0,0,0,1) [intercept=True]; AIC=-3941.421, BIC=-3908.337, Time=0.345 seconds\n",
      "Fit ARIMA(4,1,0)x(0,0,0,1) [intercept=True]; AIC=-3942.048, BIC=-3913.690, Time=0.141 seconds\n",
      "Fit ARIMA(4,1,1)x(0,0,0,1) [intercept=True]; AIC=-3940.002, BIC=-3906.918, Time=0.150 seconds\n",
      "Fit ARIMA(5,1,0)x(0,0,0,1) [intercept=True]; AIC=-3940.826, BIC=-3907.742, Time=0.152 seconds\n",
      "Total fit time: 6.967 seconds\n"
     ]
    },
    {
     "data": {
      "image/png": "[encoded data removed]",
      "text/plain": [
       "<Figure size 432x288 with 1 Axes>"
      ]
     },
     "metadata": {
      "needs_background": "light"
     },
     "output_type": "display_data"
    }
   ],
   "source": [
    "from pmdarima import auto_arima\n",
    "arima = auto_arima(train, max_d=4, max_p=6, max_q=6, max_Q=2, trace=True, stepwise=False)\n",
    "arima.fit(train)\n",
    "predictions = arima.predict(n_periods=test.shape[0])\n",
    "predictions = pd.DataFrame(data=predictions,index = test.index)\n",
    "\n",
    "plt.plot(train, label='Train')\n",
    "plt.plot(test, label='Test')\n",
    "plt.plot(predictions, label='Prediction')\n",
    "plt.legend()\n",
    "plt.show()"
   ]
  },
  {
   "cell_type": "markdown",
   "metadata": {},
   "source": [
    "## Trends"
   ]
  },
  {
   "cell_type": "markdown",
   "metadata": {},
   "source": [
    "To determine which trends are the best predictors, we're going to test them individually and observe in which extent they improve our out-of-sample predictions. "
   ]
  },
  {
   "cell_type": "code",
   "execution_count": 829,
   "metadata": {},
   "outputs": [
    {
     "data": {
      "text/html": [
       "<div>\n",
       "<style scoped>\n",
       "    .dataframe tbody tr th:only-of-type {\n",
       "        vertical-align: middle;\n",
       "    }\n",
       "\n",
       "    .dataframe tbody tr th {\n",
       "        vertical-align: top;\n",
       "    }\n",
       "\n",
       "    .dataframe thead th {\n",
       "        text-align: right;\n",
       "    }\n",
       "</style>\n",
       "<table border=\"1\" class=\"dataframe\">\n",
       "  <thead>\n",
       "    <tr style=\"text-align: right;\">\n",
       "      <th></th>\n",
       "      <th>mastercard</th>\n",
       "      <th>google</th>\n",
       "      <th>housing</th>\n",
       "      <th>pepsico</th>\n",
       "      <th>invest</th>\n",
       "      <th>hedge</th>\n",
       "      <th>bonds</th>\n",
       "      <th>revenues</th>\n",
       "      <th>finance</th>\n",
       "      <th>berkshire</th>\n",
       "      <th>...</th>\n",
       "      <th>opportunity</th>\n",
       "      <th>happy</th>\n",
       "      <th>health</th>\n",
       "      <th>mcdonalds</th>\n",
       "      <th>movie</th>\n",
       "      <th>return</th>\n",
       "      <th>comcast</th>\n",
       "      <th>medtronic</th>\n",
       "      <th>johnson</th>\n",
       "      <th>stocks</th>\n",
       "    </tr>\n",
       "    <tr>\n",
       "      <th>date</th>\n",
       "      <th></th>\n",
       "      <th></th>\n",
       "      <th></th>\n",
       "      <th></th>\n",
       "      <th></th>\n",
       "      <th></th>\n",
       "      <th></th>\n",
       "      <th></th>\n",
       "      <th></th>\n",
       "      <th></th>\n",
       "      <th></th>\n",
       "      <th></th>\n",
       "      <th></th>\n",
       "      <th></th>\n",
       "      <th></th>\n",
       "      <th></th>\n",
       "      <th></th>\n",
       "      <th></th>\n",
       "      <th></th>\n",
       "      <th></th>\n",
       "      <th></th>\n",
       "    </tr>\n",
       "  </thead>\n",
       "  <tbody>\n",
       "    <tr>\n",
       "      <th>2004-01-09</th>\n",
       "      <td>63</td>\n",
       "      <td>56</td>\n",
       "      <td>75</td>\n",
       "      <td>27</td>\n",
       "      <td>77</td>\n",
       "      <td>69</td>\n",
       "      <td>81</td>\n",
       "      <td>36</td>\n",
       "      <td>91</td>\n",
       "      <td>55</td>\n",
       "      <td>...</td>\n",
       "      <td>42</td>\n",
       "      <td>62</td>\n",
       "      <td>99</td>\n",
       "      <td>55</td>\n",
       "      <td>82</td>\n",
       "      <td>94</td>\n",
       "      <td>75</td>\n",
       "      <td>66</td>\n",
       "      <td>25</td>\n",
       "      <td>89</td>\n",
       "    </tr>\n",
       "    <tr>\n",
       "      <th>2004-01-16</th>\n",
       "      <td>68</td>\n",
       "      <td>55</td>\n",
       "      <td>90</td>\n",
       "      <td>33</td>\n",
       "      <td>63</td>\n",
       "      <td>69</td>\n",
       "      <td>81</td>\n",
       "      <td>29</td>\n",
       "      <td>93</td>\n",
       "      <td>28</td>\n",
       "      <td>...</td>\n",
       "      <td>42</td>\n",
       "      <td>64</td>\n",
       "      <td>99</td>\n",
       "      <td>56</td>\n",
       "      <td>79</td>\n",
       "      <td>91</td>\n",
       "      <td>74</td>\n",
       "      <td>44</td>\n",
       "      <td>26</td>\n",
       "      <td>97</td>\n",
       "    </tr>\n",
       "    <tr>\n",
       "      <th>2004-01-23</th>\n",
       "      <td>61</td>\n",
       "      <td>62</td>\n",
       "      <td>81</td>\n",
       "      <td>22</td>\n",
       "      <td>59</td>\n",
       "      <td>70</td>\n",
       "      <td>77</td>\n",
       "      <td>50</td>\n",
       "      <td>85</td>\n",
       "      <td>48</td>\n",
       "      <td>...</td>\n",
       "      <td>34</td>\n",
       "      <td>69</td>\n",
       "      <td>98</td>\n",
       "      <td>46</td>\n",
       "      <td>78</td>\n",
       "      <td>83</td>\n",
       "      <td>80</td>\n",
       "      <td>61</td>\n",
       "      <td>26</td>\n",
       "      <td>100</td>\n",
       "    </tr>\n",
       "    <tr>\n",
       "      <th>2004-01-30</th>\n",
       "      <td>50</td>\n",
       "      <td>57</td>\n",
       "      <td>78</td>\n",
       "      <td>1</td>\n",
       "      <td>65</td>\n",
       "      <td>65</td>\n",
       "      <td>72</td>\n",
       "      <td>88</td>\n",
       "      <td>97</td>\n",
       "      <td>31</td>\n",
       "      <td>...</td>\n",
       "      <td>100</td>\n",
       "      <td>60</td>\n",
       "      <td>98</td>\n",
       "      <td>62</td>\n",
       "      <td>77</td>\n",
       "      <td>87</td>\n",
       "      <td>72</td>\n",
       "      <td>40</td>\n",
       "      <td>25</td>\n",
       "      <td>93</td>\n",
       "    </tr>\n",
       "    <tr>\n",
       "      <th>2004-02-06</th>\n",
       "      <td>77</td>\n",
       "      <td>57</td>\n",
       "      <td>78</td>\n",
       "      <td>64</td>\n",
       "      <td>62</td>\n",
       "      <td>67</td>\n",
       "      <td>75</td>\n",
       "      <td>49</td>\n",
       "      <td>96</td>\n",
       "      <td>30</td>\n",
       "      <td>...</td>\n",
       "      <td>46</td>\n",
       "      <td>57</td>\n",
       "      <td>93</td>\n",
       "      <td>62</td>\n",
       "      <td>70</td>\n",
       "      <td>90</td>\n",
       "      <td>58</td>\n",
       "      <td>77</td>\n",
       "      <td>27</td>\n",
       "      <td>77</td>\n",
       "    </tr>\n",
       "  </tbody>\n",
       "</table>\n",
       "<p>5 rows × 86 columns</p>\n",
       "</div>"
      ],
      "text/plain": [
       "            mastercard  google  housing  pepsico  invest  hedge  bonds  \\\n",
       "date                                                                     \n",
       "2004-01-09          63      56       75       27      77     69     81   \n",
       "2004-01-16          68      55       90       33      63     69     81   \n",
       "2004-01-23          61      62       81       22      59     70     77   \n",
       "2004-01-30          50      57       78        1      65     65     72   \n",
       "2004-02-06          77      57       78       64      62     67     75   \n",
       "\n",
       "            revenues  finance  berkshire  ...  opportunity  happy  health  \\\n",
       "date                                      ...                               \n",
       "2004-01-09        36       91         55  ...           42     62      99   \n",
       "2004-01-16        29       93         28  ...           42     64      99   \n",
       "2004-01-23        50       85         48  ...           34     69      98   \n",
       "2004-01-30        88       97         31  ...          100     60      98   \n",
       "2004-02-06        49       96         30  ...           46     57      93   \n",
       "\n",
       "            mcdonalds  movie  return  comcast  medtronic  johnson  stocks  \n",
       "date                                                                       \n",
       "2004-01-09         55     82      94       75         66       25      89  \n",
       "2004-01-16         56     79      91       74         44       26      97  \n",
       "2004-01-23         46     78      83       80         61       26     100  \n",
       "2004-01-30         62     77      87       72         40       25      93  \n",
       "2004-02-06         62     70      90       58         77       27      77  \n",
       "\n",
       "[5 rows x 86 columns]"
      ]
     },
     "execution_count": 829,
     "metadata": {},
     "output_type": "execute_result"
    }
   ],
   "source": [
    "df.index = pd.to_datetime(df.index)\n",
    "df = df.resample('W-FRI').apply(keep_last)\n",
    "df.head()"
   ]
  },
  {
   "cell_type": "code",
   "execution_count": 830,
   "metadata": {},
   "outputs": [
    {
     "data": {
      "text/html": [
       "<div>\n",
       "<style scoped>\n",
       "    .dataframe tbody tr th:only-of-type {\n",
       "        vertical-align: middle;\n",
       "    }\n",
       "\n",
       "    .dataframe tbody tr th {\n",
       "        vertical-align: top;\n",
       "    }\n",
       "\n",
       "    .dataframe thead th {\n",
       "        text-align: right;\n",
       "    }\n",
       "</style>\n",
       "<table border=\"1\" class=\"dataframe\">\n",
       "  <thead>\n",
       "    <tr style=\"text-align: right;\">\n",
       "      <th></th>\n",
       "      <th>Open</th>\n",
       "      <th>High</th>\n",
       "      <th>Low</th>\n",
       "      <th>Close</th>\n",
       "      <th>Adj Close</th>\n",
       "      <th>Volume</th>\n",
       "      <th>m</th>\n",
       "      <th>Log Adj Close</th>\n",
       "    </tr>\n",
       "    <tr>\n",
       "      <th>Date</th>\n",
       "      <th></th>\n",
       "      <th></th>\n",
       "      <th></th>\n",
       "      <th></th>\n",
       "      <th></th>\n",
       "      <th></th>\n",
       "      <th></th>\n",
       "      <th></th>\n",
       "    </tr>\n",
       "  </thead>\n",
       "  <tbody>\n",
       "    <tr>\n",
       "      <th>2004-01-09</th>\n",
       "      <td>1131.920044</td>\n",
       "      <td>1131.920044</td>\n",
       "      <td>1120.900024</td>\n",
       "      <td>1121.859985</td>\n",
       "      <td>1121.859985</td>\n",
       "      <td>1720700000</td>\n",
       "      <td>1</td>\n",
       "      <td>7.023634</td>\n",
       "    </tr>\n",
       "    <tr>\n",
       "      <th>2004-01-16</th>\n",
       "      <td>1132.050049</td>\n",
       "      <td>1139.829956</td>\n",
       "      <td>1132.050049</td>\n",
       "      <td>1139.829956</td>\n",
       "      <td>1139.829956</td>\n",
       "      <td>1721100000</td>\n",
       "      <td>1</td>\n",
       "      <td>7.039511</td>\n",
       "    </tr>\n",
       "    <tr>\n",
       "      <th>2004-01-23</th>\n",
       "      <td>1143.939941</td>\n",
       "      <td>1150.310059</td>\n",
       "      <td>1136.849976</td>\n",
       "      <td>1141.550049</td>\n",
       "      <td>1141.550049</td>\n",
       "      <td>1561200000</td>\n",
       "      <td>1</td>\n",
       "      <td>7.041018</td>\n",
       "    </tr>\n",
       "    <tr>\n",
       "      <th>2004-01-30</th>\n",
       "      <td>1134.109985</td>\n",
       "      <td>1134.170044</td>\n",
       "      <td>1127.729980</td>\n",
       "      <td>1131.130005</td>\n",
       "      <td>1131.130005</td>\n",
       "      <td>1635000000</td>\n",
       "      <td>1</td>\n",
       "      <td>7.031856</td>\n",
       "    </tr>\n",
       "    <tr>\n",
       "      <th>2004-02-06</th>\n",
       "      <td>1128.589966</td>\n",
       "      <td>1142.790039</td>\n",
       "      <td>1128.390015</td>\n",
       "      <td>1142.760010</td>\n",
       "      <td>1142.760010</td>\n",
       "      <td>1477600000</td>\n",
       "      <td>2</td>\n",
       "      <td>7.042076</td>\n",
       "    </tr>\n",
       "  </tbody>\n",
       "</table>\n",
       "</div>"
      ],
      "text/plain": [
       "                   Open         High          Low        Close    Adj Close  \\\n",
       "Date                                                                          \n",
       "2004-01-09  1131.920044  1131.920044  1120.900024  1121.859985  1121.859985   \n",
       "2004-01-16  1132.050049  1139.829956  1132.050049  1139.829956  1139.829956   \n",
       "2004-01-23  1143.939941  1150.310059  1136.849976  1141.550049  1141.550049   \n",
       "2004-01-30  1134.109985  1134.170044  1127.729980  1131.130005  1131.130005   \n",
       "2004-02-06  1128.589966  1142.790039  1128.390015  1142.760010  1142.760010   \n",
       "\n",
       "                Volume  m  Log Adj Close  \n",
       "Date                                      \n",
       "2004-01-09  1720700000  1       7.023634  \n",
       "2004-01-16  1721100000  1       7.039511  \n",
       "2004-01-23  1561200000  1       7.041018  \n",
       "2004-01-30  1635000000  1       7.031856  \n",
       "2004-02-06  1477600000  2       7.042076  "
      ]
     },
     "execution_count": 830,
     "metadata": {},
     "output_type": "execute_result"
    }
   ],
   "source": [
    "stocks_wfri = stocks_wfri.iloc[1:,:]\n",
    "stocks_wfri.head()"
   ]
  },
  {
   "cell_type": "code",
   "execution_count": 831,
   "metadata": {},
   "outputs": [
    {
     "data": {
      "text/html": [
       "<div>\n",
       "<style scoped>\n",
       "    .dataframe tbody tr th:only-of-type {\n",
       "        vertical-align: middle;\n",
       "    }\n",
       "\n",
       "    .dataframe tbody tr th {\n",
       "        vertical-align: top;\n",
       "    }\n",
       "\n",
       "    .dataframe thead th {\n",
       "        text-align: right;\n",
       "    }\n",
       "</style>\n",
       "<table border=\"1\" class=\"dataframe\">\n",
       "  <thead>\n",
       "    <tr style=\"text-align: right;\">\n",
       "      <th></th>\n",
       "      <th>mastercard</th>\n",
       "      <th>google</th>\n",
       "      <th>housing</th>\n",
       "      <th>pepsico</th>\n",
       "      <th>invest</th>\n",
       "      <th>hedge</th>\n",
       "      <th>bonds</th>\n",
       "      <th>revenues</th>\n",
       "      <th>finance</th>\n",
       "      <th>berkshire</th>\n",
       "      <th>...</th>\n",
       "      <th>johnson</th>\n",
       "      <th>stocks</th>\n",
       "      <th>Open</th>\n",
       "      <th>High</th>\n",
       "      <th>Low</th>\n",
       "      <th>Close</th>\n",
       "      <th>Adj Close</th>\n",
       "      <th>Volume</th>\n",
       "      <th>m</th>\n",
       "      <th>Log Adj Close</th>\n",
       "    </tr>\n",
       "    <tr>\n",
       "      <th>date</th>\n",
       "      <th></th>\n",
       "      <th></th>\n",
       "      <th></th>\n",
       "      <th></th>\n",
       "      <th></th>\n",
       "      <th></th>\n",
       "      <th></th>\n",
       "      <th></th>\n",
       "      <th></th>\n",
       "      <th></th>\n",
       "      <th></th>\n",
       "      <th></th>\n",
       "      <th></th>\n",
       "      <th></th>\n",
       "      <th></th>\n",
       "      <th></th>\n",
       "      <th></th>\n",
       "      <th></th>\n",
       "      <th></th>\n",
       "      <th></th>\n",
       "      <th></th>\n",
       "    </tr>\n",
       "  </thead>\n",
       "  <tbody>\n",
       "    <tr>\n",
       "      <th>2004-01-09</th>\n",
       "      <td>63</td>\n",
       "      <td>56</td>\n",
       "      <td>75</td>\n",
       "      <td>27</td>\n",
       "      <td>77</td>\n",
       "      <td>69</td>\n",
       "      <td>81</td>\n",
       "      <td>36</td>\n",
       "      <td>91</td>\n",
       "      <td>55</td>\n",
       "      <td>...</td>\n",
       "      <td>25</td>\n",
       "      <td>89</td>\n",
       "      <td>1131.920044</td>\n",
       "      <td>1131.920044</td>\n",
       "      <td>1120.900024</td>\n",
       "      <td>1121.859985</td>\n",
       "      <td>1121.859985</td>\n",
       "      <td>1720700000</td>\n",
       "      <td>1</td>\n",
       "      <td>7.023634</td>\n",
       "    </tr>\n",
       "    <tr>\n",
       "      <th>2004-01-16</th>\n",
       "      <td>68</td>\n",
       "      <td>55</td>\n",
       "      <td>90</td>\n",
       "      <td>33</td>\n",
       "      <td>63</td>\n",
       "      <td>69</td>\n",
       "      <td>81</td>\n",
       "      <td>29</td>\n",
       "      <td>93</td>\n",
       "      <td>28</td>\n",
       "      <td>...</td>\n",
       "      <td>26</td>\n",
       "      <td>97</td>\n",
       "      <td>1132.050049</td>\n",
       "      <td>1139.829956</td>\n",
       "      <td>1132.050049</td>\n",
       "      <td>1139.829956</td>\n",
       "      <td>1139.829956</td>\n",
       "      <td>1721100000</td>\n",
       "      <td>1</td>\n",
       "      <td>7.039511</td>\n",
       "    </tr>\n",
       "    <tr>\n",
       "      <th>2004-01-23</th>\n",
       "      <td>61</td>\n",
       "      <td>62</td>\n",
       "      <td>81</td>\n",
       "      <td>22</td>\n",
       "      <td>59</td>\n",
       "      <td>70</td>\n",
       "      <td>77</td>\n",
       "      <td>50</td>\n",
       "      <td>85</td>\n",
       "      <td>48</td>\n",
       "      <td>...</td>\n",
       "      <td>26</td>\n",
       "      <td>100</td>\n",
       "      <td>1143.939941</td>\n",
       "      <td>1150.310059</td>\n",
       "      <td>1136.849976</td>\n",
       "      <td>1141.550049</td>\n",
       "      <td>1141.550049</td>\n",
       "      <td>1561200000</td>\n",
       "      <td>1</td>\n",
       "      <td>7.041018</td>\n",
       "    </tr>\n",
       "    <tr>\n",
       "      <th>2004-01-30</th>\n",
       "      <td>50</td>\n",
       "      <td>57</td>\n",
       "      <td>78</td>\n",
       "      <td>1</td>\n",
       "      <td>65</td>\n",
       "      <td>65</td>\n",
       "      <td>72</td>\n",
       "      <td>88</td>\n",
       "      <td>97</td>\n",
       "      <td>31</td>\n",
       "      <td>...</td>\n",
       "      <td>25</td>\n",
       "      <td>93</td>\n",
       "      <td>1134.109985</td>\n",
       "      <td>1134.170044</td>\n",
       "      <td>1127.729980</td>\n",
       "      <td>1131.130005</td>\n",
       "      <td>1131.130005</td>\n",
       "      <td>1635000000</td>\n",
       "      <td>1</td>\n",
       "      <td>7.031856</td>\n",
       "    </tr>\n",
       "    <tr>\n",
       "      <th>2004-02-06</th>\n",
       "      <td>77</td>\n",
       "      <td>57</td>\n",
       "      <td>78</td>\n",
       "      <td>64</td>\n",
       "      <td>62</td>\n",
       "      <td>67</td>\n",
       "      <td>75</td>\n",
       "      <td>49</td>\n",
       "      <td>96</td>\n",
       "      <td>30</td>\n",
       "      <td>...</td>\n",
       "      <td>27</td>\n",
       "      <td>77</td>\n",
       "      <td>1128.589966</td>\n",
       "      <td>1142.790039</td>\n",
       "      <td>1128.390015</td>\n",
       "      <td>1142.760010</td>\n",
       "      <td>1142.760010</td>\n",
       "      <td>1477600000</td>\n",
       "      <td>2</td>\n",
       "      <td>7.042076</td>\n",
       "    </tr>\n",
       "  </tbody>\n",
       "</table>\n",
       "<p>5 rows × 94 columns</p>\n",
       "</div>"
      ],
      "text/plain": [
       "            mastercard  google  housing  pepsico  invest  hedge  bonds  \\\n",
       "date                                                                     \n",
       "2004-01-09          63      56       75       27      77     69     81   \n",
       "2004-01-16          68      55       90       33      63     69     81   \n",
       "2004-01-23          61      62       81       22      59     70     77   \n",
       "2004-01-30          50      57       78        1      65     65     72   \n",
       "2004-02-06          77      57       78       64      62     67     75   \n",
       "\n",
       "            revenues  finance  berkshire  ...  johnson  stocks         Open  \\\n",
       "date                                      ...                                 \n",
       "2004-01-09        36       91         55  ...       25      89  1131.920044   \n",
       "2004-01-16        29       93         28  ...       26      97  1132.050049   \n",
       "2004-01-23        50       85         48  ...       26     100  1143.939941   \n",
       "2004-01-30        88       97         31  ...       25      93  1134.109985   \n",
       "2004-02-06        49       96         30  ...       27      77  1128.589966   \n",
       "\n",
       "                   High          Low        Close    Adj Close      Volume  m  \\\n",
       "date                                                                            \n",
       "2004-01-09  1131.920044  1120.900024  1121.859985  1121.859985  1720700000  1   \n",
       "2004-01-16  1139.829956  1132.050049  1139.829956  1139.829956  1721100000  1   \n",
       "2004-01-23  1150.310059  1136.849976  1141.550049  1141.550049  1561200000  1   \n",
       "2004-01-30  1134.170044  1127.729980  1131.130005  1131.130005  1635000000  1   \n",
       "2004-02-06  1142.790039  1128.390015  1142.760010  1142.760010  1477600000  2   \n",
       "\n",
       "            Log Adj Close  \n",
       "date                       \n",
       "2004-01-09       7.023634  \n",
       "2004-01-16       7.039511  \n",
       "2004-01-23       7.041018  \n",
       "2004-01-30       7.031856  \n",
       "2004-02-06       7.042076  \n",
       "\n",
       "[5 rows x 94 columns]"
      ]
     },
     "execution_count": 831,
     "metadata": {},
     "output_type": "execute_result"
    }
   ],
   "source": [
    "data = pd.concat([df, stocks_wfri], axis=1)\n",
    "data.head()"
   ]
  },
  {
   "cell_type": "code",
   "execution_count": 832,
   "metadata": {},
   "outputs": [],
   "source": [
    "# look at value a month ago and a year ago (our time series is in weeks)\n",
    "\n",
    "#df.iloc[0, df.columns.get_loc('COL_NAME')] = x\n",
    "\n",
    "\n",
    "data['y(t-4)'] = np.nan\n",
    "d_temp = list(data['Log Adj Close'].iloc[:-4])\n",
    "data.iloc[4:,data.columns.get_loc('y(t-4)')] = d_temp\n",
    "#pd.DataFrame(data['Log Adj Close']).T.shift(periods=4, axis=1).T\n",
    "\n",
    "data['y(t-52)'] = np.nan\n",
    "d_temp2 = list(data['Log Adj Close'].iloc[:-52])\n",
    "data.iloc[52:, data.columns.get_loc('y(t-52)')] = d_temp2\n",
    "#pd.DataFrame(data['Log Adj Close']).T.shift(periods=52, axis=1).T\n",
    "#data = data.iloc[12:,:]"
   ]
  },
  {
   "cell_type": "code",
   "execution_count": 833,
   "metadata": {},
   "outputs": [],
   "source": [
    "data = data.iloc[52:,:]"
   ]
  },
  {
   "cell_type": "code",
   "execution_count": 834,
   "metadata": {},
   "outputs": [],
   "source": [
    "df_X = pd.concat([data.iloc[:,:-10], data.iloc[:,-2:]], axis=1)"
   ]
  },
  {
   "cell_type": "code",
   "execution_count": 835,
   "metadata": {},
   "outputs": [
    {
     "data": {
      "text/plain": [
       "Index(['mastercard', 'google', 'housing', 'pepsico', 'invest', 'hedge',\n",
       "       'bonds', 'revenues', 'finance', 'berkshire', 'consume', 'marriage',\n",
       "       'home depot', 'environment', 'economy', 'short sell', 'leverage',\n",
       "       'facebook', 'united health', 'amazon', 'merck', 'nyse', 'risk',\n",
       "       'nasdaq', 'paypal', 'golf', 'pfizer', 'portfolio', 'food', 'cancer',\n",
       "       'alphabet', 'procter and gamble', 'apple', 'netflix', 'abbott labs',\n",
       "       'economics', 'success', 'credit', 'society', 'profit', 'intel', 'water',\n",
       "       'fond', 'money', 'visa', 'rich', 'oracle', 'j p morgan', 'hold',\n",
       "       'greed', 'spdr', 'investment', 'debt', 'present', 'loss', 'house',\n",
       "       'gain', 'financial markets', 'employment', 'gross', 'consumption',\n",
       "       'microsoft', 'crisis', 'inflation', 'adobe', 'headlines', 'at&t',\n",
       "       'nvidia', 'transaction', 'buy', 'verizon communications', 'gains',\n",
       "       'oil', 'war', 'cisco', 'unemployment', 'opportunity', 'happy', 'health',\n",
       "       'mcdonalds', 'movie', 'return', 'comcast', 'medtronic', 'johnson',\n",
       "       'stocks', 'y(t-4)', 'y(t-52)'],\n",
       "      dtype='object')"
      ]
     },
     "execution_count": 835,
     "metadata": {},
     "output_type": "execute_result"
    }
   ],
   "source": [
    "df_X.columns"
   ]
  },
  {
   "cell_type": "code",
   "execution_count": 836,
   "metadata": {},
   "outputs": [],
   "source": [
    "X = df_X.values\n",
    "y = data['Log Adj Close']"
   ]
  },
  {
   "cell_type": "code",
   "execution_count": 837,
   "metadata": {},
   "outputs": [],
   "source": [
    "def predict(X, y, window):\n",
    "    \"\"\"\n",
    "    This function is used to make the predictions. The parameters help set up the details of the model to be used.\n",
    "    model: either takes value window or accumulate. If window, it means we use the previous 17 data point from the\n",
    "    one we want to predict to create the model. If accumulate, we take all data points preceding the one we want\n",
    "    to predict.\n",
    "    recession: If false it means we are working on the whole data set. If true we are strinctly working on the days\n",
    "    corresponding to the recession.\n",
    "    \"\"\"\n",
    "    \n",
    "    \n",
    "    k = window\n",
    "    y_tests = []\n",
    "    y_hats = []\n",
    "        \n",
    "    #we take at least 5 training points \n",
    "    # points in the training set up until the kth data point\n",
    "     \n",
    "    for i in np.arange(5, k, 1):\n",
    "\n",
    "        X_train = X[:i,:]\n",
    "        X_test = X[i,:]\n",
    "\n",
    "        y_train = y[:i]\n",
    "        y_test = y[i]\n",
    "\n",
    "        reg = LinearRegression()\n",
    "        reg.fit(X_train, y_train)\n",
    "\n",
    "        #X_test.reshape(1,X.shape[1])\n",
    "        y_hat = reg.predict([X_test])\n",
    "        y_tests.append(y_test)\n",
    "        y_hats.append(y_hat)\n",
    "            \n",
    "        \n",
    "    # now we do the second loop where we only use a window of k elements to train\n",
    "        \n",
    "    i = 0\n",
    "        \n",
    "    while i+k<X.shape[0]:\n",
    "\n",
    "        X_train = X[i:i+k,:]\n",
    "        X_test = X[i+k,:]\n",
    "        y_train = y[i:i+k]\n",
    "        y_test = y[i+k]\n",
    "\n",
    "        reg = LinearRegression()\n",
    "        reg.fit(X_train, y_train)\n",
    "\n",
    "        y_hat = reg.predict([X_test])\n",
    "\n",
    "        y_tests.append(y_test)\n",
    "        y_hats.append(y_hat)\n",
    "\n",
    "        i+=1\n",
    "    y_hats = [el[0] for el in y_hats]\n",
    "    return y_tests, y_hats\n",
    "    \n",
    "\n",
    "def plot_fig(y_test,y_test2, y_hat,y_hat_no_trends):\n",
    "    \"\"\"\n",
    "    Function to plot the predictions for the model with and without trends versus real data\n",
    "    y_tests: real value\n",
    "    y_tests: real value from data points during recession\n",
    "    y_hats: predicted values\n",
    "    y_hats_trends: predicted values using trends in model\n",
    "    y_hats_rec: predicted values from data points during recession\n",
    "    y_hats_trends_rec: predicted values from data points during recession using trends in model\n",
    "    model: specify which model we use: 17 days window training, or using all previous days\n",
    "    \n",
    "    \n",
    "    \"\"\"\n",
    "    fig, ax = plt.subplots(figsize=(19,10))\n",
    "\n",
    "    ax.plot(data.index[-len(y_test):], y_test, linestyle='solid', label='Actual')\n",
    "    ax.plot(data.index[-len(y_test):], y_hat, linestyle='dashed', label='Trends')\n",
    "    ax.plot(data.index[-len(y_test):], y_hat_no_trends, linestyle='solid', label='No trends')\n",
    "    ax.legend(['Stocks', 'Trends predictions', 'No trends predictions'])\n",
    "    ax.set_title('S&P500 predictions with and without Google Trends')\n",
    "    ax.set_xlabel(\"Index\")\n",
    "    ax.set_ylabel(\"log(stocks)\")\n",
    "\n",
    "    # this if statement helps adjust the box around the text in the plot\n",
    "    #ax.axhline(y=6, xmin=0, xmax=0.43, color='grey')\n",
    "    #ax.axvline(x=pd.to_datetime('2008-01-01'), ymin=0, ymax=6.75, color='grey')\n",
    "    # improvement between not using trends and using trends\n",
    "    \n",
    "    mae_base = sklearn.metrics.mean_absolute_error(y_test2, y_hat_no_trends)*100\n",
    "    mae_trends = sklearn.metrics.mean_absolute_error(y_test, y_hat)*100\n",
    "    pct = (mae_base-mae_trends)/max(mae_base, mae_trends)*100\n",
    "    print('base', mae_base)\n",
    "    print('trends', mae_trends)\n",
    "    # improvement between not using trends and using trends during recession only\n",
    "    \n",
    "\n",
    "    textstr = '\\n'.join((\n",
    "        'MAE improvement',\n",
    "        'Overall = {:.2f} %'.format(pct)))\n",
    "\n",
    "    start = pd.to_datetime('2007-12-01')\n",
    "    end = pd.to_datetime('2009-06-01')\n",
    "\n",
    "    ax.text(0.05, 0.05, textstr, transform=ax.transAxes, fontsize=14,\n",
    "            verticalalignment='bottom')\n",
    "    \n"
   ]
  },
  {
   "cell_type": "markdown",
   "metadata": {},
   "source": [
    "### Optimize Windows and number of features for model including trends"
   ]
  },
  {
   "cell_type": "code",
   "execution_count": 838,
   "metadata": {},
   "outputs": [
    {
     "name": "stdout",
     "output_type": "stream",
     "text": [
      "Optimizing for window of size  7\n",
      "Optimizing for window of size  8\n",
      "Optimizing for window of size  9\n",
      "Optimizing for window of size  10\n",
      "Optimizing for window of size  11\n",
      "Optimizing for window of size  12\n",
      "Optimizing for window of size  13\n",
      "Optimizing for window of size  14\n",
      "Optimizing for window of size  15\n",
      "Optimizing for window of size  16\n",
      "Optimizing for window of size  17\n",
      "Optimizing for window of size  18\n",
      "Optimizing for window of size  19\n",
      "Optimizing for window of size  20\n",
      "Optimizing for window of size  21\n",
      "Optimizing for window of size  22\n",
      "Optimizing for window of size  23\n",
      "Optimizing for window of size  24\n",
      "Optimizing for window of size  25\n",
      "Optimizing for window of size  26\n",
      "Optimizing for window of size  27\n",
      "Optimizing for window of size  28\n",
      "Optimizing for window of size  29\n",
      "--- 1024.2022383213043 seconds ---\n"
     ]
    }
   ],
   "source": [
    "from tqdm.notebook import tqdm\n",
    "import time\n",
    "start_time = time.time()\n",
    "\n",
    "windows = np.arange(7, 30)\n",
    "nb_features = np.arange(5, X.shape[1]+1)\n",
    "\n",
    "grid = np.ndarray((len(windows), len(nb_features)))\n",
    "\n",
    "for i, w in enumerate(windows):\n",
    "    print('Optimizing for window of size ', w)\n",
    "    for j, k in enumerate(nb_features):\n",
    "\n",
    "        fs = SelectKBest(score_func=f_regression, k=k)\n",
    "        fs.fit(X, y)\n",
    "        X_new = fs.transform(X)\n",
    "        \n",
    "        y_test, y_hat = predict(X_new, y, w)\n",
    "        \n",
    "        mae = sklearn.metrics.mean_absolute_error(y_test,y_hat)*100\n",
    "        grid[i, j] = mae\n",
    "print(\"--- %s seconds ---\" % (time.time() - start_time))\n",
    "    "
   ]
  },
  {
   "cell_type": "code",
   "execution_count": 839,
   "metadata": {},
   "outputs": [
    {
     "data": {
      "text/plain": [
       "'The loss when using trends is minimized and returns 2.357 for a window of size 8 taking into account 40 features'"
      ]
     },
     "execution_count": 839,
     "metadata": {},
     "output_type": "execute_result"
    }
   ],
   "source": [
    "window_idx, features_idx = np.where(grid == grid.min())\n",
    "\n",
    "'The loss when using trends is minimized and returns {:.3f} for a window of size {} taking into account {} features'.format(np.min(grid), windows[window_idx[0]], nb_features[features_idx[0]])"
   ]
  },
  {
   "cell_type": "code",
   "execution_count": 840,
   "metadata": {},
   "outputs": [
    {
     "data": {
      "text/plain": [
       "2.3568104263990546"
      ]
     },
     "execution_count": 840,
     "metadata": {},
     "output_type": "execute_result"
    }
   ],
   "source": [
    "\n",
    "fs = SelectKBest(score_func=f_regression, k=40)\n",
    "fs.fit(X, y)\n",
    "X_new = fs.transform(X)\n",
    "        \n",
    "y_test1, y_hat1 = predict(X_new, y, 8)\n",
    "        \n",
    "mae = sklearn.metrics.mean_absolute_error(y_test1,y_hat1)*100\n",
    "\n",
    "mae"
   ]
  },
  {
   "cell_type": "code",
   "execution_count": 841,
   "metadata": {},
   "outputs": [
    {
     "name": "stdout",
     "output_type": "stream",
     "text": [
      "mastercard\n",
      "hedge\n",
      "finance\n",
      "berkshire\n",
      "home depot\n",
      "short sell\n",
      "leverage\n",
      "facebook\n",
      "amazon\n",
      "risk\n",
      "nasdaq\n",
      "paypal\n",
      "procter and gamble\n",
      "intel\n",
      "water\n",
      "fond\n",
      "money\n",
      "rich\n",
      "oracle\n",
      "j p morgan\n",
      "loss\n",
      "house\n",
      "gain\n",
      "gross\n",
      "microsoft\n",
      "crisis\n",
      "inflation\n",
      "adobe\n",
      "headlines\n",
      "at&t\n",
      "nvidia\n",
      "oil\n",
      "war\n",
      "unemployment\n",
      "opportunity\n",
      "health\n",
      "mcdonalds\n",
      "return\n",
      "y(t-4)\n",
      "y(t-52)\n"
     ]
    }
   ],
   "source": [
    "mask = fs.get_support() #list of booleans\n",
    "new_features = [] # The list of your K best features\n",
    "feature_names = list(df_X.columns.values)\n",
    "\n",
    "\n",
    "for bool, feature in zip(mask, feature_names):\n",
    "    if bool:\n",
    "        new_features.append(feature)\n",
    "        print(feature)"
   ]
  },
  {
   "cell_type": "markdown",
   "metadata": {},
   "source": [
    "### Optimize Windows for model that doesn't include trends"
   ]
  },
  {
   "cell_type": "code",
   "execution_count": 842,
   "metadata": {},
   "outputs": [
    {
     "name": "stdout",
     "output_type": "stream",
     "text": [
      "Computing loss for window of size  7\n",
      "Computing loss for window of size  8\n",
      "Computing loss for window of size  9\n",
      "Computing loss for window of size  10\n",
      "Computing loss for window of size  11\n",
      "Computing loss for window of size  12\n",
      "Computing loss for window of size  13\n",
      "Computing loss for window of size  14\n",
      "Computing loss for window of size  15\n",
      "Computing loss for window of size  16\n",
      "Computing loss for window of size  17\n",
      "Computing loss for window of size  18\n",
      "Computing loss for window of size  19\n",
      "Computing loss for window of size  20\n",
      "Computing loss for window of size  21\n",
      "Computing loss for window of size  22\n",
      "Computing loss for window of size  23\n",
      "Computing loss for window of size  24\n",
      "Computing loss for window of size  25\n",
      "Computing loss for window of size  26\n",
      "Computing loss for window of size  27\n",
      "Computing loss for window of size  28\n",
      "Computing loss for window of size  29\n",
      "--- 13.945919275283813 seconds ---\n"
     ]
    }
   ],
   "source": [
    "X_no_trends = df_X.iloc[:,-2:].values\n",
    "\n",
    "start_time = time.time()\n",
    "\n",
    "windows = np.arange(7, 30)\n",
    "\n",
    "grid = []\n",
    "for i, w in enumerate(windows):\n",
    "    print('Computing loss for window of size ', w)\n",
    "    y_test, y_hat = predict(X_no_trends, y, w)\n",
    "        \n",
    "    mae = sklearn.metrics.mean_absolute_error(y_test,y_hat)*100\n",
    "    grid.append(mae)\n",
    "print(\"--- %s seconds ---\" % (time.time() - start_time))\n"
   ]
  },
  {
   "cell_type": "code",
   "execution_count": 843,
   "metadata": {},
   "outputs": [
    {
     "data": {
      "text/plain": [
       "'The loss without trends is minimized and returns 2.815 for a window of size 8'"
      ]
     },
     "execution_count": 843,
     "metadata": {},
     "output_type": "execute_result"
    }
   ],
   "source": [
    "'The loss without trends is minimized and returns {:.3f} for a window of size {}'.format(np.min(grid), windows[np.argmin(grid)])\n",
    "\n",
    "\n"
   ]
  },
  {
   "cell_type": "code",
   "execution_count": 844,
   "metadata": {},
   "outputs": [
    {
     "data": {
      "text/plain": [
       "2.81549424920047"
      ]
     },
     "execution_count": 844,
     "metadata": {},
     "output_type": "execute_result"
    }
   ],
   "source": [
    "\n",
    "y_test2, y_hat2 = predict(X_no_trends, y, 8)\n",
    "        \n",
    "mae_no_trends = sklearn.metrics.mean_absolute_error(y_test2,y_hat2)*100\n",
    "\n",
    "mae_no_trends"
   ]
  },
  {
   "cell_type": "code",
   "execution_count": 845,
   "metadata": {},
   "outputs": [
    {
     "name": "stdout",
     "output_type": "stream",
     "text": [
      "base 2.81549424920047\n",
      "trends 2.3568104263990546\n"
     ]
    },
    {
     "data": {
      "image/png": "[encoded data removed]",
      "text/plain": [
       "<Figure size 1368x720 with 1 Axes>"
      ]
     },
     "metadata": {
      "needs_background": "light"
     },
     "output_type": "display_data"
    }
   ],
   "source": [
    "plot_fig(y_test1,y_test2, y_hat1,y_hat2)"
   ]
  },
  {
   "cell_type": "markdown",
   "metadata": {},
   "source": [
    "### Turning points analyses"
   ]
  },
  {
   "cell_type": "code",
   "execution_count": 846,
   "metadata": {},
   "outputs": [
    {
     "data": {
      "text/plain": [
       "<matplotlib.lines.Line2D at 0x7f9d046be910>"
      ]
     },
     "execution_count": 846,
     "metadata": {},
     "output_type": "execute_result"
    },
    {
     "data": {
      "image/png": "[encoded data removed]",
      "text/plain": [
       "<Figure size 1368x720 with 1 Axes>"
      ]
     },
     "metadata": {
      "needs_background": "light"
     },
     "output_type": "display_data"
    }
   ],
   "source": [
    "fig, ax = plt.subplots(figsize=(19,10))\n",
    "\n",
    "ax.plot(data.index, data['Log Adj Close'], linestyle='solid', label='Actual')\n",
    "ax.axvline(x=pd.to_datetime('2009-03-01'), ymin=0, ymax=6.75, color='grey')"
   ]
  },
  {
   "cell_type": "markdown",
   "metadata": {},
   "source": [
    "From here on, we know that the features we want to keep are\n",
    "- pfizer\n",
    "- j p morgan\n",
    "- spdr\n",
    "- y(t-4)\n",
    "- y(t-52)"
   ]
  },
  {
   "cell_type": "code",
   "execution_count": 847,
   "metadata": {},
   "outputs": [],
   "source": [
    "tp1_start = '2008-08-15'\n",
    "tp1_end = '2008-11-01'\n",
    "\n",
    "tp2_start = '2010-04-20'\n",
    "tp2_end = '2010-07-20'\n",
    "\n",
    "tp3_start = '2011-07-15'\n",
    "tp3_end = '2011-10-15'\n",
    "\n",
    "tp4_start = '2015-08-01'\n",
    "tp4_end = '2015-10-01'\n",
    "\n",
    "tp5_start = '2016-01-01'\n",
    "tp5_end = '2016-03-01'\n",
    "\n",
    "tp6_start = '2018-11-20'\n",
    "tp6_end = '2019-01-01'\n",
    "\n",
    "tp7_start = '2020-02-15'\n",
    "tp7_end = '2020-04-01'\n",
    "\n"
   ]
  },
  {
   "cell_type": "markdown",
   "metadata": {},
   "source": [
    "### Turning point 1"
   ]
  },
  {
   "cell_type": "markdown",
   "metadata": {},
   "source": [
    "Function to predict on turning points"
   ]
  },
  {
   "cell_type": "code",
   "execution_count": 848,
   "metadata": {},
   "outputs": [],
   "source": [
    "#we predict each value and then add real data to train test\n",
    "\n",
    "def pred_tp(X_train, y_train, X_test, y_test, trends=True):\n",
    "    \"\"\"This function does the prediction when we use the Google trends as features\"\"\"\n",
    "    y_preds = []\n",
    "    acc = X_train.shape[0]\n",
    "    for i in range(X_test.shape[0]):\n",
    "        acc += 1\n",
    "        reg = LinearRegression()\n",
    "        reg.fit(X_train, y_train)\n",
    "        #print(X_test[i])\n",
    "        y_preds.append(reg.predict(X_test[i].reshape(1,-1))[0])\n",
    "        #print(X_train)\n",
    "        X_train = np.vstack((X_train, X_test[i]))\n",
    "        #X_train = np.append(X_train,X_test[i]).reshape(acc, 5)\n",
    "        y_train = np.append(y_train,y_test[i])\n",
    "    return y_preds\n",
    "\n",
    "def pred_no_trends(X_train, y_train, X_test, y_test):\n",
    "    \"\"\"This function does the prediction when we do not use the Google trends as features\"\"\"\n",
    "    y_preds = []\n",
    "    acc = X_train.shape[0]\n",
    "\n",
    "    for i in range(X_test.shape[0]):\n",
    "        reg = LinearRegression()\n",
    "        reg.fit(X_train.reshape(acc,2), y_train)\n",
    "        acc += 1\n",
    "\n",
    "        #print(X_test[i])\n",
    "        y_preds.append(reg.predict(X_test[i].reshape(1,-1))[0])\n",
    "        #print(X_train)\n",
    "        X_train = np.vstack((X_train, X_test[i]))\n",
    "        #X_train = np.append(X_train,X_test[i]).reshape(acc, 1)\n",
    "        y_train = np.append(y_train,y_test[i])\n",
    "        \n",
    "    return y_preds\n"
   ]
  },
  {
   "cell_type": "code",
   "execution_count": 849,
   "metadata": {},
   "outputs": [],
   "source": [
    "tps = [\n",
    "    [tp1_start, tp1_end],\n",
    "    [tp2_start, tp2_end],\n",
    "    [tp3_start, tp3_end],\n",
    "    [tp4_start, tp4_end],\n",
    "    [tp5_start, tp5_end],\n",
    "    [tp6_start, tp6_end],\n",
    "    [tp7_start, tp7_end]\n",
    "]"
   ]
  },
  {
   "cell_type": "code",
   "execution_count": 850,
   "metadata": {},
   "outputs": [],
   "source": [
    "maes_tp_trends = []\n",
    "maes_tp_notrends = []\n",
    "\n",
    "#create our X matrices\n",
    "X_temp_trends = df_X[new_features].values\n",
    "X_temp_notrends = df_X.iloc[:,-2:].values\n",
    "\n",
    "\n",
    "\n",
    "for tp in tps:\n",
    "    \n",
    "    #compute mae for each turning point with trends\n",
    "    X_train = X_temp[df_X.index < tp[0]]\n",
    "    X_test = X_temp[(df_X.index>= tp[0]) & (df_X.index <= tp[1])]\n",
    "\n",
    "    y_train = y[df_X.index < tp[0]]\n",
    "    y_test = y[(df_X.index>= tp[0]) & (df_X.index <= tp[1])]\n",
    "\n",
    "    y_preds = pred_tp(X_train, y_train, X_test, y_test)\n",
    "\n",
    "    maes_tp_trends.append(sklearn.metrics.mean_absolute_error(y_test, y_preds))\n",
    "\n",
    "    # ----#\n",
    "\n",
    "    #compute mae for each turning point without trends\n",
    "\n",
    "    X_train = X_temp_notrends[df_X.index < tp[0]]\n",
    "    X_test = X_temp_notrends[(df_X.index>= tp[0]) & (df_X.index <= tp[1])]\n",
    "\n",
    "    y_train = y[df_X.index < tp[0]]\n",
    "    y_test = y[(df_X.index>= tp[0]) & (df_X.index <= tp[1])]\n",
    "\n",
    "    y_preds = pred_no_trends(X_train, y_train, X_test, y_test)\n",
    "\n",
    "    maes_tp_notrends.append(sklearn.metrics.mean_absolute_error(y_test, y_preds))"
   ]
  },
  {
   "cell_type": "code",
   "execution_count": 851,
   "metadata": {},
   "outputs": [],
   "source": [
    "pcts = [str((maes_tp_notrends[i]-maes_tp_trends[i])/max(maes_tp_notrends[i], maes_tp_trends[i])*100)[:5]+'%' for i in range(len(maes_tp_trends))]\n"
   ]
  },
  {
   "cell_type": "code",
   "execution_count": 852,
   "metadata": {},
   "outputs": [],
   "source": [
    "df = pd.DataFrame({\n",
    "    'Start': [tp[0] for tp in tps],\n",
    "    'End': [tp[1] for tp in tps],\n",
    "    'MAE base': maes_tp_notrends,\n",
    "    'MAE trends': maes_tp_trends,\n",
    "    '1-ratio': pcts\n",
    "})"
   ]
  },
  {
   "cell_type": "code",
   "execution_count": 853,
   "metadata": {},
   "outputs": [
    {
     "data": {
      "text/html": [
       "<div>\n",
       "<style scoped>\n",
       "    .dataframe tbody tr th:only-of-type {\n",
       "        vertical-align: middle;\n",
       "    }\n",
       "\n",
       "    .dataframe tbody tr th {\n",
       "        vertical-align: top;\n",
       "    }\n",
       "\n",
       "    .dataframe thead th {\n",
       "        text-align: right;\n",
       "    }\n",
       "</style>\n",
       "<table border=\"1\" class=\"dataframe\">\n",
       "  <thead>\n",
       "    <tr style=\"text-align: right;\">\n",
       "      <th></th>\n",
       "      <th>Start</th>\n",
       "      <th>End</th>\n",
       "      <th>MAE base</th>\n",
       "      <th>MAE trends</th>\n",
       "      <th>1-ratio</th>\n",
       "    </tr>\n",
       "  </thead>\n",
       "  <tbody>\n",
       "    <tr>\n",
       "      <th>0</th>\n",
       "      <td>2008-08-15</td>\n",
       "      <td>2008-11-01</td>\n",
       "      <td>0.106701</td>\n",
       "      <td>0.106428</td>\n",
       "      <td>0.256%</td>\n",
       "    </tr>\n",
       "    <tr>\n",
       "      <th>1</th>\n",
       "      <td>2010-04-20</td>\n",
       "      <td>2010-07-20</td>\n",
       "      <td>0.057385</td>\n",
       "      <td>0.057168</td>\n",
       "      <td>0.377%</td>\n",
       "    </tr>\n",
       "    <tr>\n",
       "      <th>2</th>\n",
       "      <td>2011-07-15</td>\n",
       "      <td>2011-10-15</td>\n",
       "      <td>0.059607</td>\n",
       "      <td>0.059766</td>\n",
       "      <td>-0.26%</td>\n",
       "    </tr>\n",
       "    <tr>\n",
       "      <th>3</th>\n",
       "      <td>2015-08-01</td>\n",
       "      <td>2015-10-01</td>\n",
       "      <td>0.034641</td>\n",
       "      <td>0.034628</td>\n",
       "      <td>0.035%</td>\n",
       "    </tr>\n",
       "    <tr>\n",
       "      <th>4</th>\n",
       "      <td>2016-01-01</td>\n",
       "      <td>2016-03-01</td>\n",
       "      <td>0.031243</td>\n",
       "      <td>0.031161</td>\n",
       "      <td>0.262%</td>\n",
       "    </tr>\n",
       "    <tr>\n",
       "      <th>5</th>\n",
       "      <td>2018-11-20</td>\n",
       "      <td>2019-01-01</td>\n",
       "      <td>0.054435</td>\n",
       "      <td>0.054464</td>\n",
       "      <td>-0.05%</td>\n",
       "    </tr>\n",
       "    <tr>\n",
       "      <th>6</th>\n",
       "      <td>2020-02-15</td>\n",
       "      <td>2020-04-01</td>\n",
       "      <td>0.161318</td>\n",
       "      <td>0.161104</td>\n",
       "      <td>0.132%</td>\n",
       "    </tr>\n",
       "  </tbody>\n",
       "</table>\n",
       "</div>"
      ],
      "text/plain": [
       "        Start         End  MAE base  MAE trends 1-ratio\n",
       "0  2008-08-15  2008-11-01  0.106701    0.106428  0.256%\n",
       "1  2010-04-20  2010-07-20  0.057385    0.057168  0.377%\n",
       "2  2011-07-15  2011-10-15  0.059607    0.059766  -0.26%\n",
       "3  2015-08-01  2015-10-01  0.034641    0.034628  0.035%\n",
       "4  2016-01-01  2016-03-01  0.031243    0.031161  0.262%\n",
       "5  2018-11-20  2019-01-01  0.054435    0.054464  -0.05%\n",
       "6  2020-02-15  2020-04-01  0.161318    0.161104  0.132%"
      ]
     },
     "execution_count": 853,
     "metadata": {},
     "output_type": "execute_result"
    }
   ],
   "source": [
    "df"
   ]
  },
  {
   "cell_type": "code",
   "execution_count": null,
   "metadata": {},
   "outputs": [],
   "source": []
  },
  {
   "cell_type": "code",
   "execution_count": null,
   "metadata": {},
   "outputs": [],
   "source": []
  },
  {
   "cell_type": "code",
   "execution_count": null,
   "metadata": {},
   "outputs": [],
   "source": []
  }
 ],
 "metadata": {
  "kernelspec": {
   "display_name": "Python 3",
   "language": "python",
   "name": "python3"
  },
  "language_info": {
   "codemirror_mode": {
    "name": "ipython",
    "version": 3
   },
   "file_extension": ".py",
   "mimetype": "text/x-python",
   "name": "python",
   "nbconvert_exporter": "python",
   "pygments_lexer": "ipython3",
   "version": "3.8.5"
  }
 },
 "nbformat": 4,
 "nbformat_minor": 4
}
