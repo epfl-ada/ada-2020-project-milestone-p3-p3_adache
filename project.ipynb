{
 "cells": [
  {
   "cell_type": "code",
   "execution_count": 1,
   "metadata": {},
   "outputs": [],
   "source": [
    "import pandas as pd\n",
    "import numpy as np"
   ]
  },
  {
   "cell_type": "markdown",
   "metadata": {},
   "source": [
    "# 0. Data Wrangling"
   ]
  },
  {
   "cell_type": "markdown",
   "metadata": {},
   "source": [
    "Google Trends allows the interest *per day* iff the requested timeframe is of length of max 1 year. \n",
    "\n",
    "Therefore, we're going to do one request for each year for each keyword, from 2004 until 2020, and merge all the datasets using the external API `pytrends`.\n",
    "\n",
    "Installation : `pip install pytrends`"
   ]
  },
  {
   "cell_type": "markdown",
   "metadata": {},
   "source": [
    "We import the data from google trends and S&P500 stock markets. Both data are imported the same day"
   ]
  },
  {
   "cell_type": "code",
   "execution_count": 2,
   "metadata": {},
   "outputs": [],
   "source": [
    "from pytrends.request import TrendReq\n",
    "\n",
    "pytrends = TrendReq(hl='en-US', timeout=(20,60), tz=360)"
   ]
  },
  {
   "cell_type": "code",
   "execution_count": 3,
   "metadata": {},
   "outputs": [],
   "source": [
    "## Helper functions\n",
    "\n",
    "def add_year(date):\n",
    "    if is_leap_year(date.year):\n",
    "        delta = datetime.timedelta(days=366)\n",
    "    else:\n",
    "        delta = datetime.timedelta(days=365)\n",
    "    return date + delta\n",
    "\n",
    "def is_leap_year(year):\n",
    "    if (year % 4) == 0:\n",
    "        if (year % 100) == 0:\n",
    "            if (year % 400) == 0:\n",
    "                return True\n",
    "            else:\n",
    "                return False\n",
    "        else:\n",
    "            return True\n",
    "    else:\n",
    "        return False"
   ]
  },
  {
   "cell_type": "code",
   "execution_count": 4,
   "metadata": {},
   "outputs": [],
   "source": [
    "import requests\n",
    "import time\n",
    "import datetime\n",
    "import pandas as pd\n",
    "\n",
    "'''\n",
    "Download and save as csv the Google US Trends, interests by week, for 1 selected keyword for the period of 2004-today\n",
    "'''\n",
    "def dl_interest_for_keyword(keyword):\n",
    "    kw_list = [keyword] # List of keywords. We're using only 1 for each method execution\n",
    "    dataframes = []     # List of df for each year\n",
    "    start = datetime.datetime(2004,1,1) \n",
    "    current_year = start\n",
    "\n",
    "    # Make a request for each year\n",
    "    for i in range(2020-2004+1):\n",
    "        timeframe = str(current_year.year)+'-01-01 ' + str(current_year.year) + '-12-31'\n",
    "        try:\n",
    "            pytrends.build_payload(kw_list, cat=0, timeframe=timeframe, geo='US', gprop='')\n",
    "            print('Downloading ' + str(current_year.year) + ' data...',end='')\n",
    "            df = pytrends.interest_over_time()\n",
    "            print('OK')\n",
    "            dataframes.append(df)\n",
    "            time.sleep(1) # Sleep to avoid 429, may or may not be necessary\n",
    "            current_year=add_year(current_year)\n",
    "        except requests.exceptions.Timeout:\n",
    "            print('TIMEOUT')\n",
    "\n",
    "    # Merge the datasets of all years\n",
    "    df_merged = pd.concat(dataframes)\n",
    "    df_merged.drop('isPartial',inplace=True,axis=1)\n",
    "\n",
    "    # Save to a .csv named as the keyword \n",
    "    df_merged.to_csv(keyword +'.csv', header='interest', index_label='date')\n",
    "    print('Saved as `' + keyword +'.csv'+'`')"
   ]
  },
  {
   "cell_type": "code",
   "execution_count": 5,
   "metadata": {},
   "outputs": [
    {
     "name": "stdout",
     "output_type": "stream",
     "text": [
      "Downloading 2004 data...OK\n",
      "Downloading 2005 data...OK\n",
      "Downloading 2006 data...OK\n",
      "Downloading 2007 data...OK\n",
      "Downloading 2008 data...OK\n",
      "Downloading 2009 data...OK\n",
      "Downloading 2010 data...OK\n",
      "Downloading 2011 data...OK\n",
      "Downloading 2012 data...OK\n",
      "Downloading 2013 data...OK\n",
      "Downloading 2014 data...OK\n",
      "Downloading 2015 data...OK\n",
      "Downloading 2016 data...OK\n",
      "Downloading 2017 data...OK\n",
      "Downloading 2018 data...OK\n",
      "Downloading 2019 data...OK\n",
      "Downloading 2020 data...OK\n",
      "Saved as `stocks to buy.csv`\n"
     ]
    }
   ],
   "source": [
    "dl_interest_for_keyword('stocks to buy')"
   ]
  },
  {
   "cell_type": "markdown",
   "metadata": {},
   "source": [
    "# 0.1 Importing Google Trends Data"
   ]
  },
  {
   "cell_type": "markdown",
   "metadata": {},
   "source": [
    "interesting keywords for Google trends:\n",
    "- debt\n",
    "- stocks\n",
    "- inflation\n",
    "- portfolio\n",
    "- housing\n",
    "\n",
    "- revenues\n",
    "- employment\n",
    "- unemployment\n",
    "- leverage\n",
    "- credit\n",
    "\n",
    "- return\n",
    "- bonds\n",
    "- economics\n",
    "- religion\n",
    "- money\n",
    "\n",
    "- profit\n",
    "- investment\n",
    "- gains\n",
    "- cancer\n",
    "- marriage\n",
    "\n",
    "- buy\n",
    "- hold\n",
    "- headlines\n",
    "- present\n",
    "- crisis\n",
    "\n",
    "- society\n",
    "- gross\n",
    "- loss\n",
    "- hedge\n",
    "- nasdaq\n",
    "\n",
    "- cash\n",
    "- short sell\n",
    "- greed\n",
    "- gain\n",
    "- happy\n",
    "\n",
    "- financial markets\n",
    "- finance\n",
    "- house\n",
    "- water\n",
    "- rich\n",
    "\n",
    "- risk\n",
    "- oil\n",
    "- opportunity\n",
    "- golf\n",
    "- invest\n",
    "\n",
    "- success\n",
    "- economy\n",
    "- food\n",
    "- war\n",
    "- consume\n",
    "\n",
    "- nyse\n",
    "- movie\n",
    "- health\n",
    "- consumption\n",
    "- transaction\n",
    "\n",
    "- environment\n",
    "- fond\n",
    "\n",
    "- spdr\n",
    "- buy spdr\n",
    "\n",
    "Adding companies that belong to S&P500 (https://fknol.com/list/market-cap-sp-500-index-companies.php)\n",
    "\n",
    "- apple\n",
    "- microsoft\n",
    "- amazon\n",
    "\n",
    "- alphabet\n",
    "- google\n",
    "- facebook\n",
    "- berkshire\n",
    "- visa\n",
    "\n",
    "- walmart\n",
    "- johnson\n",
    "- j p morgan\n",
    "- procter and gamble\n",
    "- mastercard\n",
    "\n",
    "- nvidia\n",
    "- united health\n",
    "- home depot\n",
    "- walt disney\n",
    "- verizon communications\n",
    "\n",
    "- paypal\n",
    "- bank of america\n",
    "- comcast\n",
    "- adobe\n",
    "- coca cola\n",
    "\n",
    "- pfizer\n",
    "- netflix\n",
    "- nike\n",
    "- intel\n",
    "- at&t\n",
    "\n",
    "- merck\n",
    "- salesforce\n",
    "- pepsico\n",
    "- abbott labs\n",
    "- cisco\n",
    "\n",
    "- oracle\n",
    "- mcdonalds\n",
    "- medtronic\n"
   ]
  },
  {
   "cell_type": "code",
   "execution_count": 6,
   "metadata": {},
   "outputs": [],
   "source": [
    "import glob\n",
    "\n",
    "all_files = glob.glob(\"data/Keywords_US_Weekly/*\")\n",
    "\n",
    "dfs = []\n",
    "\n",
    "for filename in all_files:\n",
    "    df =  pd.read_csv(filename,index_col='date')\n",
    "    dfs.append(df)\n",
    "    \n",
    "df = pd.concat(dfs, axis=1)"
   ]
  },
  {
   "cell_type": "code",
   "execution_count": 7,
   "metadata": {
    "scrolled": true
   },
   "outputs": [
    {
     "data": {
      "text/html": [
       "<div>\n",
       "<style scoped>\n",
       "    .dataframe tbody tr th:only-of-type {\n",
       "        vertical-align: middle;\n",
       "    }\n",
       "\n",
       "    .dataframe tbody tr th {\n",
       "        vertical-align: top;\n",
       "    }\n",
       "\n",
       "    .dataframe thead th {\n",
       "        text-align: right;\n",
       "    }\n",
       "</style>\n",
       "<table border=\"1\" class=\"dataframe\">\n",
       "  <thead>\n",
       "    <tr style=\"text-align: right;\">\n",
       "      <th></th>\n",
       "      <th>abbott labs</th>\n",
       "      <th>adobe</th>\n",
       "      <th>alphabet</th>\n",
       "      <th>amazon</th>\n",
       "      <th>apple</th>\n",
       "      <th>at&amp;t</th>\n",
       "      <th>berkshire</th>\n",
       "      <th>bonds</th>\n",
       "      <th>buy</th>\n",
       "      <th>cancer</th>\n",
       "      <th>...</th>\n",
       "      <th>spdr</th>\n",
       "      <th>stocks</th>\n",
       "      <th>success</th>\n",
       "      <th>transaction</th>\n",
       "      <th>unemployment</th>\n",
       "      <th>united health</th>\n",
       "      <th>verizon communications</th>\n",
       "      <th>visa</th>\n",
       "      <th>war</th>\n",
       "      <th>water</th>\n",
       "    </tr>\n",
       "    <tr>\n",
       "      <th>date</th>\n",
       "      <th></th>\n",
       "      <th></th>\n",
       "      <th></th>\n",
       "      <th></th>\n",
       "      <th></th>\n",
       "      <th></th>\n",
       "      <th></th>\n",
       "      <th></th>\n",
       "      <th></th>\n",
       "      <th></th>\n",
       "      <th></th>\n",
       "      <th></th>\n",
       "      <th></th>\n",
       "      <th></th>\n",
       "      <th></th>\n",
       "      <th></th>\n",
       "      <th></th>\n",
       "      <th></th>\n",
       "      <th></th>\n",
       "      <th></th>\n",
       "      <th></th>\n",
       "    </tr>\n",
       "  </thead>\n",
       "  <tbody>\n",
       "    <tr>\n",
       "      <th>2004-01-04</th>\n",
       "      <td>29</td>\n",
       "      <td>92</td>\n",
       "      <td>79</td>\n",
       "      <td>53</td>\n",
       "      <td>67</td>\n",
       "      <td>90</td>\n",
       "      <td>55</td>\n",
       "      <td>81</td>\n",
       "      <td>67</td>\n",
       "      <td>75</td>\n",
       "      <td>...</td>\n",
       "      <td>52</td>\n",
       "      <td>89</td>\n",
       "      <td>85</td>\n",
       "      <td>100</td>\n",
       "      <td>98</td>\n",
       "      <td>81</td>\n",
       "      <td>0</td>\n",
       "      <td>60</td>\n",
       "      <td>64</td>\n",
       "      <td>75</td>\n",
       "    </tr>\n",
       "    <tr>\n",
       "      <th>2004-01-11</th>\n",
       "      <td>24</td>\n",
       "      <td>87</td>\n",
       "      <td>85</td>\n",
       "      <td>51</td>\n",
       "      <td>69</td>\n",
       "      <td>89</td>\n",
       "      <td>28</td>\n",
       "      <td>81</td>\n",
       "      <td>66</td>\n",
       "      <td>74</td>\n",
       "      <td>...</td>\n",
       "      <td>74</td>\n",
       "      <td>97</td>\n",
       "      <td>70</td>\n",
       "      <td>70</td>\n",
       "      <td>98</td>\n",
       "      <td>100</td>\n",
       "      <td>20</td>\n",
       "      <td>55</td>\n",
       "      <td>65</td>\n",
       "      <td>76</td>\n",
       "    </tr>\n",
       "    <tr>\n",
       "      <th>2004-01-18</th>\n",
       "      <td>32</td>\n",
       "      <td>100</td>\n",
       "      <td>77</td>\n",
       "      <td>54</td>\n",
       "      <td>63</td>\n",
       "      <td>96</td>\n",
       "      <td>48</td>\n",
       "      <td>77</td>\n",
       "      <td>64</td>\n",
       "      <td>71</td>\n",
       "      <td>...</td>\n",
       "      <td>32</td>\n",
       "      <td>100</td>\n",
       "      <td>85</td>\n",
       "      <td>73</td>\n",
       "      <td>96</td>\n",
       "      <td>80</td>\n",
       "      <td>40</td>\n",
       "      <td>44</td>\n",
       "      <td>65</td>\n",
       "      <td>77</td>\n",
       "    </tr>\n",
       "    <tr>\n",
       "      <th>2004-01-25</th>\n",
       "      <td>68</td>\n",
       "      <td>93</td>\n",
       "      <td>84</td>\n",
       "      <td>51</td>\n",
       "      <td>61</td>\n",
       "      <td>81</td>\n",
       "      <td>31</td>\n",
       "      <td>72</td>\n",
       "      <td>63</td>\n",
       "      <td>82</td>\n",
       "      <td>...</td>\n",
       "      <td>0</td>\n",
       "      <td>93</td>\n",
       "      <td>76</td>\n",
       "      <td>91</td>\n",
       "      <td>100</td>\n",
       "      <td>83</td>\n",
       "      <td>19</td>\n",
       "      <td>48</td>\n",
       "      <td>62</td>\n",
       "      <td>80</td>\n",
       "    </tr>\n",
       "    <tr>\n",
       "      <th>2004-02-01</th>\n",
       "      <td>93</td>\n",
       "      <td>95</td>\n",
       "      <td>84</td>\n",
       "      <td>50</td>\n",
       "      <td>59</td>\n",
       "      <td>88</td>\n",
       "      <td>30</td>\n",
       "      <td>75</td>\n",
       "      <td>59</td>\n",
       "      <td>71</td>\n",
       "      <td>...</td>\n",
       "      <td>21</td>\n",
       "      <td>77</td>\n",
       "      <td>84</td>\n",
       "      <td>50</td>\n",
       "      <td>85</td>\n",
       "      <td>65</td>\n",
       "      <td>19</td>\n",
       "      <td>50</td>\n",
       "      <td>64</td>\n",
       "      <td>73</td>\n",
       "    </tr>\n",
       "  </tbody>\n",
       "</table>\n",
       "<p>5 rows × 86 columns</p>\n",
       "</div>"
      ],
      "text/plain": [
       "            abbott labs  adobe  alphabet  amazon  apple  at&t  berkshire  \\\n",
       "date                                                                       \n",
       "2004-01-04           29     92        79      53     67    90         55   \n",
       "2004-01-11           24     87        85      51     69    89         28   \n",
       "2004-01-18           32    100        77      54     63    96         48   \n",
       "2004-01-25           68     93        84      51     61    81         31   \n",
       "2004-02-01           93     95        84      50     59    88         30   \n",
       "\n",
       "            bonds  buy  cancer  ...  spdr  stocks  success  transaction  \\\n",
       "date                            ...                                       \n",
       "2004-01-04     81   67      75  ...    52      89       85          100   \n",
       "2004-01-11     81   66      74  ...    74      97       70           70   \n",
       "2004-01-18     77   64      71  ...    32     100       85           73   \n",
       "2004-01-25     72   63      82  ...     0      93       76           91   \n",
       "2004-02-01     75   59      71  ...    21      77       84           50   \n",
       "\n",
       "            unemployment  united health  verizon communications  visa  war  \\\n",
       "date                                                                         \n",
       "2004-01-04            98             81                       0    60   64   \n",
       "2004-01-11            98            100                      20    55   65   \n",
       "2004-01-18            96             80                      40    44   65   \n",
       "2004-01-25           100             83                      19    48   62   \n",
       "2004-02-01            85             65                      19    50   64   \n",
       "\n",
       "            water  \n",
       "date               \n",
       "2004-01-04     75  \n",
       "2004-01-11     76  \n",
       "2004-01-18     77  \n",
       "2004-01-25     80  \n",
       "2004-02-01     73  \n",
       "\n",
       "[5 rows x 86 columns]"
      ]
     },
     "execution_count": 7,
     "metadata": {},
     "output_type": "execute_result"
    }
   ],
   "source": [
    "df.head()"
   ]
  },
  {
   "cell_type": "markdown",
   "metadata": {},
   "source": [
    "- Compute percentage change in a cell in comparison to previous month according to [Quantifying Trading Behavior in Financial Markets Using Google Trends](https://www.nature.com/articles/srep01684).\n",
    "- Set first week to zero\n",
    "- **TODO** Handle inf values. Replace them by the max value of the dataset ? "
   ]
  },
  {
   "cell_type": "code",
   "execution_count": 8,
   "metadata": {
    "scrolled": false
   },
   "outputs": [
    {
     "data": {
      "text/html": [
       "<div>\n",
       "<style scoped>\n",
       "    .dataframe tbody tr th:only-of-type {\n",
       "        vertical-align: middle;\n",
       "    }\n",
       "\n",
       "    .dataframe tbody tr th {\n",
       "        vertical-align: top;\n",
       "    }\n",
       "\n",
       "    .dataframe thead th {\n",
       "        text-align: right;\n",
       "    }\n",
       "</style>\n",
       "<table border=\"1\" class=\"dataframe\">\n",
       "  <thead>\n",
       "    <tr style=\"text-align: right;\">\n",
       "      <th></th>\n",
       "      <th>abbott labs</th>\n",
       "      <th>adobe</th>\n",
       "      <th>alphabet</th>\n",
       "      <th>amazon</th>\n",
       "      <th>apple</th>\n",
       "      <th>at&amp;t</th>\n",
       "      <th>berkshire</th>\n",
       "      <th>bonds</th>\n",
       "      <th>buy</th>\n",
       "      <th>cancer</th>\n",
       "      <th>...</th>\n",
       "      <th>spdr</th>\n",
       "      <th>stocks</th>\n",
       "      <th>success</th>\n",
       "      <th>transaction</th>\n",
       "      <th>unemployment</th>\n",
       "      <th>united health</th>\n",
       "      <th>verizon communications</th>\n",
       "      <th>visa</th>\n",
       "      <th>war</th>\n",
       "      <th>water</th>\n",
       "    </tr>\n",
       "    <tr>\n",
       "      <th>date</th>\n",
       "      <th></th>\n",
       "      <th></th>\n",
       "      <th></th>\n",
       "      <th></th>\n",
       "      <th></th>\n",
       "      <th></th>\n",
       "      <th></th>\n",
       "      <th></th>\n",
       "      <th></th>\n",
       "      <th></th>\n",
       "      <th></th>\n",
       "      <th></th>\n",
       "      <th></th>\n",
       "      <th></th>\n",
       "      <th></th>\n",
       "      <th></th>\n",
       "      <th></th>\n",
       "      <th></th>\n",
       "      <th></th>\n",
       "      <th></th>\n",
       "      <th></th>\n",
       "    </tr>\n",
       "  </thead>\n",
       "  <tbody>\n",
       "    <tr>\n",
       "      <th>2004-01-04</th>\n",
       "      <td>0.000000</td>\n",
       "      <td>0.000000</td>\n",
       "      <td>0.000000</td>\n",
       "      <td>0.000000</td>\n",
       "      <td>0.000000</td>\n",
       "      <td>0.000000</td>\n",
       "      <td>0.000000</td>\n",
       "      <td>0.000000</td>\n",
       "      <td>0.000000</td>\n",
       "      <td>0.000000</td>\n",
       "      <td>...</td>\n",
       "      <td>0.000000</td>\n",
       "      <td>0.000000</td>\n",
       "      <td>0.000000</td>\n",
       "      <td>0.000000</td>\n",
       "      <td>0.000000</td>\n",
       "      <td>0.000000</td>\n",
       "      <td>0.000000</td>\n",
       "      <td>0.000000</td>\n",
       "      <td>0.000000</td>\n",
       "      <td>0.000000</td>\n",
       "    </tr>\n",
       "    <tr>\n",
       "      <th>2004-01-11</th>\n",
       "      <td>-0.172414</td>\n",
       "      <td>-0.054348</td>\n",
       "      <td>0.075949</td>\n",
       "      <td>-0.037736</td>\n",
       "      <td>0.029851</td>\n",
       "      <td>-0.011111</td>\n",
       "      <td>-0.490909</td>\n",
       "      <td>0.000000</td>\n",
       "      <td>-0.014925</td>\n",
       "      <td>-0.013333</td>\n",
       "      <td>...</td>\n",
       "      <td>0.423077</td>\n",
       "      <td>0.089888</td>\n",
       "      <td>-0.176471</td>\n",
       "      <td>-0.300000</td>\n",
       "      <td>0.000000</td>\n",
       "      <td>0.234568</td>\n",
       "      <td>inf</td>\n",
       "      <td>-0.083333</td>\n",
       "      <td>0.015625</td>\n",
       "      <td>0.013333</td>\n",
       "    </tr>\n",
       "    <tr>\n",
       "      <th>2004-01-18</th>\n",
       "      <td>0.333333</td>\n",
       "      <td>0.149425</td>\n",
       "      <td>-0.094118</td>\n",
       "      <td>0.058824</td>\n",
       "      <td>-0.086957</td>\n",
       "      <td>0.078652</td>\n",
       "      <td>0.714286</td>\n",
       "      <td>-0.049383</td>\n",
       "      <td>-0.030303</td>\n",
       "      <td>-0.040541</td>\n",
       "      <td>...</td>\n",
       "      <td>-0.567568</td>\n",
       "      <td>0.030928</td>\n",
       "      <td>0.214286</td>\n",
       "      <td>0.042857</td>\n",
       "      <td>-0.020408</td>\n",
       "      <td>-0.200000</td>\n",
       "      <td>1.000000</td>\n",
       "      <td>-0.200000</td>\n",
       "      <td>0.000000</td>\n",
       "      <td>0.013158</td>\n",
       "    </tr>\n",
       "    <tr>\n",
       "      <th>2004-01-25</th>\n",
       "      <td>1.125000</td>\n",
       "      <td>-0.070000</td>\n",
       "      <td>0.090909</td>\n",
       "      <td>-0.055556</td>\n",
       "      <td>-0.031746</td>\n",
       "      <td>-0.156250</td>\n",
       "      <td>-0.354167</td>\n",
       "      <td>-0.064935</td>\n",
       "      <td>-0.015625</td>\n",
       "      <td>0.154930</td>\n",
       "      <td>...</td>\n",
       "      <td>-1.000000</td>\n",
       "      <td>-0.070000</td>\n",
       "      <td>-0.105882</td>\n",
       "      <td>0.246575</td>\n",
       "      <td>0.041667</td>\n",
       "      <td>0.037500</td>\n",
       "      <td>-0.525000</td>\n",
       "      <td>0.090909</td>\n",
       "      <td>-0.046154</td>\n",
       "      <td>0.038961</td>\n",
       "    </tr>\n",
       "    <tr>\n",
       "      <th>2004-02-01</th>\n",
       "      <td>0.367647</td>\n",
       "      <td>0.021505</td>\n",
       "      <td>0.000000</td>\n",
       "      <td>-0.019608</td>\n",
       "      <td>-0.032787</td>\n",
       "      <td>0.086420</td>\n",
       "      <td>-0.032258</td>\n",
       "      <td>0.041667</td>\n",
       "      <td>-0.063492</td>\n",
       "      <td>-0.134146</td>\n",
       "      <td>...</td>\n",
       "      <td>inf</td>\n",
       "      <td>-0.172043</td>\n",
       "      <td>0.105263</td>\n",
       "      <td>-0.450549</td>\n",
       "      <td>-0.150000</td>\n",
       "      <td>-0.216867</td>\n",
       "      <td>0.000000</td>\n",
       "      <td>0.041667</td>\n",
       "      <td>0.032258</td>\n",
       "      <td>-0.087500</td>\n",
       "    </tr>\n",
       "    <tr>\n",
       "      <th>...</th>\n",
       "      <td>...</td>\n",
       "      <td>...</td>\n",
       "      <td>...</td>\n",
       "      <td>...</td>\n",
       "      <td>...</td>\n",
       "      <td>...</td>\n",
       "      <td>...</td>\n",
       "      <td>...</td>\n",
       "      <td>...</td>\n",
       "      <td>...</td>\n",
       "      <td>...</td>\n",
       "      <td>...</td>\n",
       "      <td>...</td>\n",
       "      <td>...</td>\n",
       "      <td>...</td>\n",
       "      <td>...</td>\n",
       "      <td>...</td>\n",
       "      <td>...</td>\n",
       "      <td>...</td>\n",
       "      <td>...</td>\n",
       "      <td>...</td>\n",
       "    </tr>\n",
       "    <tr>\n",
       "      <th>2020-11-08</th>\n",
       "      <td>0.000000</td>\n",
       "      <td>0.232143</td>\n",
       "      <td>0.283019</td>\n",
       "      <td>0.283333</td>\n",
       "      <td>0.258621</td>\n",
       "      <td>0.189189</td>\n",
       "      <td>0.229167</td>\n",
       "      <td>0.208955</td>\n",
       "      <td>0.720930</td>\n",
       "      <td>0.290323</td>\n",
       "      <td>...</td>\n",
       "      <td>0.310345</td>\n",
       "      <td>0.444444</td>\n",
       "      <td>0.206349</td>\n",
       "      <td>0.205882</td>\n",
       "      <td>0.227273</td>\n",
       "      <td>0.246377</td>\n",
       "      <td>1.090909</td>\n",
       "      <td>0.134615</td>\n",
       "      <td>0.780000</td>\n",
       "      <td>0.161290</td>\n",
       "    </tr>\n",
       "    <tr>\n",
       "      <th>2020-11-15</th>\n",
       "      <td>0.400000</td>\n",
       "      <td>0.028986</td>\n",
       "      <td>-0.029412</td>\n",
       "      <td>0.064935</td>\n",
       "      <td>0.013699</td>\n",
       "      <td>0.011364</td>\n",
       "      <td>0.033898</td>\n",
       "      <td>0.123457</td>\n",
       "      <td>-0.081081</td>\n",
       "      <td>-0.025000</td>\n",
       "      <td>...</td>\n",
       "      <td>-0.157895</td>\n",
       "      <td>0.000000</td>\n",
       "      <td>0.039474</td>\n",
       "      <td>0.048780</td>\n",
       "      <td>0.000000</td>\n",
       "      <td>0.046512</td>\n",
       "      <td>-0.275362</td>\n",
       "      <td>0.000000</td>\n",
       "      <td>0.123596</td>\n",
       "      <td>0.013889</td>\n",
       "    </tr>\n",
       "    <tr>\n",
       "      <th>2020-11-22</th>\n",
       "      <td>-0.571429</td>\n",
       "      <td>-0.197183</td>\n",
       "      <td>-0.242424</td>\n",
       "      <td>0.158537</td>\n",
       "      <td>0.351351</td>\n",
       "      <td>0.022472</td>\n",
       "      <td>-0.065574</td>\n",
       "      <td>-0.340659</td>\n",
       "      <td>0.470588</td>\n",
       "      <td>-0.153846</td>\n",
       "      <td>...</td>\n",
       "      <td>-0.250000</td>\n",
       "      <td>0.051282</td>\n",
       "      <td>-0.253165</td>\n",
       "      <td>-0.174419</td>\n",
       "      <td>-0.074074</td>\n",
       "      <td>-0.322222</td>\n",
       "      <td>0.380000</td>\n",
       "      <td>-0.016949</td>\n",
       "      <td>-0.210000</td>\n",
       "      <td>-0.068493</td>\n",
       "    </tr>\n",
       "    <tr>\n",
       "      <th>2020-11-29</th>\n",
       "      <td>0.666667</td>\n",
       "      <td>0.280702</td>\n",
       "      <td>0.160000</td>\n",
       "      <td>0.052632</td>\n",
       "      <td>-0.130000</td>\n",
       "      <td>0.032967</td>\n",
       "      <td>0.070175</td>\n",
       "      <td>0.316667</td>\n",
       "      <td>-0.280000</td>\n",
       "      <td>0.121212</td>\n",
       "      <td>...</td>\n",
       "      <td>0.625000</td>\n",
       "      <td>0.097561</td>\n",
       "      <td>0.271186</td>\n",
       "      <td>0.183099</td>\n",
       "      <td>0.120000</td>\n",
       "      <td>0.426230</td>\n",
       "      <td>0.000000</td>\n",
       "      <td>0.086207</td>\n",
       "      <td>-0.126582</td>\n",
       "      <td>0.102941</td>\n",
       "    </tr>\n",
       "    <tr>\n",
       "      <th>2020-12-06</th>\n",
       "      <td>0.400000</td>\n",
       "      <td>0.054795</td>\n",
       "      <td>0.051724</td>\n",
       "      <td>-0.030000</td>\n",
       "      <td>-0.160920</td>\n",
       "      <td>-0.095745</td>\n",
       "      <td>-0.032787</td>\n",
       "      <td>0.126582</td>\n",
       "      <td>-0.111111</td>\n",
       "      <td>0.081081</td>\n",
       "      <td>...</td>\n",
       "      <td>0.128205</td>\n",
       "      <td>0.022222</td>\n",
       "      <td>0.066667</td>\n",
       "      <td>0.095238</td>\n",
       "      <td>0.142857</td>\n",
       "      <td>0.149425</td>\n",
       "      <td>-0.449275</td>\n",
       "      <td>0.031746</td>\n",
       "      <td>0.000000</td>\n",
       "      <td>0.013333</td>\n",
       "    </tr>\n",
       "  </tbody>\n",
       "</table>\n",
       "<p>884 rows × 86 columns</p>\n",
       "</div>"
      ],
      "text/plain": [
       "            abbott labs     adobe  alphabet    amazon     apple      at&t  \\\n",
       "date                                                                        \n",
       "2004-01-04     0.000000  0.000000  0.000000  0.000000  0.000000  0.000000   \n",
       "2004-01-11    -0.172414 -0.054348  0.075949 -0.037736  0.029851 -0.011111   \n",
       "2004-01-18     0.333333  0.149425 -0.094118  0.058824 -0.086957  0.078652   \n",
       "2004-01-25     1.125000 -0.070000  0.090909 -0.055556 -0.031746 -0.156250   \n",
       "2004-02-01     0.367647  0.021505  0.000000 -0.019608 -0.032787  0.086420   \n",
       "...                 ...       ...       ...       ...       ...       ...   \n",
       "2020-11-08     0.000000  0.232143  0.283019  0.283333  0.258621  0.189189   \n",
       "2020-11-15     0.400000  0.028986 -0.029412  0.064935  0.013699  0.011364   \n",
       "2020-11-22    -0.571429 -0.197183 -0.242424  0.158537  0.351351  0.022472   \n",
       "2020-11-29     0.666667  0.280702  0.160000  0.052632 -0.130000  0.032967   \n",
       "2020-12-06     0.400000  0.054795  0.051724 -0.030000 -0.160920 -0.095745   \n",
       "\n",
       "            berkshire     bonds       buy    cancer  ...      spdr    stocks  \\\n",
       "date                                                 ...                       \n",
       "2004-01-04   0.000000  0.000000  0.000000  0.000000  ...  0.000000  0.000000   \n",
       "2004-01-11  -0.490909  0.000000 -0.014925 -0.013333  ...  0.423077  0.089888   \n",
       "2004-01-18   0.714286 -0.049383 -0.030303 -0.040541  ... -0.567568  0.030928   \n",
       "2004-01-25  -0.354167 -0.064935 -0.015625  0.154930  ... -1.000000 -0.070000   \n",
       "2004-02-01  -0.032258  0.041667 -0.063492 -0.134146  ...       inf -0.172043   \n",
       "...               ...       ...       ...       ...  ...       ...       ...   \n",
       "2020-11-08   0.229167  0.208955  0.720930  0.290323  ...  0.310345  0.444444   \n",
       "2020-11-15   0.033898  0.123457 -0.081081 -0.025000  ... -0.157895  0.000000   \n",
       "2020-11-22  -0.065574 -0.340659  0.470588 -0.153846  ... -0.250000  0.051282   \n",
       "2020-11-29   0.070175  0.316667 -0.280000  0.121212  ...  0.625000  0.097561   \n",
       "2020-12-06  -0.032787  0.126582 -0.111111  0.081081  ...  0.128205  0.022222   \n",
       "\n",
       "             success  transaction  unemployment  united health  \\\n",
       "date                                                             \n",
       "2004-01-04  0.000000     0.000000      0.000000       0.000000   \n",
       "2004-01-11 -0.176471    -0.300000      0.000000       0.234568   \n",
       "2004-01-18  0.214286     0.042857     -0.020408      -0.200000   \n",
       "2004-01-25 -0.105882     0.246575      0.041667       0.037500   \n",
       "2004-02-01  0.105263    -0.450549     -0.150000      -0.216867   \n",
       "...              ...          ...           ...            ...   \n",
       "2020-11-08  0.206349     0.205882      0.227273       0.246377   \n",
       "2020-11-15  0.039474     0.048780      0.000000       0.046512   \n",
       "2020-11-22 -0.253165    -0.174419     -0.074074      -0.322222   \n",
       "2020-11-29  0.271186     0.183099      0.120000       0.426230   \n",
       "2020-12-06  0.066667     0.095238      0.142857       0.149425   \n",
       "\n",
       "            verizon communications      visa       war     water  \n",
       "date                                                              \n",
       "2004-01-04                0.000000  0.000000  0.000000  0.000000  \n",
       "2004-01-11                     inf -0.083333  0.015625  0.013333  \n",
       "2004-01-18                1.000000 -0.200000  0.000000  0.013158  \n",
       "2004-01-25               -0.525000  0.090909 -0.046154  0.038961  \n",
       "2004-02-01                0.000000  0.041667  0.032258 -0.087500  \n",
       "...                            ...       ...       ...       ...  \n",
       "2020-11-08                1.090909  0.134615  0.780000  0.161290  \n",
       "2020-11-15               -0.275362  0.000000  0.123596  0.013889  \n",
       "2020-11-22                0.380000 -0.016949 -0.210000 -0.068493  \n",
       "2020-11-29                0.000000  0.086207 -0.126582  0.102941  \n",
       "2020-12-06               -0.449275  0.031746  0.000000  0.013333  \n",
       "\n",
       "[884 rows x 86 columns]"
      ]
     },
     "execution_count": 8,
     "metadata": {},
     "output_type": "execute_result"
    }
   ],
   "source": [
    "df = df.pct_change(periods=1) # Computes the percentage change from the previous row. Applies to *all* rows\n",
    "df.iloc[0,:]=0\n",
    "df"
   ]
  },
  {
   "cell_type": "markdown",
   "metadata": {},
   "source": [
    "# 0.2 Importing S&P500 data"
   ]
  },
  {
   "cell_type": "code",
   "execution_count": 9,
   "metadata": {},
   "outputs": [],
   "source": [
    "stocks = pd.read_csv('data/sp500_data.csv')\n",
    "stocks['Date'] = pd.to_datetime(stocks['Date'], format='%d/%m/%Y')\n",
    "stocks=stocks.set_index('Date')\n",
    "stocks = stocks.iloc[1:,:]"
   ]
  },
  {
   "cell_type": "markdown",
   "metadata": {},
   "source": [
    "# 0.3 Visualization"
   ]
  },
  {
   "cell_type": "markdown",
   "metadata": {},
   "source": [
    "Let's plot the autocorrelation function to see with which lag values our prices are correlated."
   ]
  },
  {
   "cell_type": "code",
   "execution_count": 10,
   "metadata": {
    "scrolled": true
   },
   "outputs": [
    {
     "data": {
      "image/png": "[encoded data removed]",
      "text/plain": [
       "<Figure size 432x288 with 1 Axes>"
      ]
     },
     "metadata": {
      "needs_background": "light"
     },
     "output_type": "display_data"
    }
   ],
   "source": [
    "from pandas import read_csv\n",
    "from matplotlib import pyplot\n",
    "from statsmodels.graphics.tsaplots import plot_pacf\n",
    "\n",
    "\n",
    "plot_pacf(stocks['Adj Close'], lags=20)\n",
    "pyplot.show()"
   ]
  },
  {
   "cell_type": "markdown",
   "metadata": {},
   "source": [
    "We can see that the PACF becomes almost silent after lag(1). This means that an AR model is best in our situation in comparison with MA model. See [PSU Stat510: PACF](https://online.stat.psu.edu/stat510/lesson/2/2.2)"
   ]
  },
  {
   "cell_type": "code",
   "execution_count": 12,
   "metadata": {
    "scrolled": true
   },
   "outputs": [
    {
     "data": {
      "image/png": "[encoded data removed]",
      "text/plain": [
       "<Figure size 864x288 with 1 Axes>"
      ]
     },
     "metadata": {
      "needs_background": "light"
     },
     "output_type": "display_data"
    }
   ],
   "source": [
    "import matplotlib.pyplot as plt \n",
    "plt.figure(figsize=(12, 4))\n",
    "plt.plot((stocks['Adj Close']-stocks['Adj Close'].shift())[1:])\n",
    "plt.title('S&P 500 First Difference')\n",
    "plt.show()"
   ]
  },
  {
   "cell_type": "markdown",
   "metadata": {},
   "source": [
    "In 2008, 2009 and in February/March 2020 which correspond to stock market crashes, we observe an exponential behaviour. To avoid that these periods overinfluence our models due to their high variance, we're going to apply the natural logarithm function to our values. "
   ]
  },
  {
   "cell_type": "code",
   "execution_count": 13,
   "metadata": {
    "scrolled": false
   },
   "outputs": [
    {
     "data": {
      "image/png": "[encoded data removed]",
      "text/plain": [
       "<Figure size 432x288 with 1 Axes>"
      ]
     },
     "metadata": {
      "needs_background": "light"
     },
     "output_type": "display_data"
    }
   ],
   "source": [
    "from pandas import read_csv\n",
    "from matplotlib import pyplot as plt\n",
    "from statsmodels.graphics.tsaplots import plot_acf\n",
    "\n",
    "series = stocks['Adj Close']\n",
    "plot_acf(series, lags=100)\n",
    "plt.show()"
   ]
  },
  {
   "cell_type": "markdown",
   "metadata": {},
   "source": [
    "The ACF is decreasing linearly with the number of lags. "
   ]
  },
  {
   "cell_type": "markdown",
   "metadata": {},
   "source": [
    "https://dspace.mit.edu/bitstream/handle/1721.1/55206/609415506-MIT.pdf?sequence=2&isAllowed=y"
   ]
  },
  {
   "cell_type": "markdown",
   "metadata": {},
   "source": [
    "#### Seasonality"
   ]
  },
  {
   "cell_type": "code",
   "execution_count": 55,
   "metadata": {
    "scrolled": false
   },
   "outputs": [
    {
     "data": {
      "image/png": "[encoded data removed]",
      "text/plain": [
       "<Figure size 936x648 with 4 Axes>"
      ]
     },
     "metadata": {
      "needs_background": "light"
     },
     "output_type": "display_data"
    }
   ],
   "source": [
    "from statsmodels.tsa.seasonal import seasonal_decompose\n",
    "sd = seasonal_decompose(stocks['Adj Close'], model='additive', period=52)  \n",
    "#plt.figure(figsize=(12, 10))\n",
    "fig = sd.plot()\n",
    "fig.set_size_inches(13,9)\n",
    "plt.show()"
   ]
  },
  {
   "cell_type": "markdown",
   "metadata": {},
   "source": [
    "There doesn't seem to be any significant yearly or weekly seasonality. Let's check the monthly seasonality. "
   ]
  },
  {
   "cell_type": "code",
   "execution_count": 15,
   "metadata": {},
   "outputs": [],
   "source": [
    "stocks['m'] = stocks.index.month"
   ]
  },
  {
   "cell_type": "code",
   "execution_count": 16,
   "metadata": {
    "scrolled": false
   },
   "outputs": [
    {
     "data": {
      "text/plain": [
       "<AxesSubplot:xlabel='m'>"
      ]
     },
     "execution_count": 16,
     "metadata": {},
     "output_type": "execute_result"
    },
    {
     "data": {
      "image/png": "[encoded data removed]",
      "text/plain": [
       "<Figure size 432x288 with 1 Axes>"
      ]
     },
     "metadata": {
      "needs_background": "light"
     },
     "output_type": "display_data"
    }
   ],
   "source": [
    "stocks.groupby('m')['Adj Close'].mean().plot.bar()"
   ]
  },
  {
   "cell_type": "markdown",
   "metadata": {},
   "source": [
    "There is a weak monthly seasonality. "
   ]
  },
  {
   "cell_type": "markdown",
   "metadata": {},
   "source": [
    "# 0.4 Preprocessing"
   ]
  },
  {
   "cell_type": "markdown",
   "metadata": {},
   "source": [
    "#### Applying logn"
   ]
  },
  {
   "cell_type": "code",
   "execution_count": 17,
   "metadata": {},
   "outputs": [],
   "source": [
    "import math \n",
    "stocks['Log Adj Close'] = list(map(lambda x: math.log1p(x), stocks['Adj Close'].values))"
   ]
  },
  {
   "cell_type": "code",
   "execution_count": 18,
   "metadata": {
    "scrolled": false
   },
   "outputs": [
    {
     "data": {
      "text/plain": [
       "<AxesSubplot:xlabel='Date'>"
      ]
     },
     "execution_count": 18,
     "metadata": {},
     "output_type": "execute_result"
    },
    {
     "data": {
      "image/png": "[encoded data removed]",
      "text/plain": [
       "<Figure size 432x288 with 1 Axes>"
      ]
     },
     "metadata": {
      "needs_background": "light"
     },
     "output_type": "display_data"
    }
   ],
   "source": [
    "stocks['Log Adj Close'].plot()"
   ]
  },
  {
   "cell_type": "code",
   "execution_count": 19,
   "metadata": {
    "scrolled": false
   },
   "outputs": [
    {
     "data": {
      "text/plain": [
       "<AxesSubplot:xlabel='Date'>"
      ]
     },
     "execution_count": 19,
     "metadata": {},
     "output_type": "execute_result"
    },
    {
     "data": {
      "image/png": "[encoded data removed]",
      "text/plain": [
       "<Figure size 432x288 with 1 Axes>"
      ]
     },
     "metadata": {
      "needs_background": "light"
     },
     "output_type": "display_data"
    }
   ],
   "source": [
    "stocks['Adj Close'].plot()"
   ]
  },
  {
   "cell_type": "markdown",
   "metadata": {},
   "source": [
    "#### Resampling"
   ]
  },
  {
   "cell_type": "markdown",
   "metadata": {},
   "source": [
    "The closing stock price is generally considered as an accurate market signal. (See [Closing Price](https://www.investopedia.com/terms/c/closingprice.asp)). Thereafter we'll only consider the Adjusted Closing value of each trading week."
   ]
  },
  {
   "cell_type": "code",
   "execution_count": 20,
   "metadata": {
    "scrolled": true
   },
   "outputs": [],
   "source": [
    "keep_last = lambda x: x.tail(1)"
   ]
  },
  {
   "cell_type": "code",
   "execution_count": 21,
   "metadata": {
    "scrolled": false
   },
   "outputs": [
    {
     "data": {
      "text/html": [
       "<div>\n",
       "<style scoped>\n",
       "    .dataframe tbody tr th:only-of-type {\n",
       "        vertical-align: middle;\n",
       "    }\n",
       "\n",
       "    .dataframe tbody tr th {\n",
       "        vertical-align: top;\n",
       "    }\n",
       "\n",
       "    .dataframe thead th {\n",
       "        text-align: right;\n",
       "    }\n",
       "</style>\n",
       "<table border=\"1\" class=\"dataframe\">\n",
       "  <thead>\n",
       "    <tr style=\"text-align: right;\">\n",
       "      <th></th>\n",
       "      <th>Open</th>\n",
       "      <th>High</th>\n",
       "      <th>Low</th>\n",
       "      <th>Close</th>\n",
       "      <th>Adj Close</th>\n",
       "      <th>Volume</th>\n",
       "      <th>m</th>\n",
       "      <th>Log Adj Close</th>\n",
       "    </tr>\n",
       "    <tr>\n",
       "      <th>Date</th>\n",
       "      <th></th>\n",
       "      <th></th>\n",
       "      <th></th>\n",
       "      <th></th>\n",
       "      <th></th>\n",
       "      <th></th>\n",
       "      <th></th>\n",
       "      <th></th>\n",
       "    </tr>\n",
       "  </thead>\n",
       "  <tbody>\n",
       "    <tr>\n",
       "      <th>2004-01-02</th>\n",
       "      <td>1111.920044</td>\n",
       "      <td>1118.849976</td>\n",
       "      <td>1105.079956</td>\n",
       "      <td>1108.479980</td>\n",
       "      <td>1108.479980</td>\n",
       "      <td>1153200000</td>\n",
       "      <td>1</td>\n",
       "      <td>7.011647</td>\n",
       "    </tr>\n",
       "    <tr>\n",
       "      <th>2004-01-09</th>\n",
       "      <td>1131.920044</td>\n",
       "      <td>1131.920044</td>\n",
       "      <td>1120.900024</td>\n",
       "      <td>1121.859985</td>\n",
       "      <td>1121.859985</td>\n",
       "      <td>1720700000</td>\n",
       "      <td>1</td>\n",
       "      <td>7.023634</td>\n",
       "    </tr>\n",
       "    <tr>\n",
       "      <th>2004-01-16</th>\n",
       "      <td>1132.050049</td>\n",
       "      <td>1139.829956</td>\n",
       "      <td>1132.050049</td>\n",
       "      <td>1139.829956</td>\n",
       "      <td>1139.829956</td>\n",
       "      <td>1721100000</td>\n",
       "      <td>1</td>\n",
       "      <td>7.039511</td>\n",
       "    </tr>\n",
       "    <tr>\n",
       "      <th>2004-01-23</th>\n",
       "      <td>1143.939941</td>\n",
       "      <td>1150.310059</td>\n",
       "      <td>1136.849976</td>\n",
       "      <td>1141.550049</td>\n",
       "      <td>1141.550049</td>\n",
       "      <td>1561200000</td>\n",
       "      <td>1</td>\n",
       "      <td>7.041018</td>\n",
       "    </tr>\n",
       "    <tr>\n",
       "      <th>2004-01-30</th>\n",
       "      <td>1134.109985</td>\n",
       "      <td>1134.170044</td>\n",
       "      <td>1127.729980</td>\n",
       "      <td>1131.130005</td>\n",
       "      <td>1131.130005</td>\n",
       "      <td>1635000000</td>\n",
       "      <td>1</td>\n",
       "      <td>7.031856</td>\n",
       "    </tr>\n",
       "  </tbody>\n",
       "</table>\n",
       "</div>"
      ],
      "text/plain": [
       "                   Open         High          Low        Close    Adj Close  \\\n",
       "Date                                                                          \n",
       "2004-01-02  1111.920044  1118.849976  1105.079956  1108.479980  1108.479980   \n",
       "2004-01-09  1131.920044  1131.920044  1120.900024  1121.859985  1121.859985   \n",
       "2004-01-16  1132.050049  1139.829956  1132.050049  1139.829956  1139.829956   \n",
       "2004-01-23  1143.939941  1150.310059  1136.849976  1141.550049  1141.550049   \n",
       "2004-01-30  1134.109985  1134.170044  1127.729980  1131.130005  1131.130005   \n",
       "\n",
       "                Volume  m  Log Adj Close  \n",
       "Date                                      \n",
       "2004-01-02  1153200000  1       7.011647  \n",
       "2004-01-09  1720700000  1       7.023634  \n",
       "2004-01-16  1721100000  1       7.039511  \n",
       "2004-01-23  1561200000  1       7.041018  \n",
       "2004-01-30  1635000000  1       7.031856  "
      ]
     },
     "execution_count": 21,
     "metadata": {},
     "output_type": "execute_result"
    }
   ],
   "source": [
    "stocks_wfri = stocks.resample('W-FRI').apply(keep_last)\n",
    "stocks_wfri.head()"
   ]
  },
  {
   "cell_type": "markdown",
   "metadata": {},
   "source": [
    "The closing stock price is considered as an accurate market signal. (See [Closing Price](https://www.investopedia.com/terms/c/closingprice.asp)). Thereafter we're considering only the Adjusted Closing value of each trading week."
   ]
  },
  {
   "cell_type": "markdown",
   "metadata": {},
   "source": [
    "# Prediction"
   ]
  },
  {
   "cell_type": "markdown",
   "metadata": {},
   "source": [
    "For the prediction part, we have to split our data in two parts, one for training and one for testing.  \n",
    "We decided the testing data to start the 1st January 2020. "
   ]
  },
  {
   "cell_type": "code",
   "execution_count": 49,
   "metadata": {},
   "outputs": [],
   "source": [
    "training_period = stocks_wfri.index <= pd.Timestamp(2020, 1, 1)\n",
    "testing_period = stocks_wfri.index > pd.Timestamp(2020, 1, 1)\n",
    "train = stocks_wfri[training_period]['Log Adj Close']\n",
    "test = stocks_wfri[testing_period]['Log Adj Close']"
   ]
  },
  {
   "cell_type": "markdown",
   "metadata": {},
   "source": [
    "## Best AR Model"
   ]
  },
  {
   "cell_type": "markdown",
   "metadata": {},
   "source": [
    "For this part, `pmdarima` is needed. It is equivalent to R's auto.arima functionality. \n",
    "\n",
    "Installation :  \n",
    "`pip install pmdarima`"
   ]
  },
  {
   "cell_type": "code",
   "execution_count": 54,
   "metadata": {
    "scrolled": false
   },
   "outputs": [
    {
     "name": "stdout",
     "output_type": "stream",
     "text": [
      " ARIMA(0,1,0)(0,0,0)[1] intercept   : AIC=-3938.597, Time=0.07 sec\n",
      " ARIMA(0,1,1)(0,0,0)[1] intercept   : AIC=-3940.338, Time=0.11 sec\n",
      " ARIMA(0,1,2)(0,0,0)[1] intercept   : AIC=-3939.424, Time=0.18 sec\n",
      " ARIMA(0,1,3)(0,0,0)[1] intercept   : AIC=-3944.113, Time=0.26 sec\n",
      " ARIMA(0,1,4)(0,0,0)[1] intercept   : AIC=-3942.325, Time=0.43 sec\n",
      " ARIMA(0,1,5)(0,0,0)[1] intercept   : AIC=-3941.859, Time=0.80 sec\n",
      " ARIMA(1,1,0)(0,0,0)[1] intercept   : AIC=-3940.631, Time=0.06 sec\n",
      " ARIMA(1,1,1)(0,0,0)[1] intercept   : AIC=inf, Time=0.57 sec\n",
      " ARIMA(1,1,2)(0,0,0)[1] intercept   : AIC=-3941.000, Time=0.77 sec\n",
      " ARIMA(1,1,3)(0,0,0)[1] intercept   : AIC=-3941.959, Time=0.18 sec\n",
      " ARIMA(1,1,4)(0,0,0)[1] intercept   : AIC=-3940.120, Time=0.77 sec\n",
      " ARIMA(2,1,0)(0,0,0)[1] intercept   : AIC=-3940.103, Time=0.16 sec\n",
      " ARIMA(2,1,1)(0,0,0)[1] intercept   : AIC=-3937.924, Time=0.40 sec\n",
      " ARIMA(2,1,2)(0,0,0)[1] intercept   : AIC=-3937.673, Time=0.26 sec\n",
      " ARIMA(2,1,3)(0,0,0)[1] intercept   : AIC=-3942.071, Time=0.98 sec\n",
      " ARIMA(3,1,0)(0,0,0)[1] intercept   : AIC=-3943.587, Time=0.15 sec\n",
      " ARIMA(3,1,1)(0,0,0)[1] intercept   : AIC=-3941.671, Time=0.29 sec\n",
      " ARIMA(3,1,2)(0,0,0)[1] intercept   : AIC=-3941.421, Time=0.39 sec\n",
      " ARIMA(4,1,0)(0,0,0)[1] intercept   : AIC=-3942.048, Time=0.18 sec\n",
      " ARIMA(4,1,1)(0,0,0)[1] intercept   : AIC=-3940.002, Time=0.17 sec\n",
      " ARIMA(5,1,0)(0,0,0)[1] intercept   : AIC=-3940.826, Time=0.22 sec\n",
      "\n",
      "Best model:  ARIMA(0,1,3)(0,0,0)[1] intercept\n",
      "Total fit time: 7.413 seconds\n"
     ]
    },
    {
     "data": {
      "image/png": "[encoded data removed]",
      "text/plain": [
       "<Figure size 432x288 with 1 Axes>"
      ]
     },
     "metadata": {
      "needs_background": "light"
     },
     "output_type": "display_data"
    }
   ],
   "source": [
    "from pmdarima import auto_arima\n",
    "arima = auto_arima(train, max_d=4, max_p=6, max_q=6, max_Q=2, trace=True, stepwise=False)\n",
    "arima.fit(train)\n",
    "predictions = model.predict(n_periods=test.shape[0])\n",
    "predictions = pd.DataFrame(data=predictions,index = test.index)\n",
    "\n",
    "plt.plot(train, label='Train')\n",
    "plt.plot(test, label='Test')\n",
    "plt.plot(forecast, label='Prediction')\n",
    "plt.legend()\n",
    "plt.show()"
   ]
  },
  {
   "cell_type": "markdown",
   "metadata": {},
   "source": [
    "## Trends"
   ]
  },
  {
   "cell_type": "markdown",
   "metadata": {},
   "source": [
    "To determine which trends are the best predictors, we're going to test them individually and observe in which extent they improve our out-of-sample predictions. "
   ]
  }
 ],
 "metadata": {
  "kernelspec": {
   "display_name": "Python 3",
   "language": "python",
   "name": "python3"
  },
  "language_info": {
   "codemirror_mode": {
    "name": "ipython",
    "version": 3
   },
   "file_extension": ".py",
   "mimetype": "text/x-python",
   "name": "python",
   "nbconvert_exporter": "python",
   "pygments_lexer": "ipython3",
   "version": "3.7.9"
  }
 },
 "nbformat": 4,
 "nbformat_minor": 4
}
