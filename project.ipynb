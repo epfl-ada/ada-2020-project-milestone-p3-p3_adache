{
 "cells": [
  {
   "cell_type": "code",
   "execution_count": 2,
   "metadata": {},
   "outputs": [],
   "source": [
    "import pandas as pd\n",
    "import numpy as np"
   ]
  },
  {
   "cell_type": "markdown",
   "metadata": {},
   "source": [
    "# 0. Data Wrangling"
   ]
  },
  {
   "cell_type": "markdown",
   "metadata": {},
   "source": [
    "Google Trends allows the interest *per day* iff the requested timeframe is of length of max 1 year. \n",
    "\n",
    "Therefore, we're going to do one request for each year for each keyword, from 2004 until 2020, and merge all the datasets using the external API `pytrends`.\n",
    "\n",
    "Installation : `pip install pytrends`"
   ]
  },
  {
   "cell_type": "markdown",
   "metadata": {},
   "source": [
    "We import the data from google trends and S&P500 stock markets. Both data are imported the same day"
   ]
  },
  {
   "cell_type": "code",
   "execution_count": 5,
   "metadata": {},
   "outputs": [],
   "source": [
    "from pytrends.request import TrendReq\n",
    "\n",
    "pytrends = TrendReq(hl='en-US', timeout=(20,60), tz=360)"
   ]
  },
  {
   "cell_type": "code",
   "execution_count": 6,
   "metadata": {},
   "outputs": [],
   "source": [
    "## Helper functions\n",
    "\n",
    "def add_year(date):\n",
    "    if is_leap_year(date.year):\n",
    "        delta = datetime.timedelta(days=366)\n",
    "    else:\n",
    "        delta = datetime.timedelta(days=365)\n",
    "    return date + delta\n",
    "\n",
    "def is_leap_year(year):\n",
    "    if (year % 4) == 0:\n",
    "        if (year % 100) == 0:\n",
    "            if (year % 400) == 0:\n",
    "                return True\n",
    "            else:\n",
    "                return False\n",
    "        else:\n",
    "            return True\n",
    "    else:\n",
    "        return False"
   ]
  },
  {
   "cell_type": "code",
   "execution_count": 7,
   "metadata": {},
   "outputs": [],
   "source": [
    "import requests\n",
    "import time\n",
    "import datetime\n",
    "import pandas as pd\n",
    "\n",
    "'''\n",
    "Download and save as csv the Google US Trends, interests by week, for 1 selected keyword for the period of 2004-today\n",
    "'''\n",
    "def dl_interest_for_keyword(keyword):\n",
    "    kw_list = [keyword] # List of keywords. We're using only 1 for each method execution\n",
    "    dataframes = []     # List of df for each year\n",
    "    start = datetime.datetime(2004,1,1) \n",
    "    current_year = start\n",
    "\n",
    "    # Make a request for each year\n",
    "    for i in range(2020-2004+1):\n",
    "        timeframe = str(current_year.year)+'-01-01 ' + str(current_year.year) + '-12-31'\n",
    "        try:\n",
    "            pytrends.build_payload(kw_list, cat=0, timeframe=timeframe, geo='US', gprop='')\n",
    "            print('Downloading ' + str(current_year.year) + ' data...',end='')\n",
    "            df = pytrends.interest_over_time()\n",
    "            print('OK')\n",
    "            dataframes.append(df)\n",
    "            time.sleep(1) # Sleep to avoid 429, may or may not be necessary\n",
    "            current_year=add_year(current_year)\n",
    "        except requests.exceptions.Timeout:\n",
    "            print('TIMEOUT')\n",
    "\n",
    "    # Merge the datasets of all years\n",
    "    df_merged = pd.concat(dataframes)\n",
    "    df_merged.drop('isPartial',inplace=True,axis=1)\n",
    "\n",
    "    # Save to a .csv named as the keyword \n",
    "    df_merged.to_csv(keyword +'.csv', header='interest', index_label='date')\n",
    "    print('Saved as `' + keyword +'.csv'+'`')"
   ]
  },
  {
   "cell_type": "code",
   "execution_count": 8,
   "metadata": {},
   "outputs": [
    {
     "name": "stdout",
     "output_type": "stream",
     "text": [
      "Downloading 2004 data...OK\n",
      "Downloading 2005 data...OK\n",
      "Downloading 2006 data...OK\n",
      "Downloading 2007 data...OK\n",
      "Downloading 2008 data...OK\n",
      "Downloading 2009 data...OK\n",
      "Downloading 2010 data...OK\n",
      "Downloading 2011 data...OK\n",
      "Downloading 2012 data...OK\n",
      "Downloading 2013 data...OK\n",
      "Downloading 2014 data...OK\n",
      "Downloading 2015 data...OK\n",
      "Downloading 2016 data...OK\n",
      "Downloading 2017 data...OK\n",
      "Downloading 2018 data...OK\n",
      "Downloading 2019 data...OK\n",
      "Downloading 2020 data...OK\n",
      "Saved as `stocks to buy.csv`\n"
     ]
    }
   ],
   "source": [
    "dl_interest_for_keyword('stocks to buy')"
   ]
  },
  {
   "cell_type": "markdown",
   "metadata": {},
   "source": [
    "# 0.1 Importing Google Trends Data"
   ]
  },
  {
   "cell_type": "markdown",
   "metadata": {},
   "source": [
    "interesting keywords for Google trends:\n",
    "- debt\n",
    "- stocks\n",
    "- inflation\n",
    "- portfolio\n",
    "- housing\n",
    "\n",
    "- revenues\n",
    "- employment\n",
    "- unemployment\n",
    "- leverage\n",
    "- credit\n",
    "\n",
    "- return\n",
    "- bonds\n",
    "- economics\n",
    "- religion\n",
    "- money\n",
    "\n",
    "- profit\n",
    "- investment\n",
    "- gains\n",
    "- cancer\n",
    "- marriage\n",
    "\n",
    "- buy\n",
    "- hold\n",
    "- headlines\n",
    "- present\n",
    "- crisis\n",
    "\n",
    "- society\n",
    "- gross\n",
    "- loss\n",
    "- hedge\n",
    "- nasdaq\n",
    "\n",
    "- cash\n",
    "- short sell\n",
    "- greed\n",
    "- gain\n",
    "- happy\n",
    "\n",
    "- financial markets\n",
    "- finance\n",
    "- house\n",
    "- water\n",
    "- rich\n",
    "\n",
    "- risk\n",
    "- oil\n",
    "- opportunity\n",
    "- golf\n",
    "- invest\n",
    "\n",
    "- success\n",
    "- economy\n",
    "- food\n",
    "- war\n",
    "- consume\n",
    "\n",
    "- nyse\n",
    "- movie\n",
    "- health\n",
    "- consumption\n",
    "- transaction\n",
    "\n",
    "- environment\n",
    "- fond\n",
    "\n",
    "- spdr\n",
    "- buy spdr\n",
    "\n",
    "Adding companies that belong to S&P500 (https://fknol.com/list/market-cap-sp-500-index-companies.php)\n",
    "\n",
    "- apple\n",
    "- microsoft\n",
    "- amazon\n",
    "\n",
    "- alphabet\n",
    "- google\n",
    "- facebook\n",
    "- berkshire\n",
    "- visa\n",
    "\n",
    "- walmart\n",
    "- johnson\n",
    "- j p morgan\n",
    "- procter and gamble\n",
    "- mastercard\n",
    "\n",
    "- nvidia\n",
    "- united health\n",
    "- home depot\n",
    "- walt disney\n",
    "- verizon communications\n",
    "\n",
    "- paypal\n",
    "- bank of america\n",
    "- comcast\n",
    "- adobe\n",
    "- coca cola\n",
    "\n",
    "- pfizer\n",
    "- netflix\n",
    "- nike\n",
    "- intel\n",
    "- at&t\n",
    "\n",
    "- merck\n",
    "- salesforce\n",
    "- pepsico\n",
    "- abbott labs\n",
    "- cisco\n",
    "\n",
    "- oracle\n",
    "- mcdonalds\n",
    "- medtronic\n"
   ]
  },
  {
   "cell_type": "code",
   "execution_count": 12,
   "metadata": {},
   "outputs": [],
   "source": [
    "import glob\n",
    "\n",
    "all_files = glob.glob(\"data/Keywords_US_Weekly/*\")\n",
    "\n",
    "dfs = []\n",
    "\n",
    "for filename in all_files:\n",
    "    df =  pd.read_csv(filename,index_col='date')\n",
    "    dfs.append(df)\n",
    "    \n",
    "df = pd.concat(dfs, axis=1)"
   ]
  },
  {
   "cell_type": "code",
   "execution_count": 14,
   "metadata": {
    "scrolled": true
   },
   "outputs": [
    {
     "data": {
      "text/html": [
       "<div>\n",
       "<style scoped>\n",
       "    .dataframe tbody tr th:only-of-type {\n",
       "        vertical-align: middle;\n",
       "    }\n",
       "\n",
       "    .dataframe tbody tr th {\n",
       "        vertical-align: top;\n",
       "    }\n",
       "\n",
       "    .dataframe thead th {\n",
       "        text-align: right;\n",
       "    }\n",
       "</style>\n",
       "<table border=\"1\" class=\"dataframe\">\n",
       "  <thead>\n",
       "    <tr style=\"text-align: right;\">\n",
       "      <th></th>\n",
       "      <th>mastercard</th>\n",
       "      <th>google</th>\n",
       "      <th>housing</th>\n",
       "      <th>pepsico</th>\n",
       "      <th>invest</th>\n",
       "      <th>hedge</th>\n",
       "      <th>bonds</th>\n",
       "      <th>revenues</th>\n",
       "      <th>finance</th>\n",
       "      <th>berkshire</th>\n",
       "      <th>...</th>\n",
       "      <th>opportunity</th>\n",
       "      <th>happy</th>\n",
       "      <th>health</th>\n",
       "      <th>mcdonalds</th>\n",
       "      <th>movie</th>\n",
       "      <th>return</th>\n",
       "      <th>comcast</th>\n",
       "      <th>medtronic</th>\n",
       "      <th>johnson</th>\n",
       "      <th>stocks</th>\n",
       "    </tr>\n",
       "    <tr>\n",
       "      <th>date</th>\n",
       "      <th></th>\n",
       "      <th></th>\n",
       "      <th></th>\n",
       "      <th></th>\n",
       "      <th></th>\n",
       "      <th></th>\n",
       "      <th></th>\n",
       "      <th></th>\n",
       "      <th></th>\n",
       "      <th></th>\n",
       "      <th></th>\n",
       "      <th></th>\n",
       "      <th></th>\n",
       "      <th></th>\n",
       "      <th></th>\n",
       "      <th></th>\n",
       "      <th></th>\n",
       "      <th></th>\n",
       "      <th></th>\n",
       "      <th></th>\n",
       "      <th></th>\n",
       "    </tr>\n",
       "  </thead>\n",
       "  <tbody>\n",
       "    <tr>\n",
       "      <th>2004-01-04</th>\n",
       "      <td>63</td>\n",
       "      <td>56</td>\n",
       "      <td>75</td>\n",
       "      <td>27</td>\n",
       "      <td>77</td>\n",
       "      <td>69</td>\n",
       "      <td>81</td>\n",
       "      <td>36</td>\n",
       "      <td>91</td>\n",
       "      <td>55</td>\n",
       "      <td>...</td>\n",
       "      <td>42</td>\n",
       "      <td>62</td>\n",
       "      <td>99</td>\n",
       "      <td>55</td>\n",
       "      <td>82</td>\n",
       "      <td>94</td>\n",
       "      <td>75</td>\n",
       "      <td>66</td>\n",
       "      <td>25</td>\n",
       "      <td>89</td>\n",
       "    </tr>\n",
       "    <tr>\n",
       "      <th>2004-01-11</th>\n",
       "      <td>68</td>\n",
       "      <td>55</td>\n",
       "      <td>90</td>\n",
       "      <td>33</td>\n",
       "      <td>63</td>\n",
       "      <td>69</td>\n",
       "      <td>81</td>\n",
       "      <td>29</td>\n",
       "      <td>93</td>\n",
       "      <td>28</td>\n",
       "      <td>...</td>\n",
       "      <td>42</td>\n",
       "      <td>64</td>\n",
       "      <td>99</td>\n",
       "      <td>56</td>\n",
       "      <td>79</td>\n",
       "      <td>91</td>\n",
       "      <td>74</td>\n",
       "      <td>44</td>\n",
       "      <td>26</td>\n",
       "      <td>97</td>\n",
       "    </tr>\n",
       "    <tr>\n",
       "      <th>2004-01-18</th>\n",
       "      <td>61</td>\n",
       "      <td>62</td>\n",
       "      <td>81</td>\n",
       "      <td>22</td>\n",
       "      <td>59</td>\n",
       "      <td>70</td>\n",
       "      <td>77</td>\n",
       "      <td>50</td>\n",
       "      <td>85</td>\n",
       "      <td>48</td>\n",
       "      <td>...</td>\n",
       "      <td>34</td>\n",
       "      <td>69</td>\n",
       "      <td>98</td>\n",
       "      <td>46</td>\n",
       "      <td>78</td>\n",
       "      <td>83</td>\n",
       "      <td>80</td>\n",
       "      <td>61</td>\n",
       "      <td>26</td>\n",
       "      <td>100</td>\n",
       "    </tr>\n",
       "    <tr>\n",
       "      <th>2004-01-25</th>\n",
       "      <td>50</td>\n",
       "      <td>57</td>\n",
       "      <td>78</td>\n",
       "      <td>1</td>\n",
       "      <td>65</td>\n",
       "      <td>65</td>\n",
       "      <td>72</td>\n",
       "      <td>88</td>\n",
       "      <td>97</td>\n",
       "      <td>31</td>\n",
       "      <td>...</td>\n",
       "      <td>100</td>\n",
       "      <td>60</td>\n",
       "      <td>98</td>\n",
       "      <td>62</td>\n",
       "      <td>77</td>\n",
       "      <td>87</td>\n",
       "      <td>72</td>\n",
       "      <td>40</td>\n",
       "      <td>25</td>\n",
       "      <td>93</td>\n",
       "    </tr>\n",
       "    <tr>\n",
       "      <th>2004-02-01</th>\n",
       "      <td>77</td>\n",
       "      <td>57</td>\n",
       "      <td>78</td>\n",
       "      <td>64</td>\n",
       "      <td>62</td>\n",
       "      <td>67</td>\n",
       "      <td>75</td>\n",
       "      <td>49</td>\n",
       "      <td>96</td>\n",
       "      <td>30</td>\n",
       "      <td>...</td>\n",
       "      <td>46</td>\n",
       "      <td>57</td>\n",
       "      <td>93</td>\n",
       "      <td>62</td>\n",
       "      <td>70</td>\n",
       "      <td>90</td>\n",
       "      <td>58</td>\n",
       "      <td>77</td>\n",
       "      <td>27</td>\n",
       "      <td>77</td>\n",
       "    </tr>\n",
       "  </tbody>\n",
       "</table>\n",
       "<p>5 rows × 86 columns</p>\n",
       "</div>"
      ],
      "text/plain": [
       "            mastercard  google  housing  pepsico  invest  hedge  bonds  \\\n",
       "date                                                                     \n",
       "2004-01-04          63      56       75       27      77     69     81   \n",
       "2004-01-11          68      55       90       33      63     69     81   \n",
       "2004-01-18          61      62       81       22      59     70     77   \n",
       "2004-01-25          50      57       78        1      65     65     72   \n",
       "2004-02-01          77      57       78       64      62     67     75   \n",
       "\n",
       "            revenues  finance  berkshire  ...  opportunity  happy  health  \\\n",
       "date                                      ...                               \n",
       "2004-01-04        36       91         55  ...           42     62      99   \n",
       "2004-01-11        29       93         28  ...           42     64      99   \n",
       "2004-01-18        50       85         48  ...           34     69      98   \n",
       "2004-01-25        88       97         31  ...          100     60      98   \n",
       "2004-02-01        49       96         30  ...           46     57      93   \n",
       "\n",
       "            mcdonalds  movie  return  comcast  medtronic  johnson  stocks  \n",
       "date                                                                       \n",
       "2004-01-04         55     82      94       75         66       25      89  \n",
       "2004-01-11         56     79      91       74         44       26      97  \n",
       "2004-01-18         46     78      83       80         61       26     100  \n",
       "2004-01-25         62     77      87       72         40       25      93  \n",
       "2004-02-01         62     70      90       58         77       27      77  \n",
       "\n",
       "[5 rows x 86 columns]"
      ]
     },
     "execution_count": 14,
     "metadata": {},
     "output_type": "execute_result"
    }
   ],
   "source": [
    "df = df.replace(0,1)\n",
    "df.head()"
   ]
  },
  {
   "cell_type": "markdown",
   "metadata": {},
   "source": [
    "- Compute percentage change in a cell in comparison to previous month according to [Quantifying Trading Behavior in Financial Markets Using Google Trends](https://www.nature.com/articles/srep01684).\n",
    "- Set first week to zero\n",
    "- **TODO** Handle inf values. Replace them by the max value of the dataset ? "
   ]
  },
  {
   "cell_type": "code",
   "execution_count": 15,
   "metadata": {
    "scrolled": false
   },
   "outputs": [
    {
     "data": {
      "text/html": [
       "<div>\n",
       "<style scoped>\n",
       "    .dataframe tbody tr th:only-of-type {\n",
       "        vertical-align: middle;\n",
       "    }\n",
       "\n",
       "    .dataframe tbody tr th {\n",
       "        vertical-align: top;\n",
       "    }\n",
       "\n",
       "    .dataframe thead th {\n",
       "        text-align: right;\n",
       "    }\n",
       "</style>\n",
       "<table border=\"1\" class=\"dataframe\">\n",
       "  <thead>\n",
       "    <tr style=\"text-align: right;\">\n",
       "      <th></th>\n",
       "      <th>mastercard</th>\n",
       "      <th>google</th>\n",
       "      <th>housing</th>\n",
       "      <th>pepsico</th>\n",
       "      <th>invest</th>\n",
       "      <th>hedge</th>\n",
       "      <th>bonds</th>\n",
       "      <th>revenues</th>\n",
       "      <th>finance</th>\n",
       "      <th>berkshire</th>\n",
       "      <th>...</th>\n",
       "      <th>opportunity</th>\n",
       "      <th>happy</th>\n",
       "      <th>health</th>\n",
       "      <th>mcdonalds</th>\n",
       "      <th>movie</th>\n",
       "      <th>return</th>\n",
       "      <th>comcast</th>\n",
       "      <th>medtronic</th>\n",
       "      <th>johnson</th>\n",
       "      <th>stocks</th>\n",
       "    </tr>\n",
       "    <tr>\n",
       "      <th>date</th>\n",
       "      <th></th>\n",
       "      <th></th>\n",
       "      <th></th>\n",
       "      <th></th>\n",
       "      <th></th>\n",
       "      <th></th>\n",
       "      <th></th>\n",
       "      <th></th>\n",
       "      <th></th>\n",
       "      <th></th>\n",
       "      <th></th>\n",
       "      <th></th>\n",
       "      <th></th>\n",
       "      <th></th>\n",
       "      <th></th>\n",
       "      <th></th>\n",
       "      <th></th>\n",
       "      <th></th>\n",
       "      <th></th>\n",
       "      <th></th>\n",
       "      <th></th>\n",
       "    </tr>\n",
       "  </thead>\n",
       "  <tbody>\n",
       "    <tr>\n",
       "      <th>2004-01-04</th>\n",
       "      <td>0.000000</td>\n",
       "      <td>0.000000</td>\n",
       "      <td>0.000000</td>\n",
       "      <td>0.000000</td>\n",
       "      <td>0.000000</td>\n",
       "      <td>0.000000</td>\n",
       "      <td>0.000000</td>\n",
       "      <td>0.000000</td>\n",
       "      <td>0.000000</td>\n",
       "      <td>0.000000</td>\n",
       "      <td>...</td>\n",
       "      <td>0.000000</td>\n",
       "      <td>0.000000</td>\n",
       "      <td>0.000000</td>\n",
       "      <td>0.000000</td>\n",
       "      <td>0.000000</td>\n",
       "      <td>0.000000</td>\n",
       "      <td>0.000000</td>\n",
       "      <td>0.000000</td>\n",
       "      <td>0.000000</td>\n",
       "      <td>0.000000</td>\n",
       "    </tr>\n",
       "    <tr>\n",
       "      <th>2004-01-11</th>\n",
       "      <td>0.079365</td>\n",
       "      <td>-0.017857</td>\n",
       "      <td>0.200000</td>\n",
       "      <td>0.222222</td>\n",
       "      <td>-0.181818</td>\n",
       "      <td>0.000000</td>\n",
       "      <td>0.000000</td>\n",
       "      <td>-0.194444</td>\n",
       "      <td>0.021978</td>\n",
       "      <td>-0.490909</td>\n",
       "      <td>...</td>\n",
       "      <td>0.000000</td>\n",
       "      <td>0.032258</td>\n",
       "      <td>0.000000</td>\n",
       "      <td>0.018182</td>\n",
       "      <td>-0.036585</td>\n",
       "      <td>-0.031915</td>\n",
       "      <td>-0.013333</td>\n",
       "      <td>-0.333333</td>\n",
       "      <td>0.040000</td>\n",
       "      <td>0.089888</td>\n",
       "    </tr>\n",
       "    <tr>\n",
       "      <th>2004-01-18</th>\n",
       "      <td>-0.102941</td>\n",
       "      <td>0.127273</td>\n",
       "      <td>-0.100000</td>\n",
       "      <td>-0.333333</td>\n",
       "      <td>-0.063492</td>\n",
       "      <td>0.014493</td>\n",
       "      <td>-0.049383</td>\n",
       "      <td>0.724138</td>\n",
       "      <td>-0.086022</td>\n",
       "      <td>0.714286</td>\n",
       "      <td>...</td>\n",
       "      <td>-0.190476</td>\n",
       "      <td>0.078125</td>\n",
       "      <td>-0.010101</td>\n",
       "      <td>-0.178571</td>\n",
       "      <td>-0.012658</td>\n",
       "      <td>-0.087912</td>\n",
       "      <td>0.081081</td>\n",
       "      <td>0.386364</td>\n",
       "      <td>0.000000</td>\n",
       "      <td>0.030928</td>\n",
       "    </tr>\n",
       "    <tr>\n",
       "      <th>2004-01-25</th>\n",
       "      <td>-0.180328</td>\n",
       "      <td>-0.080645</td>\n",
       "      <td>-0.037037</td>\n",
       "      <td>-0.954545</td>\n",
       "      <td>0.101695</td>\n",
       "      <td>-0.071429</td>\n",
       "      <td>-0.064935</td>\n",
       "      <td>0.760000</td>\n",
       "      <td>0.141176</td>\n",
       "      <td>-0.354167</td>\n",
       "      <td>...</td>\n",
       "      <td>1.941176</td>\n",
       "      <td>-0.130435</td>\n",
       "      <td>0.000000</td>\n",
       "      <td>0.347826</td>\n",
       "      <td>-0.012821</td>\n",
       "      <td>0.048193</td>\n",
       "      <td>-0.100000</td>\n",
       "      <td>-0.344262</td>\n",
       "      <td>-0.038462</td>\n",
       "      <td>-0.070000</td>\n",
       "    </tr>\n",
       "    <tr>\n",
       "      <th>2004-02-01</th>\n",
       "      <td>0.540000</td>\n",
       "      <td>0.000000</td>\n",
       "      <td>0.000000</td>\n",
       "      <td>63.000000</td>\n",
       "      <td>-0.046154</td>\n",
       "      <td>0.030769</td>\n",
       "      <td>0.041667</td>\n",
       "      <td>-0.443182</td>\n",
       "      <td>-0.010309</td>\n",
       "      <td>-0.032258</td>\n",
       "      <td>...</td>\n",
       "      <td>-0.540000</td>\n",
       "      <td>-0.050000</td>\n",
       "      <td>-0.051020</td>\n",
       "      <td>0.000000</td>\n",
       "      <td>-0.090909</td>\n",
       "      <td>0.034483</td>\n",
       "      <td>-0.194444</td>\n",
       "      <td>0.925000</td>\n",
       "      <td>0.080000</td>\n",
       "      <td>-0.172043</td>\n",
       "    </tr>\n",
       "    <tr>\n",
       "      <th>...</th>\n",
       "      <td>...</td>\n",
       "      <td>...</td>\n",
       "      <td>...</td>\n",
       "      <td>...</td>\n",
       "      <td>...</td>\n",
       "      <td>...</td>\n",
       "      <td>...</td>\n",
       "      <td>...</td>\n",
       "      <td>...</td>\n",
       "      <td>...</td>\n",
       "      <td>...</td>\n",
       "      <td>...</td>\n",
       "      <td>...</td>\n",
       "      <td>...</td>\n",
       "      <td>...</td>\n",
       "      <td>...</td>\n",
       "      <td>...</td>\n",
       "      <td>...</td>\n",
       "      <td>...</td>\n",
       "      <td>...</td>\n",
       "      <td>...</td>\n",
       "    </tr>\n",
       "    <tr>\n",
       "      <th>2020-11-08</th>\n",
       "      <td>0.205882</td>\n",
       "      <td>0.108108</td>\n",
       "      <td>0.213115</td>\n",
       "      <td>0.068966</td>\n",
       "      <td>0.361702</td>\n",
       "      <td>0.133333</td>\n",
       "      <td>0.208955</td>\n",
       "      <td>0.193548</td>\n",
       "      <td>0.217391</td>\n",
       "      <td>0.229167</td>\n",
       "      <td>...</td>\n",
       "      <td>0.185185</td>\n",
       "      <td>0.341463</td>\n",
       "      <td>0.245902</td>\n",
       "      <td>0.147541</td>\n",
       "      <td>0.171875</td>\n",
       "      <td>0.250000</td>\n",
       "      <td>0.189655</td>\n",
       "      <td>0.166667</td>\n",
       "      <td>0.240000</td>\n",
       "      <td>0.444444</td>\n",
       "    </tr>\n",
       "    <tr>\n",
       "      <th>2020-11-15</th>\n",
       "      <td>0.000000</td>\n",
       "      <td>0.073171</td>\n",
       "      <td>0.027027</td>\n",
       "      <td>0.161290</td>\n",
       "      <td>0.109375</td>\n",
       "      <td>0.044118</td>\n",
       "      <td>0.123457</td>\n",
       "      <td>-0.054054</td>\n",
       "      <td>0.000000</td>\n",
       "      <td>0.033898</td>\n",
       "      <td>...</td>\n",
       "      <td>0.000000</td>\n",
       "      <td>-0.145455</td>\n",
       "      <td>0.052632</td>\n",
       "      <td>0.014286</td>\n",
       "      <td>0.026667</td>\n",
       "      <td>0.033333</td>\n",
       "      <td>-0.014493</td>\n",
       "      <td>-0.071429</td>\n",
       "      <td>0.193548</td>\n",
       "      <td>0.000000</td>\n",
       "    </tr>\n",
       "    <tr>\n",
       "      <th>2020-11-22</th>\n",
       "      <td>-0.048780</td>\n",
       "      <td>-0.204545</td>\n",
       "      <td>-0.236842</td>\n",
       "      <td>-0.236111</td>\n",
       "      <td>-0.112676</td>\n",
       "      <td>-0.014085</td>\n",
       "      <td>-0.340659</td>\n",
       "      <td>-0.328571</td>\n",
       "      <td>-0.142857</td>\n",
       "      <td>-0.065574</td>\n",
       "      <td>...</td>\n",
       "      <td>-0.281250</td>\n",
       "      <td>0.787234</td>\n",
       "      <td>-0.250000</td>\n",
       "      <td>0.253521</td>\n",
       "      <td>0.142857</td>\n",
       "      <td>-0.064516</td>\n",
       "      <td>0.000000</td>\n",
       "      <td>-0.250000</td>\n",
       "      <td>-0.270270</td>\n",
       "      <td>0.051282</td>\n",
       "    </tr>\n",
       "    <tr>\n",
       "      <th>2020-11-29</th>\n",
       "      <td>0.179487</td>\n",
       "      <td>0.228571</td>\n",
       "      <td>0.258621</td>\n",
       "      <td>0.090909</td>\n",
       "      <td>0.142857</td>\n",
       "      <td>-0.042857</td>\n",
       "      <td>0.316667</td>\n",
       "      <td>0.340426</td>\n",
       "      <td>0.187500</td>\n",
       "      <td>0.070175</td>\n",
       "      <td>...</td>\n",
       "      <td>0.347826</td>\n",
       "      <td>-0.464286</td>\n",
       "      <td>0.233333</td>\n",
       "      <td>-0.157303</td>\n",
       "      <td>-0.113636</td>\n",
       "      <td>0.137931</td>\n",
       "      <td>0.058824</td>\n",
       "      <td>0.256410</td>\n",
       "      <td>0.037037</td>\n",
       "      <td>0.097561</td>\n",
       "    </tr>\n",
       "    <tr>\n",
       "      <th>2020-12-06</th>\n",
       "      <td>-0.054348</td>\n",
       "      <td>0.000000</td>\n",
       "      <td>0.054795</td>\n",
       "      <td>0.016667</td>\n",
       "      <td>0.138889</td>\n",
       "      <td>0.000000</td>\n",
       "      <td>0.126582</td>\n",
       "      <td>0.111111</td>\n",
       "      <td>0.035088</td>\n",
       "      <td>-0.032787</td>\n",
       "      <td>...</td>\n",
       "      <td>0.080645</td>\n",
       "      <td>0.066667</td>\n",
       "      <td>0.040541</td>\n",
       "      <td>-0.066667</td>\n",
       "      <td>-0.012821</td>\n",
       "      <td>0.030303</td>\n",
       "      <td>-0.041667</td>\n",
       "      <td>0.306122</td>\n",
       "      <td>0.107143</td>\n",
       "      <td>0.022222</td>\n",
       "    </tr>\n",
       "  </tbody>\n",
       "</table>\n",
       "<p>884 rows × 86 columns</p>\n",
       "</div>"
      ],
      "text/plain": [
       "            mastercard    google   housing    pepsico    invest     hedge  \\\n",
       "date                                                                        \n",
       "2004-01-04    0.000000  0.000000  0.000000   0.000000  0.000000  0.000000   \n",
       "2004-01-11    0.079365 -0.017857  0.200000   0.222222 -0.181818  0.000000   \n",
       "2004-01-18   -0.102941  0.127273 -0.100000  -0.333333 -0.063492  0.014493   \n",
       "2004-01-25   -0.180328 -0.080645 -0.037037  -0.954545  0.101695 -0.071429   \n",
       "2004-02-01    0.540000  0.000000  0.000000  63.000000 -0.046154  0.030769   \n",
       "...                ...       ...       ...        ...       ...       ...   \n",
       "2020-11-08    0.205882  0.108108  0.213115   0.068966  0.361702  0.133333   \n",
       "2020-11-15    0.000000  0.073171  0.027027   0.161290  0.109375  0.044118   \n",
       "2020-11-22   -0.048780 -0.204545 -0.236842  -0.236111 -0.112676 -0.014085   \n",
       "2020-11-29    0.179487  0.228571  0.258621   0.090909  0.142857 -0.042857   \n",
       "2020-12-06   -0.054348  0.000000  0.054795   0.016667  0.138889  0.000000   \n",
       "\n",
       "               bonds  revenues   finance  berkshire  ...  opportunity  \\\n",
       "date                                                 ...                \n",
       "2004-01-04  0.000000  0.000000  0.000000   0.000000  ...     0.000000   \n",
       "2004-01-11  0.000000 -0.194444  0.021978  -0.490909  ...     0.000000   \n",
       "2004-01-18 -0.049383  0.724138 -0.086022   0.714286  ...    -0.190476   \n",
       "2004-01-25 -0.064935  0.760000  0.141176  -0.354167  ...     1.941176   \n",
       "2004-02-01  0.041667 -0.443182 -0.010309  -0.032258  ...    -0.540000   \n",
       "...              ...       ...       ...        ...  ...          ...   \n",
       "2020-11-08  0.208955  0.193548  0.217391   0.229167  ...     0.185185   \n",
       "2020-11-15  0.123457 -0.054054  0.000000   0.033898  ...     0.000000   \n",
       "2020-11-22 -0.340659 -0.328571 -0.142857  -0.065574  ...    -0.281250   \n",
       "2020-11-29  0.316667  0.340426  0.187500   0.070175  ...     0.347826   \n",
       "2020-12-06  0.126582  0.111111  0.035088  -0.032787  ...     0.080645   \n",
       "\n",
       "               happy    health  mcdonalds     movie    return   comcast  \\\n",
       "date                                                                      \n",
       "2004-01-04  0.000000  0.000000   0.000000  0.000000  0.000000  0.000000   \n",
       "2004-01-11  0.032258  0.000000   0.018182 -0.036585 -0.031915 -0.013333   \n",
       "2004-01-18  0.078125 -0.010101  -0.178571 -0.012658 -0.087912  0.081081   \n",
       "2004-01-25 -0.130435  0.000000   0.347826 -0.012821  0.048193 -0.100000   \n",
       "2004-02-01 -0.050000 -0.051020   0.000000 -0.090909  0.034483 -0.194444   \n",
       "...              ...       ...        ...       ...       ...       ...   \n",
       "2020-11-08  0.341463  0.245902   0.147541  0.171875  0.250000  0.189655   \n",
       "2020-11-15 -0.145455  0.052632   0.014286  0.026667  0.033333 -0.014493   \n",
       "2020-11-22  0.787234 -0.250000   0.253521  0.142857 -0.064516  0.000000   \n",
       "2020-11-29 -0.464286  0.233333  -0.157303 -0.113636  0.137931  0.058824   \n",
       "2020-12-06  0.066667  0.040541  -0.066667 -0.012821  0.030303 -0.041667   \n",
       "\n",
       "            medtronic   johnson    stocks  \n",
       "date                                       \n",
       "2004-01-04   0.000000  0.000000  0.000000  \n",
       "2004-01-11  -0.333333  0.040000  0.089888  \n",
       "2004-01-18   0.386364  0.000000  0.030928  \n",
       "2004-01-25  -0.344262 -0.038462 -0.070000  \n",
       "2004-02-01   0.925000  0.080000 -0.172043  \n",
       "...               ...       ...       ...  \n",
       "2020-11-08   0.166667  0.240000  0.444444  \n",
       "2020-11-15  -0.071429  0.193548  0.000000  \n",
       "2020-11-22  -0.250000 -0.270270  0.051282  \n",
       "2020-11-29   0.256410  0.037037  0.097561  \n",
       "2020-12-06   0.306122  0.107143  0.022222  \n",
       "\n",
       "[884 rows x 86 columns]"
      ]
     },
     "execution_count": 15,
     "metadata": {},
     "output_type": "execute_result"
    }
   ],
   "source": [
    "df = df.pct_change(periods=1) # Computes the percentage change from the previous row. Applies to *all* rows\n",
    "df.iloc[0,:]=0\n",
    "df"
   ]
  },
  {
   "cell_type": "markdown",
   "metadata": {},
   "source": [
    "# 0.2 Importing S&P500 data"
   ]
  },
  {
   "cell_type": "code",
   "execution_count": 16,
   "metadata": {},
   "outputs": [],
   "source": [
    "stocks = pd.read_csv('data/sp500_data.csv')\n",
    "stocks['Date'] = pd.to_datetime(stocks['Date'], format='%d/%m/%Y')\n",
    "stocks=stocks.set_index('Date')\n",
    "stocks = stocks.iloc[1:,:]"
   ]
  },
  {
   "cell_type": "markdown",
   "metadata": {},
   "source": [
    "# 0.3 Visualization"
   ]
  },
  {
   "cell_type": "markdown",
   "metadata": {},
   "source": [
    "Let's plot the autocorrelation function to see with which lag values our prices are correlated."
   ]
  },
  {
   "cell_type": "code",
   "execution_count": 17,
   "metadata": {
    "scrolled": true
   },
   "outputs": [
    {
     "data": {
      "image/png": "[encoded data removed]",
      "text/plain": [
       "<Figure size 432x288 with 1 Axes>"
      ]
     },
     "metadata": {
      "needs_background": "light"
     },
     "output_type": "display_data"
    }
   ],
   "source": [
    "from pandas import read_csv\n",
    "from matplotlib import pyplot\n",
    "from statsmodels.graphics.tsaplots import plot_pacf\n",
    "\n",
    "\n",
    "plot_pacf(stocks['Adj Close'], lags=20)\n",
    "pyplot.show()"
   ]
  },
  {
   "cell_type": "markdown",
   "metadata": {},
   "source": [
    "We can see that the PACF becomes almost silent after lag(1). This means that an AR model is best in our situation in comparison with MA model. See [PSU Stat510: PACF](https://online.stat.psu.edu/stat510/lesson/2/2.2)"
   ]
  },
  {
   "cell_type": "code",
   "execution_count": 18,
   "metadata": {
    "scrolled": true
   },
   "outputs": [
    {
     "data": {
      "image/png": "[encoded data removed]",
      "text/plain": [
       "<Figure size 864x288 with 1 Axes>"
      ]
     },
     "metadata": {
      "needs_background": "light"
     },
     "output_type": "display_data"
    }
   ],
   "source": [
    "import matplotlib.pyplot as plt \n",
    "plt.figure(figsize=(12, 4))\n",
    "plt.plot((stocks['Adj Close']-stocks['Adj Close'].shift())[1:])\n",
    "plt.title('S&P 500 First Difference')\n",
    "plt.show()"
   ]
  },
  {
   "cell_type": "markdown",
   "metadata": {},
   "source": [
    "In 2008, 2009 and in February/March 2020 which correspond to stock market crashes, we observe an exponential behaviour. To avoid that these periods overinfluence our models due to their high variance, we're going to apply the natural logarithm function to our values. "
   ]
  },
  {
   "cell_type": "code",
   "execution_count": 19,
   "metadata": {
    "scrolled": false
   },
   "outputs": [
    {
     "data": {
      "image/png": "[encoded data removed]",
      "text/plain": [
       "<Figure size 432x288 with 1 Axes>"
      ]
     },
     "metadata": {
      "needs_background": "light"
     },
     "output_type": "display_data"
    }
   ],
   "source": [
    "from pandas import read_csv\n",
    "from matplotlib import pyplot as plt\n",
    "from statsmodels.graphics.tsaplots import plot_acf\n",
    "\n",
    "series = stocks['Adj Close']\n",
    "plot_acf(series, lags=100)\n",
    "plt.show()"
   ]
  },
  {
   "cell_type": "markdown",
   "metadata": {},
   "source": [
    "The ACF is decreasing linearly with the number of lags. "
   ]
  },
  {
   "cell_type": "markdown",
   "metadata": {},
   "source": [
    "https://dspace.mit.edu/bitstream/handle/1721.1/55206/609415506-MIT.pdf?sequence=2&isAllowed=y"
   ]
  },
  {
   "cell_type": "markdown",
   "metadata": {},
   "source": [
    "#### Seasonality"
   ]
  },
  {
   "cell_type": "code",
   "execution_count": 20,
   "metadata": {
    "scrolled": false
   },
   "outputs": [
    {
     "data": {
      "image/png": "[encoded data removed]",
      "text/plain": [
       "<Figure size 936x648 with 4 Axes>"
      ]
     },
     "metadata": {
      "needs_background": "light"
     },
     "output_type": "display_data"
    }
   ],
   "source": [
    "from statsmodels.tsa.seasonal import seasonal_decompose\n",
    "sd = seasonal_decompose(stocks['Adj Close'], model='additive', period=52)  \n",
    "#plt.figure(figsize=(12, 10))\n",
    "fig = sd.plot()\n",
    "fig.set_size_inches(13,9)\n",
    "plt.show()"
   ]
  },
  {
   "cell_type": "markdown",
   "metadata": {},
   "source": [
    "There doesn't seem to be any significant yearly or weekly seasonality. Let's check the monthly seasonality. "
   ]
  },
  {
   "cell_type": "code",
   "execution_count": 21,
   "metadata": {},
   "outputs": [],
   "source": [
    "stocks['m'] = stocks.index.month"
   ]
  },
  {
   "cell_type": "code",
   "execution_count": 22,
   "metadata": {
    "scrolled": false
   },
   "outputs": [
    {
     "data": {
      "text/plain": [
       "<AxesSubplot:xlabel='m'>"
      ]
     },
     "execution_count": 22,
     "metadata": {},
     "output_type": "execute_result"
    },
    {
     "data": {
      "image/png": "[encoded data removed]",
      "text/plain": [
       "<Figure size 432x288 with 1 Axes>"
      ]
     },
     "metadata": {
      "needs_background": "light"
     },
     "output_type": "display_data"
    }
   ],
   "source": [
    "stocks.groupby('m')['Adj Close'].mean().plot.bar()"
   ]
  },
  {
   "cell_type": "markdown",
   "metadata": {},
   "source": [
    "There is a weak monthly seasonality. "
   ]
  },
  {
   "cell_type": "markdown",
   "metadata": {},
   "source": [
    "# 0.4 Preprocessing"
   ]
  },
  {
   "cell_type": "markdown",
   "metadata": {},
   "source": [
    "#### Applying logn"
   ]
  },
  {
   "cell_type": "code",
   "execution_count": 23,
   "metadata": {},
   "outputs": [],
   "source": [
    "import math \n",
    "stocks['Log Adj Close'] = list(map(lambda x: math.log1p(x), stocks['Adj Close'].values))"
   ]
  },
  {
   "cell_type": "code",
   "execution_count": 24,
   "metadata": {
    "scrolled": false
   },
   "outputs": [
    {
     "data": {
      "text/plain": [
       "<AxesSubplot:xlabel='Date'>"
      ]
     },
     "execution_count": 24,
     "metadata": {},
     "output_type": "execute_result"
    },
    {
     "data": {
      "image/png": "[encoded data removed]",
      "text/plain": [
       "<Figure size 432x288 with 1 Axes>"
      ]
     },
     "metadata": {
      "needs_background": "light"
     },
     "output_type": "display_data"
    }
   ],
   "source": [
    "stocks['Log Adj Close'].plot()"
   ]
  },
  {
   "cell_type": "code",
   "execution_count": 25,
   "metadata": {
    "scrolled": false
   },
   "outputs": [
    {
     "data": {
      "text/plain": [
       "<AxesSubplot:xlabel='Date'>"
      ]
     },
     "execution_count": 25,
     "metadata": {},
     "output_type": "execute_result"
    },
    {
     "data": {
      "image/png": "[encoded data removed]",
      "text/plain": [
       "<Figure size 432x288 with 1 Axes>"
      ]
     },
     "metadata": {
      "needs_background": "light"
     },
     "output_type": "display_data"
    }
   ],
   "source": [
    "stocks['Adj Close'].plot()"
   ]
  },
  {
   "cell_type": "markdown",
   "metadata": {},
   "source": [
    "#### Resampling"
   ]
  },
  {
   "cell_type": "markdown",
   "metadata": {},
   "source": [
    "The closing stock price is generally considered as an accurate market signal. (See [Closing Price](https://www.investopedia.com/terms/c/closingprice.asp)). Thereafter we'll only consider the Adjusted Closing value of each trading week."
   ]
  },
  {
   "cell_type": "code",
   "execution_count": 26,
   "metadata": {
    "scrolled": true
   },
   "outputs": [],
   "source": [
    "keep_last = lambda x: x.tail(1)"
   ]
  },
  {
   "cell_type": "code",
   "execution_count": 27,
   "metadata": {
    "scrolled": false
   },
   "outputs": [
    {
     "data": {
      "text/html": [
       "<div>\n",
       "<style scoped>\n",
       "    .dataframe tbody tr th:only-of-type {\n",
       "        vertical-align: middle;\n",
       "    }\n",
       "\n",
       "    .dataframe tbody tr th {\n",
       "        vertical-align: top;\n",
       "    }\n",
       "\n",
       "    .dataframe thead th {\n",
       "        text-align: right;\n",
       "    }\n",
       "</style>\n",
       "<table border=\"1\" class=\"dataframe\">\n",
       "  <thead>\n",
       "    <tr style=\"text-align: right;\">\n",
       "      <th></th>\n",
       "      <th>Open</th>\n",
       "      <th>High</th>\n",
       "      <th>Low</th>\n",
       "      <th>Close</th>\n",
       "      <th>Adj Close</th>\n",
       "      <th>Volume</th>\n",
       "      <th>m</th>\n",
       "      <th>Log Adj Close</th>\n",
       "    </tr>\n",
       "    <tr>\n",
       "      <th>Date</th>\n",
       "      <th></th>\n",
       "      <th></th>\n",
       "      <th></th>\n",
       "      <th></th>\n",
       "      <th></th>\n",
       "      <th></th>\n",
       "      <th></th>\n",
       "      <th></th>\n",
       "    </tr>\n",
       "  </thead>\n",
       "  <tbody>\n",
       "    <tr>\n",
       "      <th>2004-01-02</th>\n",
       "      <td>1111.920044</td>\n",
       "      <td>1118.849976</td>\n",
       "      <td>1105.079956</td>\n",
       "      <td>1108.479980</td>\n",
       "      <td>1108.479980</td>\n",
       "      <td>1153200000</td>\n",
       "      <td>1</td>\n",
       "      <td>7.011647</td>\n",
       "    </tr>\n",
       "    <tr>\n",
       "      <th>2004-01-09</th>\n",
       "      <td>1131.920044</td>\n",
       "      <td>1131.920044</td>\n",
       "      <td>1120.900024</td>\n",
       "      <td>1121.859985</td>\n",
       "      <td>1121.859985</td>\n",
       "      <td>1720700000</td>\n",
       "      <td>1</td>\n",
       "      <td>7.023634</td>\n",
       "    </tr>\n",
       "    <tr>\n",
       "      <th>2004-01-16</th>\n",
       "      <td>1132.050049</td>\n",
       "      <td>1139.829956</td>\n",
       "      <td>1132.050049</td>\n",
       "      <td>1139.829956</td>\n",
       "      <td>1139.829956</td>\n",
       "      <td>1721100000</td>\n",
       "      <td>1</td>\n",
       "      <td>7.039511</td>\n",
       "    </tr>\n",
       "    <tr>\n",
       "      <th>2004-01-23</th>\n",
       "      <td>1143.939941</td>\n",
       "      <td>1150.310059</td>\n",
       "      <td>1136.849976</td>\n",
       "      <td>1141.550049</td>\n",
       "      <td>1141.550049</td>\n",
       "      <td>1561200000</td>\n",
       "      <td>1</td>\n",
       "      <td>7.041018</td>\n",
       "    </tr>\n",
       "    <tr>\n",
       "      <th>2004-01-30</th>\n",
       "      <td>1134.109985</td>\n",
       "      <td>1134.170044</td>\n",
       "      <td>1127.729980</td>\n",
       "      <td>1131.130005</td>\n",
       "      <td>1131.130005</td>\n",
       "      <td>1635000000</td>\n",
       "      <td>1</td>\n",
       "      <td>7.031856</td>\n",
       "    </tr>\n",
       "  </tbody>\n",
       "</table>\n",
       "</div>"
      ],
      "text/plain": [
       "                   Open         High          Low        Close    Adj Close  \\\n",
       "Date                                                                          \n",
       "2004-01-02  1111.920044  1118.849976  1105.079956  1108.479980  1108.479980   \n",
       "2004-01-09  1131.920044  1131.920044  1120.900024  1121.859985  1121.859985   \n",
       "2004-01-16  1132.050049  1139.829956  1132.050049  1139.829956  1139.829956   \n",
       "2004-01-23  1143.939941  1150.310059  1136.849976  1141.550049  1141.550049   \n",
       "2004-01-30  1134.109985  1134.170044  1127.729980  1131.130005  1131.130005   \n",
       "\n",
       "                Volume  m  Log Adj Close  \n",
       "Date                                      \n",
       "2004-01-02  1153200000  1       7.011647  \n",
       "2004-01-09  1720700000  1       7.023634  \n",
       "2004-01-16  1721100000  1       7.039511  \n",
       "2004-01-23  1561200000  1       7.041018  \n",
       "2004-01-30  1635000000  1       7.031856  "
      ]
     },
     "execution_count": 27,
     "metadata": {},
     "output_type": "execute_result"
    }
   ],
   "source": [
    "stocks_wfri = stocks.resample('W-FRI').apply(keep_last)\n",
    "stocks_wfri.head()"
   ]
  },
  {
   "cell_type": "markdown",
   "metadata": {},
   "source": [
    "The closing stock price is considered as an accurate market signal. (See [Closing Price](https://www.investopedia.com/terms/c/closingprice.asp)). Thereafter we're considering only the Adjusted Closing value of each trading week."
   ]
  },
  {
   "cell_type": "markdown",
   "metadata": {},
   "source": [
    "# Prediction"
   ]
  },
  {
   "cell_type": "markdown",
   "metadata": {},
   "source": [
    "For the prediction part, we have to split our data in two parts, one for training and one for testing.  \n",
    "We decided the testing data to start the 1st January 2020. "
   ]
  },
  {
   "cell_type": "code",
   "execution_count": 28,
   "metadata": {},
   "outputs": [],
   "source": [
    "training_period = stocks_wfri.index <= pd.Timestamp(2020, 1, 1)\n",
    "testing_period = stocks_wfri.index > pd.Timestamp(2020, 1, 1)\n",
    "train = stocks_wfri[training_period]['Log Adj Close']\n",
    "test = stocks_wfri[testing_period]['Log Adj Close']"
   ]
  },
  {
   "cell_type": "markdown",
   "metadata": {},
   "source": [
    "## Best AR Model"
   ]
  },
  {
   "cell_type": "markdown",
   "metadata": {},
   "source": [
    "For this part, `pmdarima` is needed. It is equivalent to R's auto.arima functionality. \n",
    "\n",
    "Installation :  \n",
    "`pip install pmdarima`"
   ]
  },
  {
   "cell_type": "code",
   "execution_count": 31,
   "metadata": {
    "scrolled": false
   },
   "outputs": [
    {
     "name": "stdout",
     "output_type": "stream",
     "text": [
      "Fit ARIMA(0,1,0)x(0,0,0,1) [intercept=True]; AIC=-3938.597, BIC=-3929.144, Time=0.086 seconds\n",
      "Fit ARIMA(0,1,1)x(0,0,0,1) [intercept=True]; AIC=-3940.338, BIC=-3926.160, Time=0.102 seconds\n",
      "Fit ARIMA(0,1,2)x(0,0,0,1) [intercept=True]; AIC=-3939.424, BIC=-3920.519, Time=0.155 seconds\n",
      "Fit ARIMA(0,1,3)x(0,0,0,1) [intercept=True]; AIC=-3944.113, BIC=-3920.481, Time=0.207 seconds\n"
     ]
    },
    {
     "name": "stderr",
     "output_type": "stream",
     "text": [
      "/Users/jeannechaverot/opt/anaconda3/lib/python3.8/site-packages/statsmodels/base/model.py:567: ConvergenceWarning: Maximum Likelihood optimization failed to converge. Check mle_retvals\n",
      "  warn(\"Maximum Likelihood optimization failed to converge. \"\n"
     ]
    },
    {
     "name": "stdout",
     "output_type": "stream",
     "text": [
      "Fit ARIMA(0,1,4)x(0,0,0,1) [intercept=True]; AIC=-3942.325, BIC=-3913.968, Time=0.646 seconds\n",
      "Fit ARIMA(0,1,5)x(0,0,0,1) [intercept=True]; AIC=-3941.859, BIC=-3908.775, Time=0.456 seconds\n",
      "Fit ARIMA(1,1,0)x(0,0,0,1) [intercept=True]; AIC=-3940.631, BIC=-3926.452, Time=0.062 seconds\n"
     ]
    },
    {
     "name": "stderr",
     "output_type": "stream",
     "text": [
      "/Users/jeannechaverot/opt/anaconda3/lib/python3.8/site-packages/statsmodels/tsa/statespace/sarimax.py:963: UserWarning: Non-stationary starting autoregressive parameters found. Using zeros as starting parameters.\n",
      "  warn('Non-stationary starting autoregressive parameters'\n"
     ]
    },
    {
     "name": "stdout",
     "output_type": "stream",
     "text": [
      "Fit ARIMA(1,1,1)x(0,0,0,1) [intercept=True]; AIC=-3936.235, BIC=-3917.330, Time=0.488 seconds\n",
      "Fit ARIMA(1,1,2)x(0,0,0,1) [intercept=True]; AIC=-3941.000, BIC=-3917.368, Time=0.748 seconds\n",
      "Fit ARIMA(1,1,3)x(0,0,0,1) [intercept=True]; AIC=-3941.988, BIC=-3913.631, Time=0.616 seconds\n",
      "Fit ARIMA(1,1,4)x(0,0,0,1) [intercept=True]; AIC=-3940.118, BIC=-3907.035, Time=0.280 seconds\n",
      "Fit ARIMA(2,1,0)x(0,0,0,1) [intercept=True]; AIC=-3940.103, BIC=-3921.198, Time=0.138 seconds\n"
     ]
    },
    {
     "name": "stderr",
     "output_type": "stream",
     "text": [
      "/Users/jeannechaverot/opt/anaconda3/lib/python3.8/site-packages/statsmodels/tsa/statespace/sarimax.py:963: UserWarning: Non-stationary starting autoregressive parameters found. Using zeros as starting parameters.\n",
      "  warn('Non-stationary starting autoregressive parameters'\n",
      "/Users/jeannechaverot/opt/anaconda3/lib/python3.8/site-packages/statsmodels/tsa/statespace/sarimax.py:975: UserWarning: Non-invertible starting MA parameters found. Using zeros as starting parameters.\n",
      "  warn('Non-invertible starting MA parameters found.'\n"
     ]
    },
    {
     "name": "stdout",
     "output_type": "stream",
     "text": [
      "Fit ARIMA(2,1,1)x(0,0,0,1) [intercept=True]; AIC=-3937.924, BIC=-3914.293, Time=0.304 seconds\n",
      "Fit ARIMA(2,1,2)x(0,0,0,1) [intercept=True]; AIC=-3937.673, BIC=-3909.316, Time=0.217 seconds\n"
     ]
    },
    {
     "name": "stderr",
     "output_type": "stream",
     "text": [
      "/Users/jeannechaverot/opt/anaconda3/lib/python3.8/site-packages/statsmodels/base/model.py:567: ConvergenceWarning: Maximum Likelihood optimization failed to converge. Check mle_retvals\n",
      "  warn(\"Maximum Likelihood optimization failed to converge. \"\n"
     ]
    },
    {
     "name": "stdout",
     "output_type": "stream",
     "text": [
      "Fit ARIMA(2,1,3)x(0,0,0,1) [intercept=True]; AIC=-3942.075, BIC=-3908.992, Time=0.851 seconds\n",
      "Fit ARIMA(3,1,0)x(0,0,0,1) [intercept=True]; AIC=-3943.587, BIC=-3919.956, Time=0.124 seconds\n",
      "Fit ARIMA(3,1,1)x(0,0,0,1) [intercept=True]; AIC=-3941.671, BIC=-3913.313, Time=0.246 seconds\n",
      "Fit ARIMA(3,1,2)x(0,0,0,1) [intercept=True]; AIC=-3941.421, BIC=-3908.337, Time=0.346 seconds\n",
      "Fit ARIMA(4,1,0)x(0,0,0,1) [intercept=True]; AIC=-3942.048, BIC=-3913.690, Time=0.136 seconds\n",
      "Fit ARIMA(4,1,1)x(0,0,0,1) [intercept=True]; AIC=-3940.002, BIC=-3906.918, Time=0.161 seconds\n",
      "Fit ARIMA(5,1,0)x(0,0,0,1) [intercept=True]; AIC=-3940.826, BIC=-3907.742, Time=0.162 seconds\n",
      "Total fit time: 6.540 seconds\n"
     ]
    },
    {
     "data": {
      "image/png": "[encoded data removed]",
      "text/plain": [
       "<Figure size 432x288 with 1 Axes>"
      ]
     },
     "metadata": {
      "needs_background": "light"
     },
     "output_type": "display_data"
    }
   ],
   "source": [
    "from pmdarima import auto_arima\n",
    "arima = auto_arima(train, max_d=4, max_p=6, max_q=6, max_Q=2, trace=True, stepwise=False)\n",
    "arima.fit(train)\n",
    "predictions = arima.predict(n_periods=test.shape[0])\n",
    "predictions = pd.DataFrame(data=predictions,index = test.index)\n",
    "\n",
    "plt.plot(train, label='Train')\n",
    "plt.plot(test, label='Test')\n",
    "plt.plot(predictions, label='Prediction')\n",
    "plt.legend()\n",
    "plt.show()"
   ]
  },
  {
   "cell_type": "markdown",
   "metadata": {},
   "source": [
    "## Trends"
   ]
  },
  {
   "cell_type": "markdown",
   "metadata": {},
   "source": [
    "To determine which trends are the best predictors, we're going to test them individually and observe in which extent they improve our out-of-sample predictions. "
   ]
  },
  {
   "cell_type": "code",
   "execution_count": 42,
   "metadata": {},
   "outputs": [
    {
     "data": {
      "text/html": [
       "<div>\n",
       "<style scoped>\n",
       "    .dataframe tbody tr th:only-of-type {\n",
       "        vertical-align: middle;\n",
       "    }\n",
       "\n",
       "    .dataframe tbody tr th {\n",
       "        vertical-align: top;\n",
       "    }\n",
       "\n",
       "    .dataframe thead th {\n",
       "        text-align: right;\n",
       "    }\n",
       "</style>\n",
       "<table border=\"1\" class=\"dataframe\">\n",
       "  <thead>\n",
       "    <tr style=\"text-align: right;\">\n",
       "      <th></th>\n",
       "      <th>mastercard</th>\n",
       "      <th>google</th>\n",
       "      <th>housing</th>\n",
       "      <th>pepsico</th>\n",
       "      <th>invest</th>\n",
       "      <th>hedge</th>\n",
       "      <th>bonds</th>\n",
       "      <th>revenues</th>\n",
       "      <th>finance</th>\n",
       "      <th>berkshire</th>\n",
       "      <th>...</th>\n",
       "      <th>opportunity</th>\n",
       "      <th>happy</th>\n",
       "      <th>health</th>\n",
       "      <th>mcdonalds</th>\n",
       "      <th>movie</th>\n",
       "      <th>return</th>\n",
       "      <th>comcast</th>\n",
       "      <th>medtronic</th>\n",
       "      <th>johnson</th>\n",
       "      <th>stocks</th>\n",
       "    </tr>\n",
       "    <tr>\n",
       "      <th>date</th>\n",
       "      <th></th>\n",
       "      <th></th>\n",
       "      <th></th>\n",
       "      <th></th>\n",
       "      <th></th>\n",
       "      <th></th>\n",
       "      <th></th>\n",
       "      <th></th>\n",
       "      <th></th>\n",
       "      <th></th>\n",
       "      <th></th>\n",
       "      <th></th>\n",
       "      <th></th>\n",
       "      <th></th>\n",
       "      <th></th>\n",
       "      <th></th>\n",
       "      <th></th>\n",
       "      <th></th>\n",
       "      <th></th>\n",
       "      <th></th>\n",
       "      <th></th>\n",
       "    </tr>\n",
       "  </thead>\n",
       "  <tbody>\n",
       "    <tr>\n",
       "      <th>2004-01-09</th>\n",
       "      <td>0.000000</td>\n",
       "      <td>0.000000</td>\n",
       "      <td>0.000000</td>\n",
       "      <td>0.000000</td>\n",
       "      <td>0.000000</td>\n",
       "      <td>0.000000</td>\n",
       "      <td>0.000000</td>\n",
       "      <td>0.000000</td>\n",
       "      <td>0.000000</td>\n",
       "      <td>0.000000</td>\n",
       "      <td>...</td>\n",
       "      <td>0.000000</td>\n",
       "      <td>0.000000</td>\n",
       "      <td>0.000000</td>\n",
       "      <td>0.000000</td>\n",
       "      <td>0.000000</td>\n",
       "      <td>0.000000</td>\n",
       "      <td>0.000000</td>\n",
       "      <td>0.000000</td>\n",
       "      <td>0.000000</td>\n",
       "      <td>0.000000</td>\n",
       "    </tr>\n",
       "    <tr>\n",
       "      <th>2004-01-16</th>\n",
       "      <td>0.079365</td>\n",
       "      <td>-0.017857</td>\n",
       "      <td>0.200000</td>\n",
       "      <td>0.222222</td>\n",
       "      <td>-0.181818</td>\n",
       "      <td>0.000000</td>\n",
       "      <td>0.000000</td>\n",
       "      <td>-0.194444</td>\n",
       "      <td>0.021978</td>\n",
       "      <td>-0.490909</td>\n",
       "      <td>...</td>\n",
       "      <td>0.000000</td>\n",
       "      <td>0.032258</td>\n",
       "      <td>0.000000</td>\n",
       "      <td>0.018182</td>\n",
       "      <td>-0.036585</td>\n",
       "      <td>-0.031915</td>\n",
       "      <td>-0.013333</td>\n",
       "      <td>-0.333333</td>\n",
       "      <td>0.040000</td>\n",
       "      <td>0.089888</td>\n",
       "    </tr>\n",
       "    <tr>\n",
       "      <th>2004-01-23</th>\n",
       "      <td>-0.102941</td>\n",
       "      <td>0.127273</td>\n",
       "      <td>-0.100000</td>\n",
       "      <td>-0.333333</td>\n",
       "      <td>-0.063492</td>\n",
       "      <td>0.014493</td>\n",
       "      <td>-0.049383</td>\n",
       "      <td>0.724138</td>\n",
       "      <td>-0.086022</td>\n",
       "      <td>0.714286</td>\n",
       "      <td>...</td>\n",
       "      <td>-0.190476</td>\n",
       "      <td>0.078125</td>\n",
       "      <td>-0.010101</td>\n",
       "      <td>-0.178571</td>\n",
       "      <td>-0.012658</td>\n",
       "      <td>-0.087912</td>\n",
       "      <td>0.081081</td>\n",
       "      <td>0.386364</td>\n",
       "      <td>0.000000</td>\n",
       "      <td>0.030928</td>\n",
       "    </tr>\n",
       "    <tr>\n",
       "      <th>2004-01-30</th>\n",
       "      <td>-0.180328</td>\n",
       "      <td>-0.080645</td>\n",
       "      <td>-0.037037</td>\n",
       "      <td>-0.954545</td>\n",
       "      <td>0.101695</td>\n",
       "      <td>-0.071429</td>\n",
       "      <td>-0.064935</td>\n",
       "      <td>0.760000</td>\n",
       "      <td>0.141176</td>\n",
       "      <td>-0.354167</td>\n",
       "      <td>...</td>\n",
       "      <td>1.941176</td>\n",
       "      <td>-0.130435</td>\n",
       "      <td>0.000000</td>\n",
       "      <td>0.347826</td>\n",
       "      <td>-0.012821</td>\n",
       "      <td>0.048193</td>\n",
       "      <td>-0.100000</td>\n",
       "      <td>-0.344262</td>\n",
       "      <td>-0.038462</td>\n",
       "      <td>-0.070000</td>\n",
       "    </tr>\n",
       "    <tr>\n",
       "      <th>2004-02-06</th>\n",
       "      <td>0.540000</td>\n",
       "      <td>0.000000</td>\n",
       "      <td>0.000000</td>\n",
       "      <td>63.000000</td>\n",
       "      <td>-0.046154</td>\n",
       "      <td>0.030769</td>\n",
       "      <td>0.041667</td>\n",
       "      <td>-0.443182</td>\n",
       "      <td>-0.010309</td>\n",
       "      <td>-0.032258</td>\n",
       "      <td>...</td>\n",
       "      <td>-0.540000</td>\n",
       "      <td>-0.050000</td>\n",
       "      <td>-0.051020</td>\n",
       "      <td>0.000000</td>\n",
       "      <td>-0.090909</td>\n",
       "      <td>0.034483</td>\n",
       "      <td>-0.194444</td>\n",
       "      <td>0.925000</td>\n",
       "      <td>0.080000</td>\n",
       "      <td>-0.172043</td>\n",
       "    </tr>\n",
       "  </tbody>\n",
       "</table>\n",
       "<p>5 rows × 86 columns</p>\n",
       "</div>"
      ],
      "text/plain": [
       "            mastercard    google   housing    pepsico    invest     hedge  \\\n",
       "date                                                                        \n",
       "2004-01-09    0.000000  0.000000  0.000000   0.000000  0.000000  0.000000   \n",
       "2004-01-16    0.079365 -0.017857  0.200000   0.222222 -0.181818  0.000000   \n",
       "2004-01-23   -0.102941  0.127273 -0.100000  -0.333333 -0.063492  0.014493   \n",
       "2004-01-30   -0.180328 -0.080645 -0.037037  -0.954545  0.101695 -0.071429   \n",
       "2004-02-06    0.540000  0.000000  0.000000  63.000000 -0.046154  0.030769   \n",
       "\n",
       "               bonds  revenues   finance  berkshire  ...  opportunity  \\\n",
       "date                                                 ...                \n",
       "2004-01-09  0.000000  0.000000  0.000000   0.000000  ...     0.000000   \n",
       "2004-01-16  0.000000 -0.194444  0.021978  -0.490909  ...     0.000000   \n",
       "2004-01-23 -0.049383  0.724138 -0.086022   0.714286  ...    -0.190476   \n",
       "2004-01-30 -0.064935  0.760000  0.141176  -0.354167  ...     1.941176   \n",
       "2004-02-06  0.041667 -0.443182 -0.010309  -0.032258  ...    -0.540000   \n",
       "\n",
       "               happy    health  mcdonalds     movie    return   comcast  \\\n",
       "date                                                                      \n",
       "2004-01-09  0.000000  0.000000   0.000000  0.000000  0.000000  0.000000   \n",
       "2004-01-16  0.032258  0.000000   0.018182 -0.036585 -0.031915 -0.013333   \n",
       "2004-01-23  0.078125 -0.010101  -0.178571 -0.012658 -0.087912  0.081081   \n",
       "2004-01-30 -0.130435  0.000000   0.347826 -0.012821  0.048193 -0.100000   \n",
       "2004-02-06 -0.050000 -0.051020   0.000000 -0.090909  0.034483 -0.194444   \n",
       "\n",
       "            medtronic   johnson    stocks  \n",
       "date                                       \n",
       "2004-01-09   0.000000  0.000000  0.000000  \n",
       "2004-01-16  -0.333333  0.040000  0.089888  \n",
       "2004-01-23   0.386364  0.000000  0.030928  \n",
       "2004-01-30  -0.344262 -0.038462 -0.070000  \n",
       "2004-02-06   0.925000  0.080000 -0.172043  \n",
       "\n",
       "[5 rows x 86 columns]"
      ]
     },
     "execution_count": 42,
     "metadata": {},
     "output_type": "execute_result"
    }
   ],
   "source": [
    "df.index = pd.to_datetime(df.index)\n",
    "df = df.resample('W-FRI').apply(keep_last)\n",
    "df.head()"
   ]
  },
  {
   "cell_type": "code",
   "execution_count": 44,
   "metadata": {},
   "outputs": [
    {
     "data": {
      "text/html": [
       "<div>\n",
       "<style scoped>\n",
       "    .dataframe tbody tr th:only-of-type {\n",
       "        vertical-align: middle;\n",
       "    }\n",
       "\n",
       "    .dataframe tbody tr th {\n",
       "        vertical-align: top;\n",
       "    }\n",
       "\n",
       "    .dataframe thead th {\n",
       "        text-align: right;\n",
       "    }\n",
       "</style>\n",
       "<table border=\"1\" class=\"dataframe\">\n",
       "  <thead>\n",
       "    <tr style=\"text-align: right;\">\n",
       "      <th></th>\n",
       "      <th>Open</th>\n",
       "      <th>High</th>\n",
       "      <th>Low</th>\n",
       "      <th>Close</th>\n",
       "      <th>Adj Close</th>\n",
       "      <th>Volume</th>\n",
       "      <th>m</th>\n",
       "      <th>Log Adj Close</th>\n",
       "    </tr>\n",
       "    <tr>\n",
       "      <th>Date</th>\n",
       "      <th></th>\n",
       "      <th></th>\n",
       "      <th></th>\n",
       "      <th></th>\n",
       "      <th></th>\n",
       "      <th></th>\n",
       "      <th></th>\n",
       "      <th></th>\n",
       "    </tr>\n",
       "  </thead>\n",
       "  <tbody>\n",
       "    <tr>\n",
       "      <th>2004-01-09</th>\n",
       "      <td>1131.920044</td>\n",
       "      <td>1131.920044</td>\n",
       "      <td>1120.900024</td>\n",
       "      <td>1121.859985</td>\n",
       "      <td>1121.859985</td>\n",
       "      <td>1720700000</td>\n",
       "      <td>1</td>\n",
       "      <td>7.023634</td>\n",
       "    </tr>\n",
       "    <tr>\n",
       "      <th>2004-01-16</th>\n",
       "      <td>1132.050049</td>\n",
       "      <td>1139.829956</td>\n",
       "      <td>1132.050049</td>\n",
       "      <td>1139.829956</td>\n",
       "      <td>1139.829956</td>\n",
       "      <td>1721100000</td>\n",
       "      <td>1</td>\n",
       "      <td>7.039511</td>\n",
       "    </tr>\n",
       "    <tr>\n",
       "      <th>2004-01-23</th>\n",
       "      <td>1143.939941</td>\n",
       "      <td>1150.310059</td>\n",
       "      <td>1136.849976</td>\n",
       "      <td>1141.550049</td>\n",
       "      <td>1141.550049</td>\n",
       "      <td>1561200000</td>\n",
       "      <td>1</td>\n",
       "      <td>7.041018</td>\n",
       "    </tr>\n",
       "    <tr>\n",
       "      <th>2004-01-30</th>\n",
       "      <td>1134.109985</td>\n",
       "      <td>1134.170044</td>\n",
       "      <td>1127.729980</td>\n",
       "      <td>1131.130005</td>\n",
       "      <td>1131.130005</td>\n",
       "      <td>1635000000</td>\n",
       "      <td>1</td>\n",
       "      <td>7.031856</td>\n",
       "    </tr>\n",
       "    <tr>\n",
       "      <th>2004-02-06</th>\n",
       "      <td>1128.589966</td>\n",
       "      <td>1142.790039</td>\n",
       "      <td>1128.390015</td>\n",
       "      <td>1142.760010</td>\n",
       "      <td>1142.760010</td>\n",
       "      <td>1477600000</td>\n",
       "      <td>2</td>\n",
       "      <td>7.042076</td>\n",
       "    </tr>\n",
       "  </tbody>\n",
       "</table>\n",
       "</div>"
      ],
      "text/plain": [
       "                   Open         High          Low        Close    Adj Close  \\\n",
       "Date                                                                          \n",
       "2004-01-09  1131.920044  1131.920044  1120.900024  1121.859985  1121.859985   \n",
       "2004-01-16  1132.050049  1139.829956  1132.050049  1139.829956  1139.829956   \n",
       "2004-01-23  1143.939941  1150.310059  1136.849976  1141.550049  1141.550049   \n",
       "2004-01-30  1134.109985  1134.170044  1127.729980  1131.130005  1131.130005   \n",
       "2004-02-06  1128.589966  1142.790039  1128.390015  1142.760010  1142.760010   \n",
       "\n",
       "                Volume  m  Log Adj Close  \n",
       "Date                                      \n",
       "2004-01-09  1720700000  1       7.023634  \n",
       "2004-01-16  1721100000  1       7.039511  \n",
       "2004-01-23  1561200000  1       7.041018  \n",
       "2004-01-30  1635000000  1       7.031856  \n",
       "2004-02-06  1477600000  2       7.042076  "
      ]
     },
     "execution_count": 44,
     "metadata": {},
     "output_type": "execute_result"
    }
   ],
   "source": [
    "stocks_wfri = stocks_wfri.iloc[1:,:]\n",
    "stocks_wfri.head()"
   ]
  },
  {
   "cell_type": "code",
   "execution_count": 45,
   "metadata": {},
   "outputs": [
    {
     "data": {
      "text/html": [
       "<div>\n",
       "<style scoped>\n",
       "    .dataframe tbody tr th:only-of-type {\n",
       "        vertical-align: middle;\n",
       "    }\n",
       "\n",
       "    .dataframe tbody tr th {\n",
       "        vertical-align: top;\n",
       "    }\n",
       "\n",
       "    .dataframe thead th {\n",
       "        text-align: right;\n",
       "    }\n",
       "</style>\n",
       "<table border=\"1\" class=\"dataframe\">\n",
       "  <thead>\n",
       "    <tr style=\"text-align: right;\">\n",
       "      <th></th>\n",
       "      <th>mastercard</th>\n",
       "      <th>google</th>\n",
       "      <th>housing</th>\n",
       "      <th>pepsico</th>\n",
       "      <th>invest</th>\n",
       "      <th>hedge</th>\n",
       "      <th>bonds</th>\n",
       "      <th>revenues</th>\n",
       "      <th>finance</th>\n",
       "      <th>berkshire</th>\n",
       "      <th>...</th>\n",
       "      <th>johnson</th>\n",
       "      <th>stocks</th>\n",
       "      <th>Open</th>\n",
       "      <th>High</th>\n",
       "      <th>Low</th>\n",
       "      <th>Close</th>\n",
       "      <th>Adj Close</th>\n",
       "      <th>Volume</th>\n",
       "      <th>m</th>\n",
       "      <th>Log Adj Close</th>\n",
       "    </tr>\n",
       "    <tr>\n",
       "      <th>date</th>\n",
       "      <th></th>\n",
       "      <th></th>\n",
       "      <th></th>\n",
       "      <th></th>\n",
       "      <th></th>\n",
       "      <th></th>\n",
       "      <th></th>\n",
       "      <th></th>\n",
       "      <th></th>\n",
       "      <th></th>\n",
       "      <th></th>\n",
       "      <th></th>\n",
       "      <th></th>\n",
       "      <th></th>\n",
       "      <th></th>\n",
       "      <th></th>\n",
       "      <th></th>\n",
       "      <th></th>\n",
       "      <th></th>\n",
       "      <th></th>\n",
       "      <th></th>\n",
       "    </tr>\n",
       "  </thead>\n",
       "  <tbody>\n",
       "    <tr>\n",
       "      <th>2004-01-09</th>\n",
       "      <td>0.000000</td>\n",
       "      <td>0.000000</td>\n",
       "      <td>0.000000</td>\n",
       "      <td>0.000000</td>\n",
       "      <td>0.000000</td>\n",
       "      <td>0.000000</td>\n",
       "      <td>0.000000</td>\n",
       "      <td>0.000000</td>\n",
       "      <td>0.000000</td>\n",
       "      <td>0.000000</td>\n",
       "      <td>...</td>\n",
       "      <td>0.000000</td>\n",
       "      <td>0.000000</td>\n",
       "      <td>1131.920044</td>\n",
       "      <td>1131.920044</td>\n",
       "      <td>1120.900024</td>\n",
       "      <td>1121.859985</td>\n",
       "      <td>1121.859985</td>\n",
       "      <td>1720700000</td>\n",
       "      <td>1</td>\n",
       "      <td>7.023634</td>\n",
       "    </tr>\n",
       "    <tr>\n",
       "      <th>2004-01-16</th>\n",
       "      <td>0.079365</td>\n",
       "      <td>-0.017857</td>\n",
       "      <td>0.200000</td>\n",
       "      <td>0.222222</td>\n",
       "      <td>-0.181818</td>\n",
       "      <td>0.000000</td>\n",
       "      <td>0.000000</td>\n",
       "      <td>-0.194444</td>\n",
       "      <td>0.021978</td>\n",
       "      <td>-0.490909</td>\n",
       "      <td>...</td>\n",
       "      <td>0.040000</td>\n",
       "      <td>0.089888</td>\n",
       "      <td>1132.050049</td>\n",
       "      <td>1139.829956</td>\n",
       "      <td>1132.050049</td>\n",
       "      <td>1139.829956</td>\n",
       "      <td>1139.829956</td>\n",
       "      <td>1721100000</td>\n",
       "      <td>1</td>\n",
       "      <td>7.039511</td>\n",
       "    </tr>\n",
       "    <tr>\n",
       "      <th>2004-01-23</th>\n",
       "      <td>-0.102941</td>\n",
       "      <td>0.127273</td>\n",
       "      <td>-0.100000</td>\n",
       "      <td>-0.333333</td>\n",
       "      <td>-0.063492</td>\n",
       "      <td>0.014493</td>\n",
       "      <td>-0.049383</td>\n",
       "      <td>0.724138</td>\n",
       "      <td>-0.086022</td>\n",
       "      <td>0.714286</td>\n",
       "      <td>...</td>\n",
       "      <td>0.000000</td>\n",
       "      <td>0.030928</td>\n",
       "      <td>1143.939941</td>\n",
       "      <td>1150.310059</td>\n",
       "      <td>1136.849976</td>\n",
       "      <td>1141.550049</td>\n",
       "      <td>1141.550049</td>\n",
       "      <td>1561200000</td>\n",
       "      <td>1</td>\n",
       "      <td>7.041018</td>\n",
       "    </tr>\n",
       "    <tr>\n",
       "      <th>2004-01-30</th>\n",
       "      <td>-0.180328</td>\n",
       "      <td>-0.080645</td>\n",
       "      <td>-0.037037</td>\n",
       "      <td>-0.954545</td>\n",
       "      <td>0.101695</td>\n",
       "      <td>-0.071429</td>\n",
       "      <td>-0.064935</td>\n",
       "      <td>0.760000</td>\n",
       "      <td>0.141176</td>\n",
       "      <td>-0.354167</td>\n",
       "      <td>...</td>\n",
       "      <td>-0.038462</td>\n",
       "      <td>-0.070000</td>\n",
       "      <td>1134.109985</td>\n",
       "      <td>1134.170044</td>\n",
       "      <td>1127.729980</td>\n",
       "      <td>1131.130005</td>\n",
       "      <td>1131.130005</td>\n",
       "      <td>1635000000</td>\n",
       "      <td>1</td>\n",
       "      <td>7.031856</td>\n",
       "    </tr>\n",
       "    <tr>\n",
       "      <th>2004-02-06</th>\n",
       "      <td>0.540000</td>\n",
       "      <td>0.000000</td>\n",
       "      <td>0.000000</td>\n",
       "      <td>63.000000</td>\n",
       "      <td>-0.046154</td>\n",
       "      <td>0.030769</td>\n",
       "      <td>0.041667</td>\n",
       "      <td>-0.443182</td>\n",
       "      <td>-0.010309</td>\n",
       "      <td>-0.032258</td>\n",
       "      <td>...</td>\n",
       "      <td>0.080000</td>\n",
       "      <td>-0.172043</td>\n",
       "      <td>1128.589966</td>\n",
       "      <td>1142.790039</td>\n",
       "      <td>1128.390015</td>\n",
       "      <td>1142.760010</td>\n",
       "      <td>1142.760010</td>\n",
       "      <td>1477600000</td>\n",
       "      <td>2</td>\n",
       "      <td>7.042076</td>\n",
       "    </tr>\n",
       "  </tbody>\n",
       "</table>\n",
       "<p>5 rows × 94 columns</p>\n",
       "</div>"
      ],
      "text/plain": [
       "            mastercard    google   housing    pepsico    invest     hedge  \\\n",
       "date                                                                        \n",
       "2004-01-09    0.000000  0.000000  0.000000   0.000000  0.000000  0.000000   \n",
       "2004-01-16    0.079365 -0.017857  0.200000   0.222222 -0.181818  0.000000   \n",
       "2004-01-23   -0.102941  0.127273 -0.100000  -0.333333 -0.063492  0.014493   \n",
       "2004-01-30   -0.180328 -0.080645 -0.037037  -0.954545  0.101695 -0.071429   \n",
       "2004-02-06    0.540000  0.000000  0.000000  63.000000 -0.046154  0.030769   \n",
       "\n",
       "               bonds  revenues   finance  berkshire  ...   johnson    stocks  \\\n",
       "date                                                 ...                       \n",
       "2004-01-09  0.000000  0.000000  0.000000   0.000000  ...  0.000000  0.000000   \n",
       "2004-01-16  0.000000 -0.194444  0.021978  -0.490909  ...  0.040000  0.089888   \n",
       "2004-01-23 -0.049383  0.724138 -0.086022   0.714286  ...  0.000000  0.030928   \n",
       "2004-01-30 -0.064935  0.760000  0.141176  -0.354167  ... -0.038462 -0.070000   \n",
       "2004-02-06  0.041667 -0.443182 -0.010309  -0.032258  ...  0.080000 -0.172043   \n",
       "\n",
       "                   Open         High          Low        Close    Adj Close  \\\n",
       "date                                                                          \n",
       "2004-01-09  1131.920044  1131.920044  1120.900024  1121.859985  1121.859985   \n",
       "2004-01-16  1132.050049  1139.829956  1132.050049  1139.829956  1139.829956   \n",
       "2004-01-23  1143.939941  1150.310059  1136.849976  1141.550049  1141.550049   \n",
       "2004-01-30  1134.109985  1134.170044  1127.729980  1131.130005  1131.130005   \n",
       "2004-02-06  1128.589966  1142.790039  1128.390015  1142.760010  1142.760010   \n",
       "\n",
       "                Volume  m  Log Adj Close  \n",
       "date                                      \n",
       "2004-01-09  1720700000  1       7.023634  \n",
       "2004-01-16  1721100000  1       7.039511  \n",
       "2004-01-23  1561200000  1       7.041018  \n",
       "2004-01-30  1635000000  1       7.031856  \n",
       "2004-02-06  1477600000  2       7.042076  \n",
       "\n",
       "[5 rows x 94 columns]"
      ]
     },
     "execution_count": 45,
     "metadata": {},
     "output_type": "execute_result"
    }
   ],
   "source": [
    "data = pd.concat([df, stocks_wfri], axis=1)\n",
    "data.head()"
   ]
  },
  {
   "cell_type": "code",
   "execution_count": 114,
   "metadata": {},
   "outputs": [],
   "source": [
    "data['y(t-1)'] = pd.DataFrame(data['Log Adj Close']).T.shift(periods=1, axis=1).T\n",
    "data['y(t-12)'] = pd.DataFrame(data['Log Adj Close']).T.shift(periods=12, axis=1).T\n",
    "data = data.iloc[12:,:]"
   ]
  },
  {
   "cell_type": "code",
   "execution_count": 127,
   "metadata": {},
   "outputs": [],
   "source": [
    "X = pd.concat([data.iloc[:,:-10], data.iloc[:,-2:]], axis=1).values\n",
    "y = data['Log Adj Close']"
   ]
  },
  {
   "cell_type": "code",
   "execution_count": 129,
   "metadata": {},
   "outputs": [],
   "source": [
    "def predict(X, y, window):\n",
    "    \"\"\"\n",
    "    This function is used to make the predictions. The parameters help set up the details of the model to be used.\n",
    "    model: either takes value window or accumulate. If window, it means we use the previous 17 data point from the\n",
    "    one we want to predict to create the model. If accumulate, we take all data points preceding the one we want\n",
    "    to predict.\n",
    "    recession: If false it means we are working on the whole data set. If true we are strinctly working on the days\n",
    "    corresponding to the recession.\n",
    "    \"\"\"\n",
    "    \n",
    "    \n",
    "    k = window\n",
    "    y_tests = []\n",
    "    y_hats = []\n",
    "        \n",
    "    # special case to begin when we still don't have 17 data points yet\n",
    "    # starting at date 2005-06-01 (which is the 5th data point in the data set) we will use every past data \n",
    "    # points in the training set up until the 17th data point\n",
    "        \n",
    "    for i in np.arange(5, k, 1):\n",
    "\n",
    "        X_train = X[:i,:]\n",
    "        X_test = X[i,:]\n",
    "\n",
    "        y_train = y[:i]\n",
    "        y_test = y[i]\n",
    "\n",
    "        reg = LinearRegression()\n",
    "        reg.fit(X_train, y_train)\n",
    "\n",
    "        #X_test.reshape(1,X.shape[1])\n",
    "        y_hat = reg.predict([X_test])\n",
    "        y_tests.append(y_test)\n",
    "        y_hats.append(y_hat)\n",
    "            \n",
    "        \n",
    "    # now we do the second loop where we only use a window of 17 elements to train\n",
    "        \n",
    "    i = 0\n",
    "        \n",
    "    while i+k<X.shape[0]:\n",
    "\n",
    "        X_train = X[i:i+k,:]\n",
    "        X_test = X[i+k,:]\n",
    "        y_train = y[i:i+k]\n",
    "        y_test = y[i+k]\n",
    "\n",
    "        reg = LinearRegression()\n",
    "        reg.fit(X_train, y_train)\n",
    "\n",
    "        y_hat = reg.predict([X_test])\n",
    "\n",
    "        y_tests.append(y_test)\n",
    "        y_hats.append(y_hat)\n",
    "\n",
    "        i+=1\n",
    "    y_hats = [el[0] for el in y_hats]\n",
    "    return y_tests, y_hats\n",
    "    \n",
    "   "
   ]
  },
  {
   "cell_type": "code",
   "execution_count": 141,
   "metadata": {},
   "outputs": [
    {
     "name": "stdout",
     "output_type": "stream",
     "text": [
      "Optimizing for window of size  7\n",
      "Optimizing for window of size  8\n",
      "Optimizing for window of size  9\n",
      "Optimizing for window of size  10\n",
      "Optimizing for window of size  11\n",
      "Optimizing for window of size  12\n",
      "Optimizing for window of size  13\n",
      "Optimizing for window of size  14\n",
      "Optimizing for window of size  15\n",
      "Optimizing for window of size  16\n",
      "Optimizing for window of size  17\n",
      "Optimizing for window of size  18\n",
      "Optimizing for window of size  19\n",
      "Optimizing for window of size  20\n",
      "Optimizing for window of size  21\n",
      "Optimizing for window of size  22\n",
      "Optimizing for window of size  23\n",
      "Optimizing for window of size  24\n",
      "Optimizing for window of size  25\n",
      "Optimizing for window of size  26\n",
      "Optimizing for window of size  27\n",
      "Optimizing for window of size  28\n",
      "Optimizing for window of size  29\n",
      "--- 974.8781080245972 seconds ---\n"
     ]
    }
   ],
   "source": [
    "from tqdm.notebook import tqdm\n",
    "import time\n",
    "start_time = time.time()\n",
    "\n",
    "windows = np.arange(7, 30)\n",
    "nb_features = np.arange(5, X.shape[1]+1)\n",
    "\n",
    "grid = np.ndarray((len(windows), len(nb_features)))\n",
    "\n",
    "for i, w in enumerate(windows):\n",
    "    print('Optimizing for window of size ', w)\n",
    "    for j, k in enumerate(nb_features):\n",
    "\n",
    "        fs = SelectKBest(score_func=f_regression, k=k)\n",
    "        fs.fit(X, y)\n",
    "        X_new = fs.transform(X)\n",
    "        \n",
    "        y_test, y_hat = predict(X_new, y, w)\n",
    "        \n",
    "        mae = sklearn.metrics.mean_absolute_error(y_test,y_hat)*100\n",
    "        grid[i, j] = mae\n",
    "print(\"--- %s seconds ---\" % (time.time() - start_time))\n",
    "    "
   ]
  },
  {
   "cell_type": "code",
   "execution_count": 142,
   "metadata": {},
   "outputs": [
    {
     "data": {
      "text/plain": [
       "2.1653505190153193"
      ]
     },
     "execution_count": 142,
     "metadata": {},
     "output_type": "execute_result"
    }
   ],
   "source": [
    "np.min(grid)"
   ]
  },
  {
   "cell_type": "code",
   "execution_count": 145,
   "metadata": {},
   "outputs": [
    {
     "data": {
      "text/plain": [
       "(array([22]), array([0]))"
      ]
     },
     "execution_count": 145,
     "metadata": {},
     "output_type": "execute_result"
    }
   ],
   "source": [
    "np.where(grid == grid.min())"
   ]
  },
  {
   "cell_type": "code",
   "execution_count": 150,
   "metadata": {},
   "outputs": [
    {
     "data": {
      "text/plain": [
       "'The loss is minimized and returns 2.165 for a window of size 29 taking into account 5 features'"
      ]
     },
     "execution_count": 150,
     "metadata": {},
     "output_type": "execute_result"
    }
   ],
   "source": [
    "window_idx, features_idx = np.where(grid == grid.min())\n",
    "\n",
    "'The loss is minimized and returns {:.3f} for a window of size {} taking into account {} features'.format(np.min(grid), windows[window_idx[0]], nb_features[features_idx[0]])"
   ]
  },
  {
   "cell_type": "code",
   "execution_count": 151,
   "metadata": {},
   "outputs": [],
   "source": [
    "fs = SelectKBest(score_func=f_regression, k=5)\n",
    "fs.fit(X, y)\n",
    "X_new = fs.transform(X)\n",
    "        \n",
    "y_test, y_hat = predict(X_new, y, 29)\n",
    "        \n",
    "mae = sklearn.metrics.mean_absolute_error(y_test,y_hat)*100"
   ]
  },
  {
   "cell_type": "code",
   "execution_count": 157,
   "metadata": {},
   "outputs": [
    {
     "data": {
      "text/plain": [
       "Text(0, 0.5, 'log(mvp)')"
      ]
     },
     "execution_count": 157,
     "metadata": {},
     "output_type": "execute_result"
    },
    {
     "data": {
      "image/png": "[encoded data removed]",
      "text/plain": [
       "<Figure size 1080x576 with 1 Axes>"
      ]
     },
     "metadata": {
      "needs_background": "light"
     },
     "output_type": "display_data"
    }
   ],
   "source": [
    "fig, ax = plt.subplots(figsize=(15,8))\n",
    "\n",
    "ax.plot(data.index[-len(y_test):], y_test, linestyle='solid', label='Actual')\n",
    "ax.plot(data.index[-len(y_test):], y_hat, linestyle='solid', label='Base')\n",
    "\n",
    "ax.set_title('Motor Vehicles and Parts')\n",
    "ax.set_xlabel(\"Index\")\n",
    "ax.set_ylabel(\"log(mvp)\")\n",
    "    \n",
    "    "
   ]
  },
  {
   "cell_type": "code",
   "execution_count": null,
   "metadata": {},
   "outputs": [],
   "source": []
  }
 ],
 "metadata": {
  "kernelspec": {
   "display_name": "Python 3",
   "language": "python",
   "name": "python3"
  },
  "language_info": {
   "codemirror_mode": {
    "name": "ipython",
    "version": 3
   },
   "file_extension": ".py",
   "mimetype": "text/x-python",
   "name": "python",
   "nbconvert_exporter": "python",
   "pygments_lexer": "ipython3",
   "version": "3.8.5"
  }
 },
 "nbformat": 4,
 "nbformat_minor": 4
}
